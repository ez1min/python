{
 "cells": [
  {
   "cell_type": "markdown",
   "id": "89a56343-64eb-4a5e-9680-729be604e069",
   "metadata": {},
   "source": [
    "## 리스트 자료형\n"
   ]
  },
  {
   "cell_type": "code",
   "execution_count": null,
   "id": "8b444606-da5b-4cab-ac2e-9fd0a48a70c7",
   "metadata": {},
   "outputs": [],
   "source": [
    "odd = [1.3.5.7.9]\n"
   ]
  },
  {
   "cell_type": "code",
   "execution_count": 25,
   "id": "d0178e41-8a6d-4559-be0a-e1db4155366e",
   "metadata": {},
   "outputs": [
    {
     "name": "stdout",
     "output_type": "stream",
     "text": [
      "['Life', 'is']\n",
      "Life\n",
      "is\n",
      "5\n",
      "Lifeshort\n",
      "LifeLifeLife\n",
      "5\n",
      "too\n"
     ]
    }
   ],
   "source": [
    "#리스트 인덱싱 연산\n",
    "a = []\n",
    "b = [1,2,3,]\n",
    "c=['Life', 'is','too','short']\n",
    "d=[1,2,'Life','is']\n",
    "e=[1,2,['Life','is']]\n",
    "print(e[2])\n",
    "print(e[2][0])\n",
    "print(e[2][1])\n",
    "\n",
    "print(b[1]+b[2])\n",
    "print(c[0]+c[3])\n",
    "\n",
    "print(c[0]*b[2])\n",
    "print(b[1]+b[2])\n",
    "print(c[-2])"
   ]
  },
  {
   "cell_type": "code",
   "execution_count": 42,
   "id": "f7054f63-0cd1-4590-82f8-da2948fd1514",
   "metadata": {},
   "outputs": [
    {
     "name": "stdout",
     "output_type": "stream",
     "text": [
      "[11, 22, 33, 44, 55]\n",
      "[33, 44, 55]\n",
      "[33, 44, 55]\n",
      "[11, 22]\n",
      "[44, 55]\n",
      "[55, 44, 33, 22, 11]\n"
     ]
    }
   ],
   "source": [
    "#리스트의 슬라이싱\n",
    "a = [11,22,33,44,55]\n",
    "print(a[:]) # 0생략 , 젤끝\n",
    "print(a[2:])\n",
    "print(a[2:])\n",
    "print(a[:-3])\n",
    "print(a[-2:])\n",
    "print(a[::-1])\n",
    "\n"
   ]
  },
  {
   "cell_type": "code",
   "execution_count": 44,
   "id": "00b533c3-71b3-4a7b-9443-91bc15afd27f",
   "metadata": {},
   "outputs": [
    {
     "data": {
      "text/plain": [
       "[2, 3]"
      ]
     },
     "execution_count": 44,
     "metadata": {},
     "output_type": "execute_result"
    }
   ],
   "source": [
    "\n",
    "#\n",
    "a=[1,2,3,4,5]\n",
    "a[1:3]"
   ]
  },
  {
   "cell_type": "markdown",
   "id": "71429505-993c-4f42-80e2-4d39c4d4fda0",
   "metadata": {},
   "source": [
    "## 리스트의 인덱싱과 슬라이싱"
   ]
  },
  {
   "cell_type": "markdown",
   "id": "9513bb42-3dfc-4919-a952-ab258998dcb2",
   "metadata": {},
   "source": [
    "### 리스트 연산하기"
   ]
  },
  {
   "cell_type": "code",
   "execution_count": 61,
   "id": "6d332549-d8f8-486e-8d10-03c23239b58b",
   "metadata": {},
   "outputs": [
    {
     "name": "stdout",
     "output_type": "stream",
     "text": [
      "[11, 22, 33, 44, 55, 66]\n",
      "[11, 22, 33, 11, 22, 33, 11, 22, 33]\n"
     ]
    },
    {
     "data": {
      "text/plain": [
       "9"
      ]
     },
     "execution_count": 61,
     "metadata": {},
     "output_type": "execute_result"
    }
   ],
   "source": [
    "a = [11,22,33]\n",
    "b = [44,55,66]\n",
    "c= a*3\n",
    "print(a+b) #더하기\n",
    "print(a * 3) #리스트 반복\n",
    "len(c)"
   ]
  },
  {
   "cell_type": "code",
   "execution_count": 58,
   "id": "a3978b16-53fc-481e-8573-b5f262f81387",
   "metadata": {},
   "outputs": [
    {
     "name": "stdout",
     "output_type": "stream",
     "text": [
      "[11, 22, 44]\n",
      "[11, 44]\n"
     ]
    }
   ],
   "source": [
    "#리스트 값 수정\n",
    "a=[11,22,33]\n",
    "a[2] = 44\n",
    "print(a)\n",
    "#a[3] = 55 없는 요소를 수정하는 것응ㄴ 에러\n",
    "#print(a)\n",
    "#a[1]= 0 0으로 수정 삽입\n",
    "#print(a)\n",
    "del a[1]\n",
    "print(a)"
   ]
  },
  {
   "cell_type": "code",
   "execution_count": 62,
   "id": "e23b5876-7171-4ec2-891b-a6b0b9ffd49e",
   "metadata": {},
   "outputs": [
    {
     "name": "stdout",
     "output_type": "stream",
     "text": [
      "[11, 22, 33, 11, 22, 33, 11, 22, 33]\n",
      "[22, 33, 11, 22, 33]\n"
     ]
    }
   ],
   "source": [
    "print(c)\n",
    "del c[:4]\n",
    "print(c)"
   ]
  },
  {
   "cell_type": "markdown",
   "id": "10ee0a60-ed46-406d-979a-de4539e34f3f",
   "metadata": {},
   "source": [
    "### 리스트관련함수 "
   ]
  },
  {
   "cell_type": "code",
   "execution_count": 63,
   "id": "41ddb1b5-04a6-42f9-ae6b-e71a2e5a40cf",
   "metadata": {},
   "outputs": [
    {
     "name": "stdout",
     "output_type": "stream",
     "text": [
      "[]\n"
     ]
    }
   ],
   "source": [
    "#리스트요소비우기\n",
    "c.clear()\n",
    "print(c)"
   ]
  },
  {
   "cell_type": "code",
   "execution_count": null,
   "id": "fef4a4e0-05a0-41c4-ab5d-5bb5eebdfe39",
   "metadata": {},
   "outputs": [],
   "source": [
    "a=[]"
   ]
  },
  {
   "cell_type": "code",
   "execution_count": 66,
   "id": "6c0487ce-756e-4eab-849a-781ce9ad7401",
   "metadata": {},
   "outputs": [
    {
     "name": "stdout",
     "output_type": "stream",
     "text": [
      "[4, 4]\n",
      "[4, 4, [11, 22]]\n"
     ]
    }
   ],
   "source": [
    "a.append(4)\n",
    "print(a)\n",
    "a.append([11,22])\n",
    "\n",
    "print(a)"
   ]
  },
  {
   "cell_type": "code",
   "execution_count": null,
   "id": "ef4eb04b-2ce7-4dd3-91e4-d7887be5eb17",
   "metadata": {},
   "outputs": [],
   "source": [
    "a"
   ]
  },
  {
   "cell_type": "code",
   "execution_count": 74,
   "id": "063f8fec-add0-4815-b7ad-be5020674890",
   "metadata": {},
   "outputs": [
    {
     "name": "stdout",
     "output_type": "stream",
     "text": [
      "[1]\n"
     ]
    }
   ],
   "source": [
    "num =0\n",
    "num+=1\n",
    "b.append(num)\n",
    "print(b)"
   ]
  },
  {
   "cell_type": "code",
   "execution_count": 73,
   "id": "7a2cf467-91d6-4d40-ab3f-cc5d57936d89",
   "metadata": {
    "scrolled": true
   },
   "outputs": [
    {
     "name": "stdout",
     "output_type": "stream",
     "text": [
      "[11, 22, 33, 44, 55]\n"
     ]
    }
   ],
   "source": [
    "#리스트 정렬 -sort\n",
    "a=[11,44,33,22,55]\n",
    "a.sort()\n",
    "print(a)"
   ]
  },
  {
   "cell_type": "code",
   "execution_count": 77,
   "id": "d8e84c6a-1f30-4464-a7ce-05d471f18d50",
   "metadata": {},
   "outputs": [
    {
     "name": "stdout",
     "output_type": "stream",
     "text": [
      "[55, 44, 33, 22, 11]\n"
     ]
    }
   ],
   "source": [
    "#리스트 정렬 -sort 내림차\n",
    "a=[11,44,33,22,55]\n",
    "a.sort(reverse=True)\n",
    "print(a)"
   ]
  },
  {
   "cell_type": "code",
   "execution_count": 80,
   "id": "672347c3-e940-4747-9955-90306f1d5281",
   "metadata": {},
   "outputs": [
    {
     "name": "stdout",
     "output_type": "stream",
     "text": [
      "[66, 77, 88, 99, 0]\n",
      "[0, 66, 77, 88, 99]\n"
     ]
    }
   ],
   "source": [
    "#리스트정렬 원본유지\n",
    "aa=[66,77,88,99,0]\n",
    "bb= sorted(aa)\n",
    "\n",
    "print(aa)\n",
    "print(bb)"
   ]
  },
  {
   "cell_type": "code",
   "execution_count": 105,
   "id": "3cf748ed-a0a0-4e5c-a333-09b7b801bc9b",
   "metadata": {},
   "outputs": [
    {
     "name": "stdout",
     "output_type": "stream",
     "text": [
      "['kiwi', 'pear', 'melon', 'apple', 'banana', 'orange', 'blueberry', 'strawberry']\n",
      "['strawberry', 'blueberry', 'banana', 'orange', 'melon', 'apple', 'kiwi', 'pear']\n",
      "kiwi냠냠\n",
      "pear냠냠\n",
      "melon냠냠\n",
      "apple냠냠\n",
      "banana못먹겟어\n",
      "orange냠냠\n",
      "blueberry냠냠\n",
      "strawberry냠냠\n",
      "다먹었다\n"
     ]
    }
   ],
   "source": [
    "#sorted 응용\n",
    "fruit = ['banana', 'kiwi','orange','melon','pear','apple','strawberry','blueberry']\n",
    "result = sorted(fruit,key=len)\n",
    "result2 = sorted(fruit,key=len,reverse=True)\n",
    "print(result)\n",
    "print(result2)\n",
    "\n",
    "for r in result:\n",
    "    if r=='banana':\n",
    "        print(r+'못먹겟어')\n",
    "    if r!='banana':\n",
    "        print(r + '냠냠')\n",
    "print('다먹었다')"
   ]
  },
  {
   "cell_type": "code",
   "execution_count": 94,
   "id": "ed85a4d6-1dd8-4314-9aa6-13964e2bb6d3",
   "metadata": {},
   "outputs": [
    {
     "name": "stdout",
     "output_type": "stream",
     "text": [
      "[55, 22, 33, 44, 11]\n"
     ]
    }
   ],
   "source": [
    "#리스트 뒤집기 \n",
    "a = [11,44,33,22,55]\n",
    "a.reverse()\n",
    "print(a)"
   ]
  },
  {
   "cell_type": "code",
   "execution_count": 73,
   "id": "0e45436c-4fb6-4c0b-876b-5f336c20d299",
   "metadata": {},
   "outputs": [
    {
     "name": "stdout",
     "output_type": "stream",
     "text": [
      "[11, 22, 33, 44, 55]\n"
     ]
    }
   ],
   "source": [
    "fruit = ['banana', 'kiwi','orange','melon','pear','apple','strawberry','blueberry']\n",
    "fruit.index('melon')"
   ]
  },
  {
   "cell_type": "code",
   "execution_count": 100,
   "id": "0f1d208a-d0b2-43d0-bb92-0bfbeda0ae81",
   "metadata": {},
   "outputs": [
    {
     "name": "stdin",
     "output_type": "stream",
     "text": [
      "먹고 싶은 과일을 입력하세요 melon\n"
     ]
    },
    {
     "name": "stdout",
     "output_type": "stream",
     "text": [
      "melon 를 좋아하시군요 그것은 4 번 째에 있습니다.\n"
     ]
    }
   ],
   "source": [
    "fruit = ['banana', 'kiwi','orange','melon','pear','apple','strawberry','blueberry']\n",
    "want = input('먹고 싶은 과일을 입력하세요')\n",
    "where = fruit.index(want)\n",
    "print(f'{want} 를 좋아하시군요 그것은 {where+1} 번 째에 있습니다.')\n"
   ]
  },
  {
   "cell_type": "code",
   "execution_count": 108,
   "id": "3c29f411-f30e-4e3b-a948-e420495bc6d8",
   "metadata": {},
   "outputs": [
    {
     "name": "stdout",
     "output_type": "stream",
     "text": [
      "[11, 22, 33, 44, 55, 66, 77, 88]\n"
     ]
    }
   ],
   "source": [
    "#리스트에 요소 삽입 - insert\n",
    "num = [11,22,33,55,66,77,88,]\n",
    "num.insert(3,44) #3 위치 44 원하는값\n",
    "print(num)\n"
   ]
  },
  {
   "cell_type": "code",
   "execution_count": null,
   "id": "8f10000d-af15-4212-b50d-dd306e181a44",
   "metadata": {},
   "outputs": [],
   "source": [
    "ex = []"
   ]
  },
  {
   "cell_type": "code",
   "execution_count": 118,
   "id": "74e893de-0cb7-4bb6-9e59-59015c0b6d6c",
   "metadata": {},
   "outputs": [
    {
     "name": "stdout",
     "output_type": "stream",
     "text": [
      "['맨앞', '맨앞', 11, 11, 11, 11, 1, '-1인덱스', 3, 3]\n",
      "['맨앞', '맨앞', 11, 11, 11, 11, 1, '-1인덱스', 3, '-1인덱스', 3]\n",
      "['맨앞', '맨앞', '맨앞', 11, 11, 11, 11, 1, '-1인덱스', 3, '-1인덱스', 3]\n",
      "['맨앞', '맨앞', '맨앞', 11, 11, 11, 11, 1, '-1인덱스', 3, '-1인덱스', 3, '제일 끝']\n"
     ]
    }
   ],
   "source": [
    "ex.insert(0,'맨앞')\n",
    "print(ex)\n",
    "ex.insert(-1,'-1인덱스')\n",
    "print(ex)\n",
    "ex.insert(0,'맨앞')\n",
    "print(ex)\n",
    "ex.insert(len(ex),'제일 끝') #len 길이 반영 가능 \n",
    "print(ex)"
   ]
  },
  {
   "cell_type": "code",
   "execution_count": null,
   "id": "6e25cbad-05e3-4a4b-91e4-99765b0dbbab",
   "metadata": {},
   "outputs": [],
   "source": []
  },
  {
   "cell_type": "code",
   "execution_count": null,
   "id": "bb4b652d-931a-4e55-9dbf-5a841c114b57",
   "metadata": {},
   "outputs": [],
   "source": []
  }
 ],
 "metadata": {
  "kernelspec": {
   "display_name": "Python 3 (ipykernel)",
   "language": "python",
   "name": "python3"
  },
  "language_info": {
   "codemirror_mode": {
    "name": "ipython",
    "version": 3
   },
   "file_extension": ".py",
   "mimetype": "text/x-python",
   "name": "python",
   "nbconvert_exporter": "python",
   "pygments_lexer": "ipython3",
   "version": "3.13.1"
  }
 },
 "nbformat": 4,
 "nbformat_minor": 5
}
