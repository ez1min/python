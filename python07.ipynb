{
 "cells": [
  {
   "cell_type": "code",
   "execution_count": 8,
   "id": "a23787a6-effd-4cb9-8893-4bbff2785cd0",
   "metadata": {},
   "outputs": [
    {
     "name": "stdin",
     "output_type": "stream",
     "text": [
      "기분 한문장으로:  ee\n"
     ]
    },
    {
     "name": "stdout",
     "output_type": "stream",
     "text": [
      "[] 0\n",
      "[] 0\n",
      "0\n"
     ]
    }
   ],
   "source": [
    "positive_words = [\"좋아\",\"행복\",\"멋져\"]\n",
    "negative_words = [\"싫어\",\"나빠\",\"화나\"]\n",
    "\n",
    "text = input(\"기분 한문장으로: \")\n",
    "\n",
    "# if any(word in text for word in positive_words):\n",
    "#     print(\"좋아보여\")\n",
    "# elif any(word in text for word in negative_words):\n",
    "#     print(\"나빠보여\")\n",
    "\n",
    "pos = [v for v in positive_words if v in text]\n",
    "print(pos,len(pos))\n",
    "neg = [a for a in negative_words if a in text]\n",
    "print(neg,len(neg))\n",
    "\n",
    "pnum = 0\n",
    "text = text.split(\" \")\n",
    "for v in positive_words:\n",
    "    for s in text:\n",
    "        if v == s:\n",
    "            pnum += 1\n",
    "for x in negative_words:\n",
    "    for y in text: \n",
    "        if x == y:\n",
    "            pnum -= 1\n",
    "            print(pnum)\n",
    "print(pnum)"
   ]
  },
  {
   "cell_type": "code",
   "execution_count": 4,
   "id": "c47c335a-b280-46cd-84dd-605b98ab9b72",
   "metadata": {},
   "outputs": [
    {
     "name": "stdout",
     "output_type": "stream",
     "text": [
      "Collecting konlpy\n",
      "  Downloading konlpy-0.6.0-py2.py3-none-any.whl.metadata (1.9 kB)\n",
      "Collecting JPype1>=0.7.0 (from konlpy)\n",
      "  Downloading jpype1-1.5.2-cp313-cp313-win_amd64.whl.metadata (5.0 kB)\n",
      "Collecting lxml>=4.1.0 (from konlpy)\n",
      "  Downloading lxml-5.3.1-cp313-cp313-win_amd64.whl.metadata (3.8 kB)\n",
      "Collecting numpy>=1.6 (from konlpy)\n",
      "  Downloading numpy-2.2.3-cp313-cp313-win_amd64.whl.metadata (60 kB)\n",
      "Requirement already satisfied: packaging in c:\\dev\\lang\\python313\\lib\\site-packages (from JPype1>=0.7.0->konlpy) (24.2)\n",
      "Downloading konlpy-0.6.0-py2.py3-none-any.whl (19.4 MB)\n",
      "   ---------------------------------------- 0.0/19.4 MB ? eta -:--:--\n",
      "   ------------------- -------------------- 9.7/19.4 MB 48.3 MB/s eta 0:00:01\n",
      "   ---------------------------------------- 19.4/19.4 MB 48.7 MB/s eta 0:00:00\n",
      "Downloading jpype1-1.5.2-cp313-cp313-win_amd64.whl (356 kB)\n",
      "Downloading lxml-5.3.1-cp313-cp313-win_amd64.whl (3.8 MB)\n",
      "   ---------------------------------------- 0.0/3.8 MB ? eta -:--:--\n",
      "   ---------------------------------------- 3.8/3.8 MB 58.4 MB/s eta 0:00:00\n",
      "Downloading numpy-2.2.3-cp313-cp313-win_amd64.whl (12.6 MB)\n",
      "   ---------------------------------------- 0.0/12.6 MB ? eta -:--:--\n",
      "   -------------------------------------- - 12.1/12.6 MB 61.2 MB/s eta 0:00:01\n",
      "   ---------------------------------------- 12.6/12.6 MB 56.6 MB/s eta 0:00:00\n",
      "Installing collected packages: numpy, lxml, JPype1, konlpy\n",
      "Successfully installed JPype1-1.5.2 konlpy-0.6.0 lxml-5.3.1 numpy-2.2.3\n"
     ]
    },
    {
     "name": "stderr",
     "output_type": "stream",
     "text": [
      "\n",
      "[notice] A new release of pip is available: 25.0 -> 25.0.1\n",
      "[notice] To update, run: python.exe -m pip install --upgrade pip\n"
     ]
    }
   ],
   "source": [
    "!pip install konlpy"
   ]
  },
  {
   "cell_type": "code",
   "execution_count": 2,
   "id": "d03d5c8e-6bad-4df6-b6b0-1af3cf1ec6d9",
   "metadata": {},
   "outputs": [
    {
     "name": "stdin",
     "output_type": "stream",
     "text": [
      "기분 한 문장 좋아서 멋지고 그래서 사랑해\n"
     ]
    },
    {
     "name": "stdout",
     "output_type": "stream",
     "text": [
      "['좋다', '멋지다', '그래서', '사랑', '하다']\n"
     ]
    }
   ],
   "source": [
    "from konlpy.tag import Okt\n",
    "\n",
    "okt = Okt()\n",
    "positive_word = [\"좋다\",\"행복\",\"멋지다\",\"최고\"]\n",
    "negative_words = [\"싫다\",\"나쁘다\",\"화나다\",\"별로\",\"짜증\"]\n",
    "text = input(\"기분 한 문장\")\n",
    "\n",
    "words = okt.morphs(text, stem = True)\n",
    "print(words)\n"
   ]
  },
  {
   "cell_type": "code",
   "execution_count": 3,
   "id": "7a002221-c31a-43b5-a669-f2e92ab6c6d5",
   "metadata": {},
   "outputs": [
    {
     "name": "stderr",
     "output_type": "stream",
     "text": [
      "Unrecognized option: -\n",
      "Error: Could not create the Java Virtual Machine.\n",
      "Error: A fatal exception has occurred. Program will exit.\n"
     ]
    }
   ],
   "source": [
    "!java - version"
   ]
  },
  {
   "cell_type": "code",
   "execution_count": 2,
   "id": "2cde83a4-ee37-41f1-bad0-323f90cf4a93",
   "metadata": {},
   "outputs": [
    {
     "name": "stdout",
     "output_type": "stream",
     "text": [
      "1 순위 과일은:  apple\n",
      "2 순위 과일은:  banana\n",
      "3 순위 과일은:  kiwi\n",
      "4 순위 과일은:  cherry\n",
      "5 순위 과일은:  mango\n"
     ]
    }
   ],
   "source": [
    "fruit = ['apple','banana','kiwi','cherry','mango']\n",
    "for i, f in enumerate(fruit,start = 1):\n",
    "    print(i,'순위 과일은: ',f)"
   ]
  },
  {
   "cell_type": "code",
   "execution_count": 3,
   "id": "d117f8d1-70cc-465c-8a87-eec0bfa3bd6d",
   "metadata": {},
   "outputs": [
    {
     "data": {
      "text/plain": [
       "3"
      ]
     },
     "execution_count": 3,
     "metadata": {},
     "output_type": "execute_result"
    }
   ],
   "source": [
    "eval('1+2')"
   ]
  },
  {
   "cell_type": "code",
   "execution_count": 4,
   "id": "a6f2ec4d-08e0-4559-92b9-0b829354d6d6",
   "metadata": {},
   "outputs": [
    {
     "data": {
      "text/plain": [
       "'A+1'"
      ]
     },
     "execution_count": 4,
     "metadata": {},
     "output_type": "execute_result"
    }
   ],
   "source": [
    "eval(\"'A+1'\")"
   ]
  },
  {
   "cell_type": "code",
   "execution_count": 3,
   "id": "1d4b7ea8-8b6d-44b8-a166-cd14bf7366eb",
   "metadata": {},
   "outputs": [
    {
     "name": "stdout",
     "output_type": "stream",
     "text": [
      "[1, 2, 6]\n"
     ]
    }
   ],
   "source": [
    "def pos(l):\n",
    "    return [i for i in l if i > 0]\n",
    "print(pos([1,-3,2,0,-5,6]))"
   ]
  },
  {
   "cell_type": "code",
   "execution_count": 5,
   "id": "b8e75c44-1de2-45d1-bbdd-4e6adabfb064",
   "metadata": {},
   "outputs": [
    {
     "name": "stdout",
     "output_type": "stream",
     "text": [
      "[1, 2, 6]\n"
     ]
    }
   ],
   "source": [
    "l = [1,-3,2,0,-5,6]\n",
    "def positive(x):\n",
    "    return x>0\n",
    "print(list(filter(positive,l)))\n"
   ]
  },
  {
   "cell_type": "code",
   "execution_count": 7,
   "id": "42ca9a73-8dd1-436d-9837-a6ea47ecb2bf",
   "metadata": {},
   "outputs": [
    {
     "name": "stdout",
     "output_type": "stream",
     "text": [
      "[1, 2, 6]\n"
     ]
    }
   ],
   "source": [
    "print(list(filter(lambda x : x > 0,l)))"
   ]
  },
  {
   "cell_type": "code",
   "execution_count": 8,
   "id": "8edacf40-370c-4be4-b4b9-a45bf79d969e",
   "metadata": {},
   "outputs": [
    {
     "name": "stdout",
     "output_type": "stream",
     "text": [
      "A\n",
      "가\n",
      "65\n",
      "44032\n"
     ]
    }
   ],
   "source": [
    "print(chr(65))\n",
    "print(chr(44032))\n",
    "print(ord('A'))\n",
    "print(ord('가'))"
   ]
  },
  {
   "cell_type": "code",
   "execution_count": 4,
   "id": "b5233677-d645-4c1b-9e12-2b3c1ba941e2",
   "metadata": {},
   "outputs": [
    {
     "name": "stdout",
     "output_type": "stream",
     "text": [
      "140724128580584\n",
      "140724128580584\n",
      "140724128580584\n",
      "True\n"
     ]
    }
   ],
   "source": [
    "# id 고유주소값 리턴\n",
    "a=3\n",
    "print(id(3))\n",
    "print(id(a))\n",
    "\n",
    "b = a\n",
    "print(id(b))\n",
    "print(all([id(3)==id(a),id(a)==id(b),id(b)==id(3)]))"
   ]
  },
  {
   "cell_type": "code",
   "execution_count": 3,
   "id": "a2224002-57ba-4c26-8cd1-96fba6a4d6ff",
   "metadata": {},
   "outputs": [
    {
     "name": "stdout",
     "output_type": "stream",
     "text": [
      "사람\n",
      "사람\n",
      "True\n",
      "True\n",
      "False\n"
     ]
    }
   ],
   "source": [
    "#isinstance (object,class) 인자로 \n",
    "\n",
    "class Person:\n",
    "    def p(self):\n",
    "        return(\"사람\")\n",
    "class Animal:pass\n",
    "a = Person()\n",
    "b = Person()\n",
    "c = Animal()\n",
    "\n",
    "print(a.p())\n",
    "print(b.p())\n",
    "\n",
    "print(isinstance(a,Person))\n",
    "print(isinstance(b,Person))\n",
    "print(isinstance(c,Person))\n"
   ]
  },
  {
   "cell_type": "code",
   "execution_count": null,
   "id": "e1924ec0-8c46-4a2b-8244-f9eb668efde2",
   "metadata": {},
   "outputs": [],
   "source": [
    "#len\n",
    "\n",
    "proint(\"python\")\n",
    "paon(len(1,2,3,4,))\n",
    "\n",
    "\n"
   ]
  },
  {
   "cell_type": "code",
   "execution_count": 6,
   "id": "ea688389-ea6f-4c5c-ac63-1b44e34993fe",
   "metadata": {},
   "outputs": [
    {
     "name": "stdout",
     "output_type": "stream",
     "text": [
      "[1, 3, 5]\n",
      "[2, 4, 6]\n",
      "[11, 12, 13, 14, 15, 16]\n",
      "[1, 4, 9, 16, 25, 36]\n",
      "[11, 24, 39, 56, 75, 96]\n"
     ]
    }
   ],
   "source": [
    "li = [1,2,3,4,5,6]\n",
    "def odd(x):\n",
    "    return x%2 !=0\n",
    "def even(x):\n",
    "    return x%2 == 0\n",
    "def add(x):\n",
    "    return x + 10\n",
    "def mul(x):\n",
    "    return x * x\n",
    "def addmul(x):\n",
    "    return (x+10)*x\n",
    "print(list(filter(odd,li)))\n",
    "print(list(filter(even,li)))\n",
    "print(list(map(add,li)))\n",
    "print(list(map(mul,li)))\n",
    "print(list(map(addmul,li)))\n"
   ]
  },
  {
   "cell_type": "code",
   "execution_count": 1,
   "id": "a854b3ad-133e-4c3c-9f21-83549b836138",
   "metadata": {},
   "outputs": [
    {
     "ename": "FileNotFoundError",
     "evalue": "[Errno 2] No such file or directory: 'README.md'",
     "output_type": "error",
     "traceback": [
      "\u001b[1;31m---------------------------------------------------------------------------\u001b[0m",
      "\u001b[1;31mFileNotFoundError\u001b[0m                         Traceback (most recent call last)",
      "Cell \u001b[1;32mIn[1], line 3\u001b[0m\n\u001b[0;32m      1\u001b[0m \u001b[38;5;66;03m# *open\u001b[39;00m\n\u001b[1;32m----> 3\u001b[0m f \u001b[38;5;241m=\u001b[39m \u001b[38;5;28;43mopen\u001b[39;49m\u001b[43m(\u001b[49m\u001b[38;5;124;43m'\u001b[39;49m\u001b[38;5;124;43mREADME.md\u001b[39;49m\u001b[38;5;124;43m'\u001b[39;49m\u001b[43m,\u001b[49m\u001b[38;5;124;43m'\u001b[39;49m\u001b[38;5;124;43mr\u001b[39;49m\u001b[38;5;124;43m'\u001b[39;49m\u001b[43m,\u001b[49m\u001b[43mencoding\u001b[49m\u001b[43m \u001b[49m\u001b[38;5;241;43m=\u001b[39;49m\u001b[43m \u001b[49m\u001b[38;5;124;43m\"\u001b[39;49m\u001b[38;5;124;43mutf-8\u001b[39;49m\u001b[38;5;124;43m\"\u001b[39;49m\u001b[43m)\u001b[49m\n\u001b[0;32m      4\u001b[0m f\u001b[38;5;241m.\u001b[39mread()\n",
      "File \u001b[1;32mC:\\Dev\\Lang\\Python313\\Lib\\site-packages\\IPython\\core\\interactiveshell.py:324\u001b[0m, in \u001b[0;36m_modified_open\u001b[1;34m(file, *args, **kwargs)\u001b[0m\n\u001b[0;32m    317\u001b[0m \u001b[38;5;28;01mif\u001b[39;00m file \u001b[38;5;129;01min\u001b[39;00m {\u001b[38;5;241m0\u001b[39m, \u001b[38;5;241m1\u001b[39m, \u001b[38;5;241m2\u001b[39m}:\n\u001b[0;32m    318\u001b[0m     \u001b[38;5;28;01mraise\u001b[39;00m \u001b[38;5;167;01mValueError\u001b[39;00m(\n\u001b[0;32m    319\u001b[0m         \u001b[38;5;124mf\u001b[39m\u001b[38;5;124m\"\u001b[39m\u001b[38;5;124mIPython won\u001b[39m\u001b[38;5;124m'\u001b[39m\u001b[38;5;124mt let you open fd=\u001b[39m\u001b[38;5;132;01m{\u001b[39;00mfile\u001b[38;5;132;01m}\u001b[39;00m\u001b[38;5;124m by default \u001b[39m\u001b[38;5;124m\"\u001b[39m\n\u001b[0;32m    320\u001b[0m         \u001b[38;5;124m\"\u001b[39m\u001b[38;5;124mas it is likely to crash IPython. If you know what you are doing, \u001b[39m\u001b[38;5;124m\"\u001b[39m\n\u001b[0;32m    321\u001b[0m         \u001b[38;5;124m\"\u001b[39m\u001b[38;5;124myou can use builtins\u001b[39m\u001b[38;5;124m'\u001b[39m\u001b[38;5;124m open.\u001b[39m\u001b[38;5;124m\"\u001b[39m\n\u001b[0;32m    322\u001b[0m     )\n\u001b[1;32m--> 324\u001b[0m \u001b[38;5;28;01mreturn\u001b[39;00m \u001b[43mio_open\u001b[49m\u001b[43m(\u001b[49m\u001b[43mfile\u001b[49m\u001b[43m,\u001b[49m\u001b[43m \u001b[49m\u001b[38;5;241;43m*\u001b[39;49m\u001b[43margs\u001b[49m\u001b[43m,\u001b[49m\u001b[43m \u001b[49m\u001b[38;5;241;43m*\u001b[39;49m\u001b[38;5;241;43m*\u001b[39;49m\u001b[43mkwargs\u001b[49m\u001b[43m)\u001b[49m\n",
      "\u001b[1;31mFileNotFoundError\u001b[0m: [Errno 2] No such file or directory: 'README.md'"
     ]
    }
   ],
   "source": [
    "# *open\n",
    "\n",
    "f = open('README.md','r',encoding = \"utf-8\")\n",
    "f.read()"
   ]
  },
  {
   "cell_type": "code",
   "execution_count": 2,
   "id": "bdcca983-325f-4939-b7b3-6bb1136a596c",
   "metadata": {},
   "outputs": [
    {
     "name": "stdout",
     "output_type": "stream",
     "text": [
      "32\n"
     ]
    }
   ],
   "source": [
    "print(pow(2,5))"
   ]
  },
  {
   "cell_type": "code",
   "execution_count": 6,
   "id": "cb455bd6-89f4-4ac5-bde8-dcaec0434d86",
   "metadata": {},
   "outputs": [
    {
     "name": "stdout",
     "output_type": "stream",
     "text": [
      "[0, 1, 2, 3, 4]\n",
      "[5, 6, 7, 8, 9]\n",
      "[5, 7, 9]\n",
      "[15, 14, 13, 12, 11, 10, 9, 8, 7, 6, 5, 4, 3, 2, 1]\n"
     ]
    }
   ],
   "source": [
    "print(list(range(5)))\n",
    "print(list(range(5,10)))\n",
    "print(list(range(5,10,2)))\n",
    "print(list(range(15,0,-1)))\n"
   ]
  },
  {
   "cell_type": "code",
   "execution_count": 7,
   "id": "b21b7d3a-93cd-4ecc-b2ef-b95ea7a3778e",
   "metadata": {},
   "outputs": [
    {
     "name": "stdout",
     "output_type": "stream",
     "text": [
      "apple => ['dog', 'cat', 'elephant', 'lion', 'rabbit']\n",
      "banana => ['dog', 'cat', 'elephant', 'lion', 'rabbit']\n",
      "kiwi => ['dog', 'cat', 'elephant', 'lion', 'rabbit']\n",
      "cherry => ['dog', 'cat', 'elephant', 'lion', 'rabbit']\n",
      "mango => ['dog', 'cat', 'elephant', 'lion', 'rabbit']\n"
     ]
    }
   ],
   "source": [
    "#*& type\n",
    "\n",
    "# zip**\n",
    "fruit = ['apple','banana','kiwi','cherry','mango']\n",
    "animal = ['dog','cat','elephant','lion','rabbit']\n",
    "\n",
    "for f,a in zip(fruit,animal):\n",
    "    print(f,'=>',animal)\n",
    "\n"
   ]
  },
  {
   "cell_type": "code",
   "execution_count": 12,
   "id": "2399197a-fd5a-4abe-b077-64113515bb42",
   "metadata": {},
   "outputs": [
    {
     "data": {
      "text/plain": [
       "172"
      ]
     },
     "execution_count": 12,
     "metadata": {},
     "output_type": "execute_result"
    }
   ],
   "source": [
    "import datetime\n",
    "day1 = datetime.date(2025,2,3)\n",
    "day2= datetime.date(2025,7,25)\n",
    "\n",
    "diff = day2 - day1\n",
    "diff.days\n",
    "\n",
    "#datetime.datetime.now()"
   ]
  },
  {
   "cell_type": "code",
   "execution_count": 8,
   "id": "34676667-afe6-4122-8cdc-d6cf34620a7d",
   "metadata": {},
   "outputs": [
    {
     "name": "stdin",
     "output_type": "stream",
     "text": [
      "생년월일을 yyyy mm dd 형식으로 입력하세요:  2000 11 02\n"
     ]
    },
    {
     "name": "stdout",
     "output_type": "stream",
     "text": [
      "생일로 부터 8875 일 지났습니다\n",
      "그날은 목요일 입니다.\n"
     ]
    }
   ],
   "source": [
    "import datetime\n",
    "\n",
    "days = ['월','화','수','목','금','토','일']\n",
    "#input 값이 문자열이므로 datetime 함수는 에러 발생함-> split 함수로 으로 정수 변환함\n",
    "year, month, day = map(int, input(\"생년월일을 yyyy mm dd 형식으로 입력하세요: \").split())\n",
    "\n",
    "birthday = datetime.date(year,month,day)\n",
    "day =datetime.date(year,month,day)\n",
    "today = datetime.datetime.now().date()\n",
    "\n",
    "\n",
    "#print(\"생일:\", birthday)\n",
    "\n",
    "diff =today - birthday\n",
    "print(f\"생일로 부터 {diff.days} 일 지났습니다\" )\n",
    "print(\"그날은 \" + days[day.weekday()] + \"요일 입니다.\")\n",
    "\n"
   ]
  },
  {
   "cell_type": "code",
   "execution_count": 5,
   "id": "2e25675b-843f-48b7-9da4-dfa55ba0548f",
   "metadata": {},
   "outputs": [
    {
     "name": "stdout",
     "output_type": "stream",
     "text": [
      "-f\n",
      "C:\\Users\\Admin\\AppData\\Roaming\\jupyter\\runtime\\kernel-837834d5-894a-4311-bfc5-2a769130e02c.json\n"
     ]
    }
   ],
   "source": [
    "import sys \n",
    "#명령 줄 인수 처리하기 위한 임포트\n",
    "\n",
    "\n",
    "\n",
    "#def memo_input():\n",
    "#sys.argv[0] = memo.py\n",
    "option = sys.argv[1] #옵션 -a\n",
    "memo = sys.argv[2] #입력 값 \"Life is ~ \"\n",
    "#return option,memo  #반환\n",
    "\n",
    "if option == '-a':\n",
    "    with open('memo.txt','a')as file:\n",
    "        file.write(memo)\n",
    "        file.write('\\n')\n",
    "\n",
    "\n",
    "#option, memo = memo_input() #함수 호출, 반환값 출력\n",
    "print(option)\n",
    "print(memo)\n",
    "\n",
    "\n",
    "    "
   ]
  },
  {
   "cell_type": "code",
   "execution_count": 6,
   "id": "6992a921-92f6-45dc-9e36-cdad5ecc5bfd",
   "metadata": {},
   "outputs": [
    {
     "data": {
      "text/plain": [
       "'C:\\\\Program Files (x86)\\\\Common Files\\\\Oracle\\\\Java\\\\java8path;C:\\\\Program Files (x86)\\\\Common Files\\\\Oracle\\\\Java\\\\javapath;C:\\\\Dev\\\\Lang\\\\Python313\\\\Scripts\\\\;C:\\\\Dev\\\\Lang\\\\Python313\\\\;C:\\\\WINDOWS\\\\system32;C:\\\\WINDOWS;C:\\\\WINDOWS\\\\System32\\\\Wbem;C:\\\\WINDOWS\\\\System32\\\\WindowsPowerShell\\\\v1.0\\\\;C:\\\\WINDOWS\\\\System32\\\\OpenSSH\\\\;C:\\\\Program Files (x86)\\\\NVIDIA Corporation\\\\PhysX\\\\Common;C:\\\\Program Files\\\\Bandizip\\\\;C:\\\\Dev\\\\IDE\\\\Microsoft VS Code\\\\bin;C:\\\\Program Files\\\\Git\\\\cmd;C:\\\\Users\\\\Admin\\\\AppData\\\\Local\\\\Microsoft\\\\WindowsApps;C:\\\\Users\\\\Admin\\\\AppData\\\\Local\\\\GitHubDesktop\\\\bin'"
      ]
     },
     "execution_count": 6,
     "metadata": {},
     "output_type": "execute_result"
    }
   ],
   "source": [
    "import os\n",
    "os.environ['PATH']"
   ]
  },
  {
   "cell_type": "code",
   "execution_count": 10,
   "id": "b105af49-9e1c-4a67-828c-0a078c4c30a7",
   "metadata": {},
   "outputs": [
    {
     "name": "stdout",
     "output_type": "stream",
     "text": [
      "오류발생\n"
     ]
    }
   ],
   "source": [
    "def a():\n",
    "    return 1/0\n",
    "def b():\n",
    "    a()\n",
    "def main():\n",
    "    try:\n",
    "        b()\n",
    "    except:\n",
    "        print(\"오류발생\")\n",
    "\n",
    "main()\n",
    "        "
   ]
  },
  {
   "cell_type": "markdown",
   "id": "ee871528-f26e-420e-885a-14e67cea756b",
   "metadata": {},
   "source": [
    "## JSON"
   ]
  },
  {
   "cell_type": "code",
   "execution_count": null,
   "id": "908a4581-26bb-4a28-a956-f191d7c3ecd2",
   "metadata": {},
   "outputs": [],
   "source": [
    "{\n",
    "    \"name\":\"홍길동\"\n",
    "    \"birth\":\"0525\"\n",
    "    \"age\":30\n",
    "\n",
    "    \n",
    "}"
   ]
  },
  {
   "cell_type": "code",
   "execution_count": 6,
   "id": "b02008c6-c0fd-43a5-af79-f927e9b4c5d8",
   "metadata": {},
   "outputs": [
    {
     "name": "stdout",
     "output_type": "stream",
     "text": [
      "{\"userId\": 1, \"id\": 1, \"title\": \"delectus aut autem\", \"completed\": false, \"test\": \"\\u314e\\u3147\\u314e\\u3147\\u3139\"}\n"
     ]
    }
   ],
   "source": [
    "import requests\n",
    "import json\n",
    "url =\"https://jsonplaceholder.typicode.com/todos\" #읽기\n",
    "data = requests.get(url).json()[0]  #json->dict\n",
    "data['test']=\"ㅎㅇㅎㅇㄹ\"\n",
    "with open('todo.json','w')as f:\n",
    "    json.dump(data,f) #dict->json\n",
    "print(json.dumps(data))"
   ]
  },
  {
   "cell_type": "code",
   "execution_count": 4,
   "id": "c3e535a3-c2d3-4f0f-9170-b33f85e12414",
   "metadata": {},
   "outputs": [
    {
     "name": "stdout",
     "output_type": "stream",
     "text": [
      "{'userId': 1, 'id': 1, 'title': 'delectus aut autem', 'completed': False}\n"
     ]
    }
   ],
   "source": [
    "import json\n",
    "with open('todo.json')as f:\n",
    "    data = json.load(f) json-<dick\n",
    "print(data)"
   ]
  },
  {
   "cell_type": "code",
   "execution_count": 14,
   "id": "54e888b5-234d-4f7a-8508-cdd5284e0fff",
   "metadata": {},
   "outputs": [],
   "source": [
    "import urllib.request\n",
    "import time as t\n",
    "def get_posts(page):\n",
    " resource = f'https://jsonplaceholder.typicode.com/posts/{page}'\n",
    " with urllib.request.urlopen(resource) as s:\n",
    "    with open(f'./data/posts_{page}.html','wb')as f:\n",
    "        f.write(s.read())\n",
    "for n in range(1,11):\n",
    "    get_posts(n)\n",
    "    t.sleep(0.1)"
   ]
  },
  {
   "cell_type": "code",
   "execution_count": null,
   "id": "600183f6-66ed-48b9-9b04-758b658098d1",
   "metadata": {},
   "outputs": [],
   "source": []
  }
 ],
 "metadata": {
  "kernelspec": {
   "display_name": "Python 3 (ipykernel)",
   "language": "python",
   "name": "python3"
  },
  "language_info": {
   "codemirror_mode": {
    "name": "ipython",
    "version": 3
   },
   "file_extension": ".py",
   "mimetype": "text/x-python",
   "name": "python",
   "nbconvert_exporter": "python",
   "pygments_lexer": "ipython3",
   "version": "3.13.1"
  }
 },
 "nbformat": 4,
 "nbformat_minor": 5
}
