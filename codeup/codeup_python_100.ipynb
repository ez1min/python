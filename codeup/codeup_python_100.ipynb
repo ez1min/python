{
 "cells": [
  {
   "cell_type": "markdown",
   "id": "7639de50-3e42-4de5-8411-99d09e1fa212",
   "metadata": {},
   "source": [
    "# Codeup python 100"
   ]
  },
  {
   "cell_type": "code",
   "execution_count": null,
   "id": "0523b42d-f806-4b74-a223-8d7c4439cbbd",
   "metadata": {},
   "outputs": [],
   "source": []
  },
  {
   "cell_type": "code",
   "execution_count": null,
   "id": "ba54545e-32c7-4d57-8a0c-cad9af1670d9",
   "metadata": {},
   "outputs": [],
   "source": []
  },
  {
   "cell_type": "code",
   "execution_count": null,
   "id": "c7e7e222-c71c-4ddc-acf4-f0efee4da9ae",
   "metadata": {},
   "outputs": [],
   "source": []
  },
  {
   "cell_type": "code",
   "execution_count": 10,
   "id": "b744e880-cd0e-4bf2-abb8-19a31da3b44c",
   "metadata": {},
   "outputs": [
    {
     "name": "stdout",
     "output_type": "stream",
     "text": [
      "'Hello'\n"
     ]
    }
   ],
   "source": [
    "print(\"'Hello'\") #6004"
   ]
  },
  {
   "cell_type": "code",
   "execution_count": 8,
   "id": "e396e6e2-1d08-4148-879f-03a4b8643d59",
   "metadata": {},
   "outputs": [
    {
     "name": "stdout",
     "output_type": "stream",
     "text": [
      "\"Hello World\"\n"
     ]
    }
   ],
   "source": [
    "print('\"Hello World\"')#6005"
   ]
  },
  {
   "cell_type": "code",
   "execution_count": 12,
   "id": "b7b2fad2-9851-4a30-976d-9a03f35b0322",
   "metadata": {},
   "outputs": [
    {
     "name": "stdout",
     "output_type": "stream",
     "text": [
      "\"!@#$%^&*()'\n",
      "\"\n",
      "'\n"
     ]
    }
   ],
   "source": [
    "print(\"\\\"!@#$%^&*()\\'\") #6006\n",
    "print(\"\\\"\")\n",
    "print(\"\\'\")"
   ]
  },
  {
   "cell_type": "code",
   "execution_count": 82,
   "id": "1c4b9cb0-fbb7-488d-9dd5-570ff2515b33",
   "metadata": {},
   "outputs": [
    {
     "name": "stdout",
     "output_type": "stream",
     "text": [
      "\"C:\\Download\\'hello'.py\"\n"
     ]
    }
   ],
   "source": [
    "print(\"\\\"\"\"C:\\\\Download\\\\\\'hello'.py\"\"\\\"\")#6007"
   ]
  },
  {
   "cell_type": "code",
   "execution_count": 64,
   "id": "1b594e14-68a6-49c0-b6e4-34cd14904337",
   "metadata": {},
   "outputs": [
    {
     "name": "stdout",
     "output_type": "stream",
     "text": [
      "print(\"Hello\\nWorld\")\n"
     ]
    }
   ],
   "source": [
    "#print(\"print(\"\\\"\"Hello\"\"\\\\\"\"nWorld)) #6008\n",
    "print(\"print(\\\"Hello\"\"\\\\nWorld\\\")\")"
   ]
  },
  {
   "cell_type": "code",
   "execution_count": 83,
   "id": "b7ca10de-059d-451e-82fe-ea9e19f55457",
   "metadata": {},
   "outputs": [
    {
     "name": "stdin",
     "output_type": "stream",
     "text": [
      " a\n"
     ]
    },
    {
     "name": "stdout",
     "output_type": "stream",
     "text": [
      "a\n"
     ]
    }
   ],
   "source": [
    "a=input()             #6009\n",
    "print(a)"
   ]
  },
  {
   "cell_type": "code",
   "execution_count": 84,
   "id": "7910345f-1e99-41d7-8c0b-0a1fb3eb6edf",
   "metadata": {},
   "outputs": [
    {
     "name": "stdin",
     "output_type": "stream",
     "text": [
      " 2\n"
     ]
    }
   ],
   "source": [
    "a=int(input())         #6010\n",
    "print(a)"
   ]
  },
  {
   "cell_type": "code",
   "execution_count": null,
   "id": "553f2f7c-80be-4ae6-b45b-4eb95fb15cd6",
   "metadata": {},
   "outputs": [],
   "source": []
  }
 ],
 "metadata": {
  "kernelspec": {
   "display_name": "Python 3 (ipykernel)",
   "language": "python",
   "name": "python3"
  },
  "language_info": {
   "codemirror_mode": {
    "name": "ipython",
    "version": 3
   },
   "file_extension": ".py",
   "mimetype": "text/x-python",
   "name": "python",
   "nbconvert_exporter": "python",
   "pygments_lexer": "ipython3",
   "version": "3.13.1"
  }
 },
 "nbformat": 4,
 "nbformat_minor": 5
}
