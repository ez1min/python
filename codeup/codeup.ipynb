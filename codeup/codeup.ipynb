{
 "cells": [
  {
   "cell_type": "markdown",
   "id": "3fcd3fac-dd92-4d13-a311-a68364d4b8d2",
   "metadata": {},
   "source": [
    "## 1065"
   ]
  },
  {
   "cell_type": "code",
   "execution_count": 32,
   "id": "d9b1f224-d01b-47ea-8ef0-cdc9b91ca1b6",
   "metadata": {},
   "outputs": [
    {
     "name": "stdin",
     "output_type": "stream",
     "text": [
      " ㄹ\n"
     ]
    },
    {
     "ename": "ValueError",
     "evalue": "invalid literal for int() with base 10: 'ㄹ'",
     "output_type": "error",
     "traceback": [
      "\u001b[1;31m---------------------------------------------------------------------------\u001b[0m",
      "\u001b[1;31mValueError\u001b[0m                                Traceback (most recent call last)",
      "Cell \u001b[1;32mIn[32], line 1\u001b[0m\n\u001b[1;32m----> 1\u001b[0m a,b,c\u001b[38;5;241m=\u001b[39m\u001b[38;5;28mmap\u001b[39m(\u001b[38;5;28mint\u001b[39m ,\u001b[38;5;28minput\u001b[39m()\u001b[38;5;241m.\u001b[39msplit())\n\u001b[0;32m      2\u001b[0m \u001b[38;5;66;03m#input 문자열 입력 받음 \u001b[39;00m\n\u001b[0;32m      3\u001b[0m \u001b[38;5;28;01mif\u001b[39;00m (a\u001b[38;5;241m%\u001b[39m\u001b[38;5;241m2\u001b[39m\u001b[38;5;241m==\u001b[39m\u001b[38;5;241m0\u001b[39m):\n",
      "\u001b[1;31mValueError\u001b[0m: invalid literal for int() with base 10: 'ㄹ'"
     ]
    }
   ],
   "source": [
    "a,b,c=map(int ,input().split())\n",
    "#input 문자열 입력 받음, \n",
    "#split()를 사용해 길이 상관없이 공백 제거, 분리문자열 나눠줌 (문자 기준으로 문자열 나눈 뒤, 리스트 형태로 반환하는 함수\n",
    "#map 으로 숫자를 다중으로 입력 받음 map([값의 타입, 적용할 값])\n",
    "#int()를 통해 input 값 형 변환해서 숫자 입력 받음\n",
    "\n",
    "\n",
    "if (a%2==0):\n",
    "    print(a)\n",
    "    \n",
    "if (b%2==0):\n",
    "    print(b)\n",
    "\n",
    "if (c%2==0):\n",
    "    print(c)"
   ]
  },
  {
   "cell_type": "markdown",
   "id": "b944722a-4295-4665-b108-21e6b0f6923b",
   "metadata": {},
   "source": [
    "# 1066"
   ]
  },
  {
   "cell_type": "code",
   "execution_count": 46,
   "id": "45695ab2-b4f9-4456-8794-6766f6b701e6",
   "metadata": {},
   "outputs": [
    {
     "name": "stdin",
     "output_type": "stream",
     "text": [
      " not enough values to unpack (expected 3, got 1)\n"
     ]
    },
    {
     "ename": "ValueError",
     "evalue": "invalid literal for int() with base 10: 'not'",
     "output_type": "error",
     "traceback": [
      "\u001b[1;31m---------------------------------------------------------------------------\u001b[0m",
      "\u001b[1;31mValueError\u001b[0m                                Traceback (most recent call last)",
      "Cell \u001b[1;32mIn[46], line 1\u001b[0m\n\u001b[1;32m----> 1\u001b[0m a,b,c \u001b[38;5;241m=\u001b[39m \u001b[38;5;28mmap\u001b[39m(\u001b[38;5;28mint\u001b[39m,\u001b[38;5;28minput\u001b[39m()\u001b[38;5;241m.\u001b[39msplit())\n\u001b[0;32m      3\u001b[0m \u001b[38;5;28;01mif\u001b[39;00m(a\u001b[38;5;241m%\u001b[39m\u001b[38;5;241m2\u001b[39m\u001b[38;5;241m==\u001b[39m\u001b[38;5;241m0\u001b[39m):\n\u001b[0;32m      4\u001b[0m     \u001b[38;5;28mprint\u001b[39m(\u001b[38;5;124m'\u001b[39m\u001b[38;5;124meven\u001b[39m\u001b[38;5;124m'\u001b[39m)\n",
      "\u001b[1;31mValueError\u001b[0m: invalid literal for int() with base 10: 'not'"
     ]
    }
   ],
   "source": [
    "a,b,c = map(int,input().split())\n",
    "\n",
    "if(a%2==0):\n",
    "    print('even')\n",
    "else:\n",
    "    print('odd')\n",
    "\n",
    "if(b%2==0):\n",
    "    print('even')\n",
    "else:\n",
    "    print('odd')\n",
    "\n",
    "if(c%2==0):\n",
    "    print('even')\n",
    "else:\n",
    "    print('odd')\n",
    "\n",
    "#not enough values to unpack (expected 3, got 1) \n",
    "#if a만 했을때 이런 오류가 떳음, 저장할 값의 개수가 변수 개수보다 많아서 그럼"
   ]
  },
  {
   "cell_type": "markdown",
   "id": "f0aeab08-e261-42cd-b4e2-13e3fabec395",
   "metadata": {},
   "source": [
    "# 1067\n",
    "#### 정수 1개가 입력 되었을때, 음,양,짝,홀을 출력해보자"
   ]
  },
  {
   "cell_type": "code",
   "execution_count": 223,
   "id": "f4803b19-3065-4d07-9f47-0de810771989",
   "metadata": {},
   "outputs": [
    {
     "name": "stdin",
     "output_type": "stream",
     "text": [
      " -5\n"
     ]
    },
    {
     "name": "stdout",
     "output_type": "stream",
     "text": [
      "minus\n",
      "odd\n"
     ]
    }
   ],
   "source": [
    "\n",
    "\n",
    "\n",
    "# a = int(input())\n",
    "\n",
    "# if (a<0):\n",
    "#     if (a%2==0):\n",
    "#         print(\"even\")\n",
    "#     print(\"minus\")\n",
    "# else:\n",
    "#     print(\"odd\")\n",
    "\n",
    "# if(a>0):\n",
    "#     if(a%2!=0):\n",
    "#         print(\"odd\")\n",
    "#     print(\"plus\")\n",
    "# else:\n",
    "#         print(\"even\")\n",
    "\n",
    "\n",
    "\n",
    "a= int(input())\n",
    "if(a>0):\n",
    "    print(\"plus\")\n",
    "elif(a<0):\n",
    "    print(\"minus\")\n",
    "\n",
    "if(a%2)==0:\n",
    "    print(\"even\")\n",
    "elif(a%2!=0):\n",
    "    print(\"odd\")\n",
    "    \n",
    "\n",
    "\n",
    "#양수 홀수\n",
    "#음수 짝수\n",
    "\n",
    "    "
   ]
  },
  {
   "cell_type": "markdown",
   "id": "65d3914e-7568-4519-b6a3-9df0d3523e45",
   "metadata": {},
   "source": [
    "#### "
   ]
  },
  {
   "cell_type": "code",
   "execution_count": null,
   "id": "2c408c2c-71cd-455d-b313-fdc263d657fb",
   "metadata": {},
   "outputs": [],
   "source": []
  }
 ],
 "metadata": {
  "kernelspec": {
   "display_name": "Python 3 (ipykernel)",
   "language": "python",
   "name": "python3"
  },
  "language_info": {
   "codemirror_mode": {
    "name": "ipython",
    "version": 3
   },
   "file_extension": ".py",
   "mimetype": "text/x-python",
   "name": "python",
   "nbconvert_exporter": "python",
   "pygments_lexer": "ipython3",
   "version": "3.13.1"
  }
 },
 "nbformat": 4,
 "nbformat_minor": 5
}
