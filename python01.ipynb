{
 "cells": [
  {
   "cell_type": "markdown",
   "id": "31a449f6-5bd0-462c-a614-3c48ffc3fbd1",
   "metadata": {},
   "source": [
    "\n",
    "# 주피터랩 단축키\n",
    "- a:위 셀 추가\n",
    "- b:아래셀 추가\n",
    "- ctrl + shift + 위: 셀 위로 이동\n",
    "- shift + enter : 셀 실행\n",
    "- dd: 셀 삭제\n",
    "- x: 셀 잘라내기\n",
    "- v: 셀 붙여넣기\n",
    "- c: 셀 복사\n",
    "- z: 되돌리기\n",
    "- shift + z : re do\n",
    "- m: 마크다운\n",
    "- y: 코드\n",
    "- alt + shift + 아래키: 윗줄코드그대로\n",
    "- alt + shift + 마우스커서: 멀티 커서\n",
    "- ctrl + shift ddd : 원하는 값 선택\n",
    "-  ctrl + / : 여러줄 주석"
   ]
  },
  {
   "cell_type": "markdown",
   "id": "81c35afd-68f7-46de-a70d-a26dd65178e4",
   "metadata": {},
   "source": [
    "# 기초"
   ]
  },
  {
   "cell_type": "code",
   "execution_count": 3,
   "id": "87742479-b971-49d5-9a17-e8a8727fd471",
   "metadata": {},
   "outputs": [
    {
     "name": "stdout",
     "output_type": "stream",
     "text": [
      "fdfsfsdgdf\n"
     ]
    }
   ],
   "source": [
    "#print('dff') #주석\n",
    "print('fdfsfsdgdf')"
   ]
  },
  {
   "cell_type": "code",
   "execution_count": 15,
   "id": "67820a61-435e-4e38-a21e-e7bd74413f33",
   "metadata": {},
   "outputs": [
    {
     "name": "stdout",
     "output_type": "stream",
     "text": [
      "gggㅇ\n"
     ]
    }
   ],
   "source": [
    "import time as t\n",
    "print('ㄹㅇㄹㅇ',end='\\r') # end는 끝에 붙여짐, 띄어쓰기 안되고 다 붙어나옴 \n",
    "t.sleep(1)\n",
    "print('근데 ',end='\\r')\n",
    "t.sleep(1)\n",
    "print('ggg') #커서 앞으로만 보내고 엔터는 안침"
   ]
  },
  {
   "cell_type": "code",
   "execution_count": 18,
   "id": "628fb74c-b5b4-4beb-82d5-3dd83b65f103",
   "metadata": {},
   "outputs": [
    {
     "name": "stdout",
     "output_type": "stream",
     "text": [
      "1*2*3*4*5\n"
     ]
    }
   ],
   "source": [
    "print(1,2,3,4,5, sep='*') #seperate 약자 "
   ]
  },
  {
   "cell_type": "markdown",
   "id": "98f23f08-691b-44f1-8e2a-726a578bdee8",
   "metadata": {},
   "source": [
    "# 자료형"
   ]
  },
  {
   "cell_type": "markdown",
   "id": "f386d999-bfcb-4b2e-9b99-1ef9d1a6346e",
   "metadata": {},
   "source": [
    "## 숫자형"
   ]
  },
  {
   "cell_type": "code",
   "execution_count": 19,
   "id": "0930ff9d-093d-4516-9c8c-f2c3361f086d",
   "metadata": {},
   "outputs": [
    {
     "name": "stdout",
     "output_type": "stream",
     "text": [
      "123 -178 0\n"
     ]
    }
   ],
   "source": [
    "# 정수형\n",
    "a = 123\n",
    "b =-178\n",
    "c = 0\n",
    "print(a,b,c)"
   ]
  },
  {
   "cell_type": "code",
   "execution_count": 31,
   "id": "15c1afa8-678f-444a-a020-2dcb56252784",
   "metadata": {},
   "outputs": [
    {
     "name": "stdout",
     "output_type": "stream",
     "text": [
      "덧셈 556\n",
      "===========\n",
      "ㅃㅅ 356\n",
      "===========\n",
      "ㄳ 45600\n",
      "===========\n",
      "ㄴㄴㅅ 4.56\n",
      "===========\n",
      "ㅁ 4\n",
      "===========\n",
      "ㅅ 207936\n",
      "===========\n"
     ]
    }
   ],
   "source": [
    "sachik = 456 # ctrl + shift ddd(선택) : 원하는 값 선택\n",
    "sem = 100\n",
    "\n",
    "print('덧셈',sachik + sem, end='\\n===========\\n')\n",
    "print('ㅃㅅ',sachik - sem, end='\\n===========\\n')\n",
    "print('ㄳ',sachik * sem,   end='\\n===========\\n')\n",
    "print('ㄴㄴㅅ',sachik / sem, end='\\n===========\\n')\n",
    "print('ㅁ',sachik // sem,    end='\\n===========\\n')\n",
    "print('ㅅ',sachik ** 2,     end='\\n===========\\n') "
   ]
  },
  {
   "cell_type": "code",
   "execution_count": 32,
   "id": "34c449e0-5be9-4a02-962b-21ccd12286cf",
   "metadata": {},
   "outputs": [
    {
     "name": "stdout",
     "output_type": "stream",
     "text": [
      "1.2 -3.14\n"
     ]
    }
   ],
   "source": [
    "# 실수형\n",
    "aa= 1.2\n",
    "bb =-3.14\n",
    "print(aa,bb)"
   ]
  },
  {
   "cell_type": "code",
   "execution_count": 37,
   "id": "d61a3f2d-e2f8-4acb-ada0-bd984a2f5b69",
   "metadata": {},
   "outputs": [
    {
     "name": "stdout",
     "output_type": "stream",
     "text": [
      "127\n",
      "4\n",
      "2303 2748\n"
     ]
    }
   ],
   "source": [
    "# 8진수(oct) 와 16진수(hex)\n",
    "a= 0o177\n",
    "print(a)\n",
    "bbb=0x8ff\n",
    "ccc=0xABC\n",
    "print(b)\n",
    "print(bbb,ccc)"
   ]
  },
  {
   "cell_type": "code",
   "execution_count": 38,
   "id": "923d4067-d85f-4be7-a532-d8bf7e52fb44",
   "metadata": {},
   "outputs": [
    {
     "data": {
      "text/plain": [
       "7"
      ]
     },
     "execution_count": 38,
     "metadata": {},
     "output_type": "execute_result"
    }
   ],
   "source": [
    "a=3\n",
    "b=4\n",
    "a+b"
   ]
  },
  {
   "cell_type": "code",
   "execution_count": 43,
   "id": "b798eb32-3626-488a-a35b-9136d0b4c4fe",
   "metadata": {},
   "outputs": [
    {
     "name": "stdout",
     "output_type": "stream",
     "text": [
      "5\n"
     ]
    }
   ],
   "source": [
    "a=1\n",
    "a=a+4\n",
    "print(a)"
   ]
  },
  {
   "cell_type": "code",
   "execution_count": 44,
   "id": "3d44ffc4-1f8d-4fbf-94bb-5d7fb5635562",
   "metadata": {},
   "outputs": [],
   "source": [
    "a= 1"
   ]
  },
  {
   "cell_type": "code",
   "execution_count": 50,
   "id": "1c69d38b-4a15-4350-b3dc-1d97d7295d3a",
   "metadata": {},
   "outputs": [
    {
     "name": "stdout",
     "output_type": "stream",
     "text": [
      "13\n",
      "14\n",
      "15\n",
      "16\n"
     ]
    }
   ],
   "source": [
    "#복합연산자 , 실행 할떄마다 1씩 증가함\n",
    "a = a+1 #a += 1\n",
    "print(a)\n",
    "a = a+1\n",
    "print(a)\n",
    "a = a+1\n",
    "print(a)\n",
    "a = a+1\n",
    "print(a)"
   ]
  },
  {
   "cell_type": "code",
   "execution_count": 60,
   "id": "d573ec5f-98ed-4ceb-804b-2f3d0c0d736c",
   "metadata": {},
   "outputs": [
    {
     "name": "stdout",
     "output_type": "stream",
     "text": [
      "5\n"
     ]
    }
   ],
   "source": [
    "a-=1\n",
    "print(a)"
   ]
  },
  {
   "cell_type": "code",
   "execution_count": 84,
   "id": "c1f9e2b7-d8b3-4f7b-b71c-3b3af80aeff1",
   "metadata": {
    "scrolled": true
   },
   "outputs": [
    {
     "name": "stdout",
     "output_type": "stream",
     "text": [
      "0.21875\n"
     ]
    }
   ],
   "source": [
    "a/=2\n",
    "print(a)"
   ]
  },
  {
   "cell_type": "code",
   "execution_count": 85,
   "id": "2a066f44-fdfd-455e-8469-06a53872159b",
   "metadata": {},
   "outputs": [
    {
     "name": "stdout",
     "output_type": "stream",
     "text": [
      "문자형\n",
      "\n",
      "여러 줄 주석\n",
      "\n",
      "\n",
      "여러줄 주석 \n",
      "\n"
     ]
    }
   ],
   "source": [
    "\n",
    "str1 = '문자형'\n",
    "print(str1)\n",
    "str2 = '''\n",
    "여러 줄 주석\n",
    "'''\n",
    "print(str2)\n",
    "str3 = \"\"\"\n",
    "여러줄 주석 \n",
    "\"\"\"\n",
    "print(str3)"
   ]
  },
  {
   "cell_type": "code",
   "execution_count": 89,
   "id": "508271fb-cd9e-4b90-a5f8-42d1f53f1b68",
   "metadata": {},
   "outputs": [
    {
     "ename": "SyntaxError",
     "evalue": "unterminated string literal (detected at line 1) (1929615097.py, line 1)",
     "output_type": "error",
     "traceback": [
      "\u001b[1;36m  Cell \u001b[1;32mIn[89], line 1\u001b[1;36m\u001b[0m\n\u001b[1;33m    food = 'Python's favorite food is perl'\u001b[0m\n\u001b[1;37m                                          ^\u001b[0m\n\u001b[1;31mSyntaxError\u001b[0m\u001b[1;31m:\u001b[0m unterminated string literal (detected at line 1)\n"
     ]
    }
   ],
   "source": [
    " food = 'Python\\'s favorite food is perl'\n",
    "print(food)"
   ]
  },
  {
   "cell_type": "code",
   "execution_count": 91,
   "id": "a608def9-cbeb-405d-8170-e3068f5d9280",
   "metadata": {},
   "outputs": [
    {
     "name": "stdout",
     "output_type": "stream",
     "text": [
      "\"Python is very easy.\" he says.\n"
     ]
    }
   ],
   "source": [
    "say = \"\\\"Python is very easy.\\\" he says.\"\n",
    "print(say)"
   ]
  },
  {
   "cell_type": "code",
   "execution_count": 95,
   "id": "366639d1-63b0-41f9-9af3-9424ac5a2001",
   "metadata": {},
   "outputs": [
    {
     "name": "stdout",
     "output_type": "stream",
     "text": [
      "bdcgdg\n",
      "dfdff\n"
     ]
    }
   ],
   "source": [
    "a= \"bdcgdg\"\n",
    "print(a)\n",
    "b= 'dfdff'\n",
    "print(b)"
   ]
  },
  {
   "cell_type": "code",
   "execution_count": 103,
   "id": "130d501d-27b1-48d1-8606-084d61d4bdcf",
   "metadata": {},
   "outputs": [
    {
     "name": "stdout",
     "output_type": "stream",
     "text": [
      " \"python\" say\n"
     ]
    }
   ],
   "source": [
    "s = \" \\\"python\\\" say\"\n",
    "print(s)"
   ]
  },
  {
   "cell_type": "code",
   "execution_count": 104,
   "id": "080d891e-8908-47e1-91f5-a2037017cb44",
   "metadata": {},
   "outputs": [
    {
     "name": "stdout",
     "output_type": "stream",
     "text": [
      "\n",
      "Life is too short\n",
      "you need python\n",
      "\n"
     ]
    }
   ],
   "source": [
    "multiline = '''\n",
    "Life is too short\n",
    "you need python\n",
    "'''\n",
    "\n",
    "print(multiline)\n"
   ]
  },
  {
   "cell_type": "code",
   "execution_count": 143,
   "id": "43e7ed36-89cc-4100-b40d-4ff5cb4c9734",
   "metadata": {
    "scrolled": true
   },
   "outputs": [
    {
     "name": "stdout",
     "output_type": "stream",
     "text": [
      "    영수증\n",
      "===============\n",
      "아메리카노16500\n",
      "커피2000\n",
      "===============\n"
     ]
    }
   ],
   "source": [
    "p1 = 5500 * 3\n",
    "p2 = 2000\n",
    "m1 = \"아메리카노\" +str(p1) + \"\\n\"\n",
    "m2 = \"커피\" + str(p2)\n",
    "\n",
    "a=\"=\"*15\n",
    "\n",
    "print(\"    영수증\")\n",
    "print(a)\n",
    "print(m1+m2)\n",
    "print(a)\n",
    "#문자 숫자 더하기 x 곱하는건 됨]\n",
    "\n",
    "#출력 조합\n"
   ]
  },
  {
   "cell_type": "code",
   "execution_count": 147,
   "id": "a494a80c-5577-456a-8659-6d5266954a70",
   "metadata": {},
   "outputs": [
    {
     "name": "stdout",
     "output_type": "stream",
     "text": [
      "17\n"
     ]
    }
   ],
   "source": [
    "a= \"life is too short\"\n",
    "print(len(a))"
   ]
  },
  {
   "cell_type": "code",
   "execution_count": 155,
   "id": "8f9a0bf0-3827-4980-8e3b-de6ac6f36b5e",
   "metadata": {},
   "outputs": [
    {
     "name": "stdout",
     "output_type": "stream",
     "text": [
      "too\n"
     ]
    }
   ],
   "source": [
    "print(a[8]+a[9]+a[10]) #콤마는 각자의 값 +는 합산하여 나타내짐"
   ]
  },
  {
   "cell_type": "code",
   "execution_count": 158,
   "id": "6580e03f-83ba-4e58-8aae-a4342fe994ba",
   "metadata": {},
   "outputs": [
    {
     "name": "stdout",
     "output_type": "stream",
     "text": [
      "t r\n"
     ]
    }
   ],
   "source": [
    "print(a[-1],a[-2])"
   ]
  },
  {
   "cell_type": "code",
   "execution_count": null,
   "id": "d59ff79a-c51f-4223-a90a-40a09182cbd3",
   "metadata": {},
   "outputs": [],
   "source": [
    "a = \"Life is too short, you need python\"\n",
    "\n",
    "print(a[23:27]) # 23<=a<27\n"
   ]
  },
  {
   "cell_type": "code",
   "execution_count": 206,
   "id": "fca79aa1-2d85-4268-9116-03cbe9fac440",
   "metadata": {},
   "outputs": [
    {
     "name": "stdout",
     "output_type": "stream",
     "text": [
      "nohtyp deen uoy ,trohs oot si efiL\n"
     ]
    }
   ],
   "source": [
    "print(a[::-1]) #거꾸로\n",
    "    "
   ]
  },
  {
   "cell_type": "code",
   "execution_count": 22,
   "id": "af4b48b0-8ffd-4167-9925-20e37979a2ae",
   "metadata": {},
   "outputs": [
    {
     "name": "stdout",
     "output_type": "stream",
     "text": [
      "2025\n",
      "02\n",
      "03\n",
      "2025년02월03일 오늘은 화창하다!\n"
     ]
    }
   ],
   "source": [
    "today = \"20250203오늘은화창하다\"\n",
    "\n",
    "year = today[:4]\n",
    "print(year)\n",
    "month =today[4:6]\n",
    "print(month)\n",
    "day = today[6:8]\n",
    "print(day)\n",
    "\n",
    "print(year+\"년\"+month+\"월\"+day+\"일 오늘은 화창하다!\")\n"
   ]
  },
  {
   "cell_type": "code",
   "execution_count": 5,
   "id": "835d3343-d66c-4ae2-95c3-10dc62a28e7e",
   "metadata": {},
   "outputs": [
    {
     "name": "stdout",
     "output_type": "stream",
     "text": [
      "한국서 돈벌고 '나 몰라라' 코스트코… 연회비 인상률은 미국의 2배\n",
      "한국서 돈벌고 '나 몰라라' 코스트코… 연회비 인상률은 미국의 3배\n"
     ]
    }
   ],
   "source": [
    "import requests\n",
    "url = 'https://v.daum.net/v/20250203151815463'\n",
    "res = requests.get(url).text\n",
    "result = res[374:411]\n",
    "print(res[374:411])\n",
    "\n",
    "out = result[:-2]+'3'+result[-1]\n",
    "\n",
    "print(out)\n",
    "\n"
   ]
  },
  {
   "cell_type": "code",
   "execution_count": 12,
   "id": "0a176424-57e8-4765-be16-6130ebef30f5",
   "metadata": {},
   "outputs": [
    {
     "name": "stdout",
     "output_type": "stream",
     "text": [
      "뿌요의 톡쏘는 일상 : 네이버 블로그\n"
     ]
    }
   ],
   "source": [
    "import requests\n",
    "url = 'https://blog.naver.com/droad777'\n",
    "res = requests.get(url).text\n",
    "\n",
    "#print(res)\n",
    "\n",
    "result =(res[895:915])\n",
    "print(res[895:915])\n",
    "out = '지민'+ result[2]+result[3:20]\n",
    "\n",
    "#print(out)\n"
   ]
  },
  {
   "cell_type": "code",
   "execution_count": 45,
   "id": "25800dd4-086c-476d-8178-b80dc8df1b0b",
   "metadata": {},
   "outputs": [
    {
     "name": "stdout",
     "output_type": "stream",
     "text": [
      "나라 지키며 사랑 나눔 실천한 3군단 \n"
     ]
    }
   ],
   "source": [
    "import requests\n",
    "url = 'https://www.yna.co.kr/view/AKR20250204037900062'\n",
    "res = requests.get(url).text\n",
    "\n",
    "\n",
    "result =(res[1526:1547])\n",
    "print(result)\n",
    "out = result[0]+'4'+result[3:20]\n",
    "\n"
   ]
  },
  {
   "cell_type": "code",
   "execution_count": 47,
   "id": "cc8dc4cf-45e5-4432-ad7a-afb41fb729de",
   "metadata": {},
   "outputs": [
    {
     "name": "stdout",
     "output_type": "stream",
     "text": [
      "I eat 3 apples.\n",
      "i eat 17 apples\n",
      "i eat five apples.\n"
     ]
    }
   ],
   "source": [
    "print(\"I eat 3 apples.\")\n",
    "print(\"i eat %d apples\"%17)\n",
    "print(\"i eat %s apples.\"%\"five\")\n"
   ]
  },
  {
   "cell_type": "markdown",
   "id": "2da08c41-8684-4ad8-9410-a73c45263a40",
   "metadata": {},
   "source": [
    "## 포매팅 연산자\n",
    "\n",
    "- %s 문자열 \n",
    "- %d 정수\n",
    "- %f 부동소수\n",
    "- %c 문자1개\n",
    "- %o 8진수\n",
    "- %x 16진수\n",
    "- %% 문자%\n"
   ]
  },
  {
   "cell_type": "code",
   "execution_count": 48,
   "id": "9d6cfc8e-5d62-4a24-bee4-b9b688406d92",
   "metadata": {},
   "outputs": [
    {
     "name": "stdout",
     "output_type": "stream",
     "text": [
      "사람 몸의 수분은 60%\n"
     ]
    }
   ],
   "source": [
    "print(\"사람 몸의 수분은 %d%%\" %60)   # %d뒤에 % 같이 붙일시에 %% 두개 붙여야함"
   ]
  },
  {
   "cell_type": "code",
   "execution_count": 60,
   "id": "dbbb40fb-3e23-4302-92e9-490b63efd5d8",
   "metadata": {},
   "outputs": [
    {
     "name": "stdout",
     "output_type": "stream",
     "text": [
      "십진수로 12는 8진수로 14\n",
      "십진수로 12는 16진수로 c\n"
     ]
    }
   ],
   "source": [
    "print(\"십진수로 %d는 8진수로 %o\" %(12,12))\n",
    "print(\"십진수로 %d는 16진수로 %x\" %(12,12))\n"
   ]
  },
  {
   "cell_type": "code",
   "execution_count": 64,
   "id": "c662e146-80b9-4d7f-9c80-5c53ae21d32d",
   "metadata": {},
   "outputs": [
    {
     "name": "stdout",
     "output_type": "stream",
     "text": [
      "십진수로 12는 8진수로 14\n",
      "십진수로 12는 16진수로 c\n"
     ]
    }
   ],
   "source": [
    "print(\"십진수로 %d는 8진수로 %o\\n십진수로 %d는 16진수로 %x\" %(12,12,12,12))"
   ]
  },
  {
   "attachments": {
    "de7fa078-d4e1-45f5-89ac-6edda531c09f.png": {
     "image/png": "[encoded data removed]"
    }
   },
   "cell_type": "markdown",
   "id": "c8e19d47-5e87-4ad3-b28a-c889aad325b0",
   "metadata": {},
   "source": [
    "<img src=\"attachment:de7fa078-d4e1-45f5-89ac-6edda531c09f.png\" width = 300><!--width 사진 크기 조정 --> "
   ]
  },
  {
   "cell_type": "code",
   "execution_count": 68,
   "id": "ed4509a9-c9c0-4190-adbf-06b7390045c9",
   "metadata": {},
   "outputs": [
    {
     "name": "stdout",
     "output_type": "stream",
     "text": [
      "        hi\n",
      "hi        \n"
     ]
    }
   ],
   "source": [
    "print(\"%10s\" % \"hi\")\n",
    "print(\"%-10s\" % \"hi\")\n",
    "#음일땐 왼쪽에 붙고 양일땐 공백 생겨서 오른쪽에 붙음"
   ]
  },
  {
   "cell_type": "code",
   "execution_count": 76,
   "id": "d9a89988-9a1e-4d23-9b9b-02bef811600d",
   "metadata": {},
   "outputs": [
    {
     "name": "stdout",
     "output_type": "stream",
     "text": [
      "hi        jane\n"
     ]
    }
   ],
   "source": [
    "print(\"%-10sjane\" %\"hi\")"
   ]
  },
  {
   "cell_type": "code",
   "execution_count": 88,
   "id": "f86ee51b-90bd-40f9-9ee5-ba1051774cea",
   "metadata": {},
   "outputs": [
    {
     "name": "stdout",
     "output_type": "stream",
     "text": [
      "3.1415924\n",
      " 3.1415924\n"
     ]
    }
   ],
   "source": [
    "#소숫점 표현\n",
    "print(\"%.7f\" %3.1415924) #0생략가능\n",
    "print(\"%10.7f\" %3.1415924) #0생략가능"
   ]
  },
  {
   "cell_type": "markdown",
   "id": "dee993c2-c01a-4654-8b4d-03b621ebc85b",
   "metadata": {},
   "source": [
    "### format함수를 사용한 포매팅"
   ]
  },
  {
   "cell_type": "code",
   "execution_count": 93,
   "id": "3a910a93-a6e0-4dee-9edb-0a70fe6463df",
   "metadata": {},
   "outputs": [
    {
     "name": "stdout",
     "output_type": "stream",
     "text": [
      "i eat 3 of 10 apples\n"
     ]
    }
   ],
   "source": [
    "print (\"i eat {0} of {1} apples\".format(3,10))"
   ]
  },
  {
   "cell_type": "code",
   "execution_count": 100,
   "id": "6e5a3c64-969d-4aeb-bc83-5dbab3b3f0e3",
   "metadata": {},
   "outputs": [
    {
     "name": "stdout",
     "output_type": "stream",
     "text": [
      " i eat three of 10 apples\n",
      "i eat one of 40 apples\n"
     ]
    }
   ],
   "source": [
    "#변수 대입, 바로 대입\n",
    "\n",
    "total = 10\n",
    "ea = \"three\"\n",
    "print(\" i eat {0} of {1} apples\".format(ea,total))\n",
    "print(\"i eat {ea} of {total} apples\" .format(ea=\"one\",total=40))"
   ]
  },
  {
   "cell_type": "code",
   "execution_count": 105,
   "id": "f262d1b4-c96c-4165-b855-769456e239b2",
   "metadata": {},
   "outputs": [
    {
     "name": "stdout",
     "output_type": "stream",
     "text": [
      "i ate 10 apples. so i was sick for 3 days.\n"
     ]
    }
   ],
   "source": [
    "\n",
    "\n",
    "print(\"i ate {0} apples. so i was sick for {day} days.\".format(10,day=3))\n",
    "                                           "
   ]
  },
  {
   "cell_type": "code",
   "execution_count": 120,
   "id": "89fafc9c-93d1-4244-b6c5-968cc90117e4",
   "metadata": {},
   "outputs": [
    {
     "name": "stdout",
     "output_type": "stream",
     "text": [
      "        hi\n",
      "hi        \n",
      "    hi    \n",
      "====hi====\n",
      "ㅋㅋㅋㅋㅋㅋㅋㅋㅋ웃겨ㅋㅋㅋㅋㅋㅋㅋㅋㅋ\n"
     ]
    }
   ],
   "source": [
    "print(\"{0:>10}\".format(\"hi\"))\n",
    "print(\"{0:<10}\".format(\"hi\"))\n",
    "print(\"{0:^10}\".format(\"hi\"))\n",
    "print(\"{0:=^10}\".format(\"hi\")) #옆에 붙이기\n",
    "print(\"{0:ㅋ^20}\".format(\"웃겨\")) "
   ]
  },
  {
   "cell_type": "code",
   "execution_count": 127,
   "id": "8e340e84-ab62-4702-ac7e-add8691660ca",
   "metadata": {},
   "outputs": [
    {
     "name": "stdout",
     "output_type": "stream",
     "text": [
      "3.142\n",
      "               3.142\n",
      "중괄호 는 { 과 } 입니다.\n"
     ]
    }
   ],
   "source": [
    "#소수점 표현\n",
    "pi = 3.141592\n",
    "print(\"{0:.4}\".format(pi))\n",
    "print(\"{0:20.4}\".format(pi)) #공백 20칸\n",
    "#이스케이프처리\n",
    "print(\"{0} 는 {{ 과 }} 입니다.\".format(\"중괄호\"))"
   ]
  },
  {
   "cell_type": "code",
   "execution_count": 197,
   "id": "6e39c636-3028-4612-8104-d5dfb39a647e",
   "metadata": {},
   "outputs": [
    {
     "name": "stdout",
     "output_type": "stream",
     "text": [
      "1111011\n",
      "01111011\n",
      "11110110\n"
     ]
    }
   ],
   "source": [
    "#2진수처리\n",
    "print(\"{0:b}\".format(123))\n",
    "print(\"{0:0>8b}\".format(123)) #공백 8칸 생기니까 원래 수 7자리 제외 한칸 비워짐 -> 왼쪽으로 0 붙여짐 \n",
    "print(\"{0:0<8b}\".format(123)) #공백 8칸 생기고 원래 수 7자리 제외 한칸 비워짐 ->오른쪽 뒤에 0 붙여짐\n"
   ]
  },
  {
   "cell_type": "markdown",
   "id": "20fb4a56-2383-4956-bfb9-df8866e96c6c",
   "metadata": {},
   "source": [
    "### f문자열 포매팅"
   ]
  },
  {
   "cell_type": "code",
   "execution_count": 201,
   "id": "dabd6059-ec98-4480-9a71-023f3907fcbb",
   "metadata": {},
   "outputs": [
    {
     "name": "stdout",
     "output_type": "stream",
     "text": [
      "나의 이름은 배트맨입니다. 나이는30입니다.\n"
     ]
    }
   ],
   "source": [
    "#\" \".format()-> f\" \"\n",
    "name = \"배트맨\"\n",
    "age = 30\n",
    "\n",
    "print(f\"나의 이름은 {name}입니다. 나이는{age}입니다.\")"
   ]
  },
  {
   "cell_type": "code",
   "execution_count": 6,
   "id": "29ad6702-ea63-4788-a05d-1c300aca91b2",
   "metadata": {},
   "outputs": [
    {
     "name": "stdout",
     "output_type": "stream",
     "text": [
      "나의 이름은 홍길동입니다. 나이는30입니다. 성별은male입니다\n"
     ]
    }
   ],
   "source": [
    "d = {'name':'홍길동','age':30, 'gen':'male'}\n",
    "print(f'나의 이름은 {d[\"name\"]}입니다. 나이는{d[\"age\"]}입니다. 성별은{d[\"gen\"]}입니다')"
   ]
  },
  {
   "cell_type": "code",
   "execution_count": 7,
   "id": "cfc47a88-a4bc-4ff0-ac03-b414722929ba",
   "metadata": {},
   "outputs": [
    {
     "name": "stdout",
     "output_type": "stream",
     "text": [
      "hi        \n",
      "        hi\n",
      "    hi    \n"
     ]
    }
   ],
   "source": [
    "\n",
    "print(f'{\"hi\":<10}')\n",
    "print(f'{\"hi\":>10}')\n",
    "print(f'{\"hi\":^10}')\n",
    "\n"
   ]
  },
  {
   "cell_type": "code",
   "execution_count": 20,
   "id": "795e69e3-7ed9-4d4e-8a8e-0521a552a1b9",
   "metadata": {},
   "outputs": [
    {
     "name": "stdout",
     "output_type": "stream",
     "text": [
      "====hi====\n",
      "hi0\n"
     ]
    }
   ],
   "source": [
    "print(f'{\"hi\":=^10}')\n",
    "print(f'{\"hi\":0<3}') #세번쨰 까지 공백 만들고, 왼쪽으로 정렬해서 그 뒤에 0을 채움\n"
   ]
  },
  {
   "cell_type": "code",
   "execution_count": 50,
   "id": "0f85604c-88a2-4b2d-bfb7-dd4ab5ffe682",
   "metadata": {},
   "outputs": [
    {
     "name": "stdout",
     "output_type": "stream",
     "text": [
      "3.1416\n",
      "  3.141592\n",
      "    3.1416\n",
      "3.1416    \n"
     ]
    }
   ],
   "source": [
    "y= 3.141592\n",
    "print(f'{y:0.4f}') # 소숫점 4자리 까지 표현,반올림\n",
    "print(f'{y:>10f}') #자릿수를 10자리로 맞춤(공백)\n",
    "print(f'{y:10.4f}')#자릿수를 10자리로 맞춤, 소숫점 4자리 까지 표현해서 반올림\n",
    "print(f'{y:<10.4f}')#자릿수를 10자리로 맞춤"
   ]
  },
  {
   "cell_type": "markdown",
   "id": "ee8a639b-2786-42ae-a675-7f2b599dbe4d",
   "metadata": {},
   "source": [
    "### 문자열 관련 함수들"
   ]
  },
  {
   "cell_type": "code",
   "execution_count": 53,
   "id": "02669c55-0ecd-41d0-af5b-d4b2668e276e",
   "metadata": {},
   "outputs": [
    {
     "data": {
      "text/plain": [
       "2"
      ]
     },
     "execution_count": 53,
     "metadata": {},
     "output_type": "execute_result"
    }
   ],
   "source": [
    "\"hobby\".count('b')"
   ]
  },
  {
   "cell_type": "code",
   "execution_count": 59,
   "id": "f3d58748-4c71-4b99-9e65-693d87f3fd13",
   "metadata": {},
   "outputs": [
    {
     "name": "stdout",
     "output_type": "stream",
     "text": [
      "한국서 돈벌고 '나 몰라라' 코스트코… 연회비 인상률은 미국의 2배\n",
      "한국서 돈벌고 '나 몰라라' 코스트코… 연회비 인상률은 미국의 3배\n",
      "2\n",
      "5\n"
     ]
    }
   ],
   "source": [
    "import requests\n",
    "url = 'https://v.daum.net/v/20250203151815463'\n",
    "res = requests.get(url).text\n",
    "result = res[374:411]\n",
    "print(res[374:411])\n",
    "\n",
    "out = result[:-2]+'3'+result[-1]\n",
    "\n",
    "print(out)\n",
    "print(out.count('코'))\n",
    "print(out.find('벌')) # 위치 알려주기"
   ]
  },
  {
   "cell_type": "code",
   "execution_count": 62,
   "id": "8042a1df-c273-4089-ac11-676ebb435e81",
   "metadata": {},
   "outputs": [
    {
     "name": "stdout",
     "output_type": "stream",
     "text": [
      "374\n"
     ]
    }
   ],
   "source": [
    "import requests\n",
    "url = 'https://v.daum.net/v/20250203151815463'\n",
    "res = requests.get(url).text\n",
    "print(res.find('한'))"
   ]
  },
  {
   "cell_type": "code",
   "execution_count": 77,
   "id": "6bc9ec89-aa6e-4ba3-8f91-3b2e680cc8a1",
   "metadata": {},
   "outputs": [
    {
     "name": "stdout",
     "output_type": "stream",
     "text": [
      "41529\n",
      "41529\n",
      "toxic till the end\n"
     ]
    }
   ],
   "source": [
    "import requests\n",
    "url = 'https://music.apple.com/kr/playlist/%EC%98%A4%EB%8A%98%EC%9D%98-top-100-%EB%8C%80%ED%95%9C%EB%AF%BC%EA%B5%AD/pl.d3d10c32fbc540b38e266367dc8cb00c'\n",
    "res = requests.get(url).text\n",
    "\n",
    "print(res.find('toxic till'))\n",
    "print(res.index('toxic till'))# 정확하지 않으면 오류 발생\n",
    "print(res[41529:41547])"
   ]
  },
  {
   "cell_type": "code",
   "execution_count": 78,
   "id": "6fb4fb07-3c58-49b8-9843-b30352f3a594",
   "metadata": {},
   "outputs": [
    {
     "name": "stdout",
     "output_type": "stream",
     "text": [
      "a,b,c,d,e,f,g\n"
     ]
    }
   ],
   "source": [
    "# 문자열 삽입 join*\n",
    "\n",
    "print(\",\".join('abcdefg'))"
   ]
  },
  {
   "cell_type": "code",
   "execution_count": 80,
   "id": "915005f4-52d7-4a12-9b43-efdcece5830f",
   "metadata": {},
   "outputs": [
    {
     "name": "stdout",
     "output_type": "stream",
     "text": [
      "a,b,c,d\n"
     ]
    }
   ],
   "source": [
    "print(\",\".join(['a','b','c','d']))"
   ]
  },
  {
   "cell_type": "code",
   "execution_count": 84,
   "id": "6072a55c-5b3c-4692-b3f3-57e56610cb41",
   "metadata": {},
   "outputs": [
    {
     "name": "stdout",
     "output_type": "stream",
     "text": [
      "HI\n",
      "hi\n"
     ]
    }
   ],
   "source": [
    "#소문자->대문자\n",
    "a= \"hi\"\n",
    "print(a.upper())\n",
    "\n",
    "#대문자->소문자\n",
    "b= \"HI\"\n",
    "print(b.lower())"
   ]
  },
  {
   "cell_type": "code",
   "execution_count": 86,
   "id": "4033e217-1079-40c9-a153-02ab057571a4",
   "metadata": {},
   "outputs": [
    {
     "name": "stdout",
     "output_type": "stream",
     "text": [
      "LIFE IS EGG\n",
      "Life is Egg\n",
      "life is egg\n"
     ]
    }
   ],
   "source": [
    "#연습\n",
    "v= \"Life is Egg\"\n",
    "big = v.upper()\n",
    "small = v.lower()\n",
    "print(big)\n",
    "print(v)\n",
    "print(small)"
   ]
  },
  {
   "cell_type": "code",
   "execution_count": 93,
   "id": "b0cf3e25-1094-48db-8b24-0e47482a6971",
   "metadata": {},
   "outputs": [
    {
     "name": "stdout",
     "output_type": "stream",
     "text": [
      "   hi  \n",
      "hi  \n",
      "   hi\n"
     ]
    }
   ],
   "source": [
    "a = \"   hi  \"\n",
    "\n",
    "aa=a.lstrip()\n",
    "bb=a.rstrip()\n",
    "cc=a.strip()\n",
    "print(a)\n",
    "print(aa)\n",
    "print(bb)"
   ]
  },
  {
   "cell_type": "code",
   "execution_count": 99,
   "id": "f150a734-c983-41a1-ba67-30f897a57227",
   "metadata": {},
   "outputs": [
    {
     "name": "stdout",
     "output_type": "stream",
     "text": [
      "         hi         \n",
      "hi         \n",
      "         hi\n",
      "hi\n"
     ]
    }
   ],
   "source": [
    "f=f\"{'hi':^20}\"\n",
    "f1=f.lstrip()\n",
    "f2=f.rstrip()\n",
    "f3=f.strip()\n",
    "print(f)\n",
    "print(f1)\n",
    "print(f2)\n",
    "print(f3)"
   ]
  },
  {
   "cell_type": "code",
   "execution_count": 105,
   "id": "8c7a2dd7-e7f6-4b38-9aab-278dbd3359ed",
   "metadata": {},
   "outputs": [
    {
     "name": "stdout",
     "output_type": "stream",
     "text": [
      "Life is Egg\n",
      "Life is Beautyful\n"
     ]
    }
   ],
   "source": [
    "#문자열 바꾸기 replace **\n",
    "a= \"Life is Egg\"\n",
    "c=a.replace(\"Egg\",\"Beautyful\")\n",
    "\n",
    "print(a)\n",
    "print(c)"
   ]
  },
  {
   "cell_type": "code",
   "execution_count": 110,
   "id": "3f969ef8-33ae-4306-8633-fa4a516e388a",
   "metadata": {},
   "outputs": [
    {
     "data": {
      "text/plain": [
       "['Life', 'is', 'Egg']"
      ]
     },
     "execution_count": 110,
     "metadata": {},
     "output_type": "execute_result"
    }
   ],
   "source": [
    "#문자열 나누기 split*\n",
    "a= \"Life-is-Egg\"\n",
    "a.split('-') # 대시 기준으로 나누어줌"
   ]
  },
  {
   "cell_type": "code",
   "execution_count": 126,
   "id": "b33a503f-cba8-4ade-babc-533d636b2e92",
   "metadata": {},
   "outputs": [
    {
     "name": "stdout",
     "output_type": "stream",
     "text": [
      "['abcdefghi']\n",
      "a=b=c=d=e=f=g=h=i\n",
      "['a', 'b', 'c', 'd', 'e', 'f', 'g', 'h', 'i']\n",
      "abcdefghi\n"
     ]
    }
   ],
   "source": [
    "#연습\n",
    "ex= \"abcdefghi\"\n",
    "ex2=ex.split()\n",
    "print(ex2)\n",
    "ex_join=\"=\".join(ex)\n",
    "print(ex_join)\n",
    "ex_split=ex_join.split(\"=\")\n",
    "print(ex_split)\n",
    "ex_replace = ex_join.replace(\"=\",\"\") #=를 붙인 join 함수를 붙여서로 다시 바꿈\n",
    "print(ex_replace)\n"
   ]
  },
  {
   "cell_type": "raw",
   "id": "845b6261-f474-4256-80f2-a77651dbdc4c",
   "metadata": {},
   "source": []
  }
 ],
 "metadata": {
  "kernelspec": {
   "display_name": "Python 3 (ipykernel)",
   "language": "python",
   "name": "python3"
  },
  "language_info": {
   "codemirror_mode": {
    "name": "ipython",
    "version": 3
   },
   "file_extension": ".py",
   "mimetype": "text/x-python",
   "name": "python",
   "nbconvert_exporter": "python",
   "pygments_lexer": "ipython3",
   "version": "3.13.1"
  }
 },
 "nbformat": 4,
 "nbformat_minor": 5
}
