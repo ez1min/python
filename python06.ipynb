{
 "cells": [
  {
   "cell_type": "code",
   "execution_count": 23,
   "id": "7d98572b-c765-437d-ba0d-1a254f7e5a69",
   "metadata": {},
   "outputs": [
    {
     "name": "stdout",
     "output_type": "stream",
     "text": [
      "19\n",
      "삼성전자: <55,900원\n",
      "17\n",
      "기아: <55,900원\n"
     ]
    }
   ],
   "source": [
    "import requests as req\n",
    "url =\"https://finance.naver.com/sise/sise_market_sum.naver\"\n",
    "web = req.get(url)\n",
    "html = web.text\n",
    "\n",
    "\n",
    "\n",
    "f1 = html.find('삼성전자')\n",
    "print(html[f1:f1 + 100].find('<td class=\"number\">'))\n",
    "print('삼성전자: '+html[f1:f1 + 100][19:50].replace('td class=\"number\">',\"\").replace('</td>',\"\").replace('\\n',\"\")+\"원\")\n",
    "f2 = html.find('기아')\n",
    "print(html[f2:f2 + 100].find('<td class=\"number\">'))\n",
    "print('기아: '+html[f1:f1 + 100][19:50].replace('td class=\"number\">',\"\").replace('</td>',\"\").replace('\\n',\"\")+\"원\")"
   ]
  },
  {
   "cell_type": "code",
   "execution_count": 34,
   "id": "466864f8-fef7-40c2-a80e-eb8069b57d6a",
   "metadata": {},
   "outputs": [
    {
     "ename": "NameError",
     "evalue": "name 'arg' is not defined",
     "output_type": "error",
     "traceback": [
      "\u001b[1;31m---------------------------------------------------------------------------\u001b[0m",
      "\u001b[1;31mNameError\u001b[0m                                 Traceback (most recent call last)",
      "Cell \u001b[1;32mIn[34], line 16\u001b[0m\n\u001b[0;32m     13\u001b[0m \u001b[38;5;66;03m#내부\u001b[39;00m\n\u001b[0;32m     15\u001b[0m \u001b[38;5;28;01mif\u001b[39;00m \u001b[38;5;18m__name__\u001b[39m \u001b[38;5;241m==\u001b[39m \u001b[38;5;124m'\u001b[39m\u001b[38;5;124m__main__\u001b[39m\u001b[38;5;124m'\u001b[39m:\n\u001b[1;32m---> 16\u001b[0m      \u001b[38;5;28mprint\u001b[39m(sam(\u001b[43marg\u001b[49m[\u001b[38;5;241m1\u001b[39m]))\n\u001b[0;32m     17\u001b[0m \u001b[38;5;66;03m#if 조건 직접 호출 할떄 함수 실행 되서 나가고 직접호출 안하면 만들어놓은채 안나가게 만듬\u001b[39;00m\n",
      "\u001b[1;31mNameError\u001b[0m: name 'arg' is not defined"
     ]
    }
   ],
   "source": [
    "import sys\n",
    "import requests as req\n",
    "url =\"https://finance.naver.com/sise/sise_market_sum.naver\"\n",
    "web = req.get(url)\n",
    "html = web.text\n",
    "\n",
    "args = sys.argv\n",
    "def sam(jong):\n",
    "   \n",
    "    f1 = html.find('삼성전자')\n",
    "    return(f'{jong}:'+html[f1:f1 + 100][19:50].replace('<td class=\"number\">',\"\").replace('</td>',\"\").replace('\\n',\"\")+\"원\")\n",
    "\n",
    "#내부\n",
    "\n",
    "if __name__ == '__main__':\n",
    "     print(sam(arg[1]))\n",
    "#if 조건 직접 호출 할떄 함수 실행 되서 나가고 직접호출 안하면 만들어놓은채 안나가게 만듬\n",
    "\n"
   ]
  },
  {
   "cell_type": "code",
   "execution_count": 13,
   "id": "16b7af89-d3fe-4e8e-8e01-53d731fd37c1",
   "metadata": {},
   "outputs": [
    {
     "ename": "SyntaxError",
     "evalue": "invalid syntax (971816162.py, line 1)",
     "output_type": "error",
     "traceback": [
      "\u001b[1;36m  Cell \u001b[1;32mIn[13], line 1\u001b[1;36m\u001b[0m\n\u001b[1;33m    모듈 만들기 - mod1.py\u001b[0m\n\u001b[1;37m       ^\u001b[0m\n\u001b[1;31mSyntaxError\u001b[0m\u001b[1;31m:\u001b[0m invalid syntax\n"
     ]
    }
   ],
   "source": [
    "#모듈 만들기 - mod1.py\n",
    "def add(a, b):\n",
    "    return a + b\n",
    "def sub(a, b):\n",
    "    return a - b"
   ]
  },
  {
   "cell_type": "code",
   "execution_count": 17,
   "id": "5df98974-c1ba-4207-aa38-072ca7ea8244",
   "metadata": {},
   "outputs": [
    {
     "ename": "AttributeError",
     "evalue": "module 'mod1' has no attribute 'add'",
     "output_type": "error",
     "traceback": [
      "\u001b[1;31m---------------------------------------------------------------------------\u001b[0m",
      "\u001b[1;31mAttributeError\u001b[0m                            Traceback (most recent call last)",
      "Cell \u001b[1;32mIn[17], line 2\u001b[0m\n\u001b[0;32m      1\u001b[0m \u001b[38;5;28;01mimport\u001b[39;00m\u001b[38;5;250m \u001b[39m\u001b[38;5;21;01mmod1\u001b[39;00m\n\u001b[1;32m----> 2\u001b[0m \u001b[38;5;28mprint\u001b[39m(\u001b[43mmod1\u001b[49m\u001b[38;5;241;43m.\u001b[39;49m\u001b[43madd\u001b[49m(\u001b[38;5;241m11\u001b[39m,\u001b[38;5;241m22\u001b[39m))\n\u001b[0;32m      3\u001b[0m \u001b[38;5;28mprint\u001b[39m(mod1\u001b[38;5;241m.\u001b[39msub(\u001b[38;5;241m33\u001b[39m,\u001b[38;5;241m22\u001b[39m))\n",
      "\u001b[1;31mAttributeError\u001b[0m: module 'mod1' has no attribute 'add'"
     ]
    }
   ],
   "source": [
    "import mod1\n",
    "print(mod1.add(11,22))\n",
    "print(mod1.sub(33,22))"
   ]
  },
  {
   "cell_type": "code",
   "execution_count": 1,
   "id": "aed2bc2f-c02d-4f8c-bb67-25205096ff72",
   "metadata": {},
   "outputs": [
    {
     "data": {
      "text/plain": [
       "'삼성전자:55,800원'"
      ]
     },
     "execution_count": 1,
     "metadata": {},
     "output_type": "execute_result"
    }
   ],
   "source": [
    "import samsung\n",
    "samsung.samsung('삼성전자')"
   ]
  },
  {
   "cell_type": "code",
   "execution_count": 8,
   "id": "f178563a-cee9-49e4-8fb3-4ec280df19e0",
   "metadata": {},
   "outputs": [
    {
     "ename": "ModuleNotFoundError",
     "evalue": "No module named 'dotenv'",
     "output_type": "error",
     "traceback": [
      "\u001b[1;31m---------------------------------------------------------------------------\u001b[0m",
      "\u001b[1;31mModuleNotFoundError\u001b[0m                       Traceback (most recent call last)",
      "Cell \u001b[1;32mIn[8], line 1\u001b[0m\n\u001b[1;32m----> 1\u001b[0m \u001b[38;5;28;01mfrom\u001b[39;00m\u001b[38;5;250m \u001b[39m\u001b[38;5;21;01mdotenv\u001b[39;00m\u001b[38;5;250m \u001b[39m\u001b[38;5;28;01mimport\u001b[39;00m load_dotenv\n\u001b[0;32m      2\u001b[0m \u001b[38;5;28;01mimport\u001b[39;00m\u001b[38;5;250m \u001b[39m\u001b[38;5;21;01mos\u001b[39;00m\n\u001b[0;32m      4\u001b[0m \u001b[38;5;66;03m# .env 파일 로드\u001b[39;00m\n",
      "\u001b[1;31mModuleNotFoundError\u001b[0m: No module named 'dotenv'"
     ]
    }
   ],
   "source": [
    "import os\n",
    "from dotenv import load_dotenv\n",
    "\n",
    "\n",
    "# .env 파일 로드\n",
    "load_dotenv()\n",
    "\n",
    "SKEY = os.getenv(\"SECRET_KEY\")\n",
    "print(SKEY)\n",
    "DBUG = os.getenv(\"DEBUG\")\n",
    "print(DBUG)\n",
    "TEST = os.getenv(\"TEST\")\n",
    "print(TEST)\n",
    "#깃허브에다가 .env 로 확장명 바꿔서 올리면 됨\n"
   ]
  },
  {
   "cell_type": "code",
   "execution_count": 15,
   "id": "97071dae-4272-460c-be14-cdef0c3c54cf",
   "metadata": {},
   "outputs": [
    {
     "name": "stdout",
     "output_type": "stream",
     "text": [
      "{\n",
      "\t\"lastBuildDate\":\"Thu, 13 Feb 2025 15:44:00 +0900\",\n",
      "\t\"total\":886963,\n",
      "\t\"start\":1,\n",
      "\t\"display\":5,\n",
      "\t\"items\":[\n",
      "\t\t{\n",
      "\t\t\t\"title\":\"트럼프 관세 정책 속에서 바라보는 리플<b>속보<\\/b> \\/리플시세\",\n",
      "\t\t\t\"link\":\"https:\\/\\/blog.naver.com\\/jjongs___\\/223745379106\",\n",
      "\t\t\t\"description\":\"안녕하세요 쫑쓰입니다 요 몇일간 어떤 뉴스거리가 있는지 리플<b>속보<\\/b>와 리플시세 등을 말씀드리려고... 리플<b>속보<\\/b> 있으면 아래 랭크에 있는 <b>속보<\\/b>채널에서 실시간으로 확인 가능하니 입장하셔서 편하게 정보... \",\n",
      "\t\t\t\"bloggername\":\"쫑쓰\",\n",
      "\t\t\t\"bloggerlink\":\"blog.naver.com\\/jjongs___\",\n",
      "\t\t\t\"postdate\":\"20250202\"\n",
      "\t\t},\n",
      "\t\t{\n",
      "\t\t\t\"title\":\"&lt;<b>속보<\\/b>&gt;트럼프 대통령이 미국을 세계보건기구(WHO) 에서 탈퇴시킨... \",\n",
      "\t\t\t\"link\":\"https:\\/\\/blog.naver.com\\/goodozone\\/223744451825\",\n",
      "\t\t\t\"description\":\"&lt;<b>속보<\\/b>&gt;트럼프 대통령이 미국을 세계보건기구(WHO) 에서 탈퇴시킨 이유를 정확히 알고 있다. 이 조직의 어두운 심장부를 모든 미국인들이 걱정해야 한다 이번 주 데일리메일닷컴의 팟캐스트 웰컴 투... \",\n",
      "\t\t\t\"bloggername\":\"Ozone Therapy(오존 의학)\",\n",
      "\t\t\t\"bloggerlink\":\"blog.naver.com\\/goodozone\",\n",
      "\t\t\t\"postdate\":\"20250201\"\n",
      "\t\t},\n",
      "\t\t{\n",
      "\t\t\t\"title\":\"<b>속보<\\/b>: 트럼프, 우크라이나에 대한 모든 군사 원조 중단 - 미국... \",\n",
      "\t\t\t\"link\":\"https:\\/\\/blog.naver.com\\/wjswogh61\\/223738807027\",\n",
      "\t\t\t\"description\":\"<b>속보<\\/b>: 트럼프, 우크라이나에 대한 모든 군사 원조 중단 - 미국 우선주의 아니면 글로벌 혼란? 놀라운 결정으로 트럼프 대통령은 우크라이나에 대한 모든 군사 원조를 공식적으로 중단하여 미국 외교 정책에... \",\n",
      "\t\t\t\"bloggername\":\"에덴의 중심(믿음)\",\n",
      "\t\t\t\"bloggerlink\":\"blog.naver.com\\/wjswogh61\",\n",
      "\t\t\t\"postdate\":\"20250126\"\n",
      "\t\t},\n",
      "\t\t{\n",
      "\t\t\t\"title\":\"[940] 초등학생도 이해할 수 있는 세계사  -  삐약삐약 <b>속보<\\/b>... \",\n",
      "\t\t\t\"link\":\"https:\\/\\/blog.naver.com\\/aqua317\\/223697123143\",\n",
      "\t\t\t\"description\":\"지은이가 '삐악삐악 <b>속보<\\/b>'라서 호기심이 생기더라고요. 《초등학생도 이해할 수 있는 세계사》는... 지도로 살펴보면 유럽 지역은 이런 분위기가 되었지요.(8) (326p) 저자인 삐악삐악 <b>속보<\\/b>의 정체가 궁금해서... \",\n",
      "\t\t\t\"bloggername\":\"오즐\",\n",
      "\t\t\t\"bloggerlink\":\"blog.naver.com\\/aqua317\",\n",
      "\t\t\t\"postdate\":\"20241218\"\n",
      "\t\t},\n",
      "\t\t{\n",
      "\t\t\t\"title\":\"&lt;<b>속보<\\/b>&gt;50년 노후공동주택, 인접 공사에 &quot;불안, 소음에 못살겠다... \",\n",
      "\t\t\t\"link\":\"https:\\/\\/blog.naver.com\\/adzerg\\/223715304706\",\n",
      "\t\t\t\"description\":\"▲동양연립주택과 공사현장간의 거리는 불과 15~30m (사진=동양연립 거주자 제공) [충청신문=천안] 장선화 기자 = &lt;<b>속보<\\/b>&gt; “인근공사현장의 소음진동에 이명증상을 보이는 등 50여 년 된 노후공동주택이... \",\n",
      "\t\t\t\"bloggername\":\"충청신문 천안지사\",\n",
      "\t\t\t\"bloggerlink\":\"blog.naver.com\\/adzerg\",\n",
      "\t\t\t\"postdate\":\"20250105\"\n",
      "\t\t}\n",
      "\t]\n",
      "}\n"
     ]
    }
   ],
   "source": [
    "# 네이버 검색 API 예제 - 블로그 검색\n",
    "import os\n",
    "import sys\n",
    "import urllib.request\n",
    "client_id =\"v99GMgvQyYzWdCAiwrnm\"     #\"MY_ID\"\n",
    "client_secret = \"UNxUyeRapn\" #\"MY_SECRET\"\n",
    "encText = urllib.parse.quote(\"속보\")\n",
    "url = \"https://openapi.naver.com/v1/search/blog?query=\"+ encText + '&display=5&start=1&sort=sim'\n",
    "\n",
    " # JSON 결과\n",
    "# url = \"https://openapi.naver.com/v1/search/blog.xml?query=\" + encText # XML 결과\n",
    "request = urllib.request.Request(url)\n",
    "request.add_header(\"X-Naver-Client-Id\",client_id)\n",
    "request.add_header(\"X-Naver-Client-Secret\",client_secret)\n",
    "response = urllib.request.urlopen(request)\n",
    "rescode = response.getcode()\n",
    "if(rescode==200):\n",
    "    response_body = response.read()\n",
    "    print(response_body.decode('utf-8'))\n",
    "else:\n",
    "    print(\"Error Code:\" + rescode)"
   ]
  },
  {
   "cell_type": "code",
   "execution_count": 24,
   "id": "d2cc55a7-8f74-4bf6-99cc-91ab46bb5446",
   "metadata": {},
   "outputs": [
    {
     "ename": "ModuleNotFoundError",
     "evalue": "No module named 'dotenv'",
     "output_type": "error",
     "traceback": [
      "\u001b[1;31m---------------------------------------------------------------------------\u001b[0m",
      "\u001b[1;31mModuleNotFoundError\u001b[0m                       Traceback (most recent call last)",
      "Cell \u001b[1;32mIn[24], line 3\u001b[0m\n\u001b[0;32m      1\u001b[0m \u001b[38;5;28;01mimport\u001b[39;00m\u001b[38;5;250m \u001b[39m\u001b[38;5;21;01mos\u001b[39;00m\n\u001b[0;32m      2\u001b[0m \u001b[38;5;28;01mimport\u001b[39;00m\u001b[38;5;250m \u001b[39m\u001b[38;5;21;01murllib\u001b[39;00m\u001b[38;5;21;01m.\u001b[39;00m\u001b[38;5;21;01mrequest\u001b[39;00m\n\u001b[1;32m----> 3\u001b[0m \u001b[38;5;28;01mfrom\u001b[39;00m\u001b[38;5;250m \u001b[39m\u001b[38;5;21;01mdotenv\u001b[39;00m\u001b[38;5;250m \u001b[39m\u001b[38;5;28;01mimport\u001b[39;00m load_dotenv\n\u001b[0;32m      4\u001b[0m \u001b[38;5;28;01mimport\u001b[39;00m\u001b[38;5;250m \u001b[39m\u001b[38;5;21;01mjson\u001b[39;00m\n\u001b[0;32m      6\u001b[0m \u001b[38;5;66;03m# 환경 변수 로드\u001b[39;00m\n",
      "\u001b[1;31mModuleNotFoundError\u001b[0m: No module named 'dotenv'"
     ]
    }
   ],
   "source": [
    "# 네이버 검색 API 예제 - 블로그 검색\n",
    "import os\n",
    "import sys\n",
    "import urllib.request\n",
    "import json\n",
    "\n",
    "\n",
    "\n",
    "\n",
    "encText = urllib.parse.quote(\"속보\")\n",
    "#url = \"https://openapi.naver.com/v1/search/blog?query=\"+ encText + '&display=5&start=1&sort=sim'\n",
    "\n",
    "\n",
    "url = \"https://openapi.naver.com/v1/search/blog.xml?query=\" + encText # XML 결과\n",
    "request = urllib.request.Request(url)\n",
    "request.add_header(\"X-Naver-Client-Id\",client_id)\n",
    "request.add_header(\"X-Naver-Client-Secret\",client_secret)\n",
    "response = urllib.request.urlopen(request)\n",
    "rescode = response.getcode()\n",
    "\n",
    "if(rescode==200):\n",
    "    response_body = response.read()\n",
    "    print(response_body.decode('utf-8'))\n",
    "    data = json.loads(result)\n",
    "    ldata = data['items']\n",
    "    for n in ldata:\n",
    "        print(n['title'].replace('<b>','').replace('<b>',''))\n",
    "        print(n['description'])\n",
    "        print(n['originallink'])\n",
    "else:\n",
    "    print(\"Error Code:\" + rescode)\n",
    "\n"
   ]
  },
  {
   "cell_type": "code",
   "execution_count": 29,
   "id": "3eda0ed8-693f-4b67-9ea9-d05aba8054cd",
   "metadata": {},
   "outputs": [
    {
     "name": "stdout",
     "output_type": "stream",
     "text": [
      "======================================================================\n",
      "[속보] 국힘 윤리위, 尹 제명·출당 등 징계 않기로\n",
      "국민의힘 중앙윤리위원회가 12·3 비상계엄을 선포한 윤석열 대통령에 대한 징계 절차 종결을 선언하고 제명·탈당 권유 등 징계 조치를 하지 않기로 결론을 내렸다. 여상원 윤리위원장은 13일 오전 서울 여의도 당사에서... \n",
      "https://www.imaeil.com/page/view/2025021316083091059\n",
      "======================================================================\n",
      "[속보]국민의힘 윤리위, 尹 징계 않기로\n",
      "국민의힘 윤리위, 尹 징계 않기로 ※CBS노컷뉴스는 여러분의 제보로 함께 세상을 바꿉니다. 각종 비리와 부당대우, 사건사고와 미담 등 모든 얘깃거리를 알려주세요.이메일 : 카카오톡 : @노컷뉴스사이트 : https... \n",
      "https://www.nocutnews.co.kr/news/6292989?utm_source=naver&utm_medium=article&utm_campaign=20250213035336\n",
      "======================================================================\n",
      "[속보] 수방사 경비단장 &quot;이진우, 국회 안에서 의원들 끌어내라고 지시...\n",
      "\n",
      "https://www.yna.co.kr/view/AKR20250213138100004?input=1195m\n",
      "======================================================================\n",
      "[속보] KT, 올해 2500억 규모 자사주 소각\n",
      "KT는 올해 약 2500억원 규모의 자사주를 소각한다고 13일 밝혔다. 소각할 주식은 보통주 553만7099주다. KT는 지난해 11월 발표한 기업가치 제고 계획(밸류업 프로그램)을 발표하며 연결 자기자본이익률(ROE) 목표를 9... \n",
      "https://www.newsis.com/view/NISX20250213_0003064022\n",
      "======================================================================\n",
      "[속보] 대만 타이중 백화점서 폭발 사고\n",
      "대만 타이중에 있는 신콩미츠코시 백화점에서 13일(현지시간) 폭발이 일어나 적어도 1명이 숨졌다고 AFP통신이 보도했다. 소방당국은 백화점 내 폭발로 1명이 사망하고 4명은 생체 징후가 없는 상태라고 밝혔다. 당국은... \n",
      "https://www.khan.co.kr/article/202502131504001\n"
     ]
    }
   ],
   "source": [
    "import os\n",
    "import urllib.request\n",
    "\n",
    "import json\n",
    "\n",
    "\n",
    "client_id =\"v99GMgvQyYzWdCAiwrnm\"     #\"MY_ID\"\n",
    "client_secret = \"UNxUyeRapn\" #\"MY_SECRET\"\n",
    "\n",
    "# 검색어 설정 및 URL 인코딩\n",
    "encText = urllib.parse.quote(\"속보\")\n",
    "url = f\"https://openapi.naver.com/v1/search/news.json?query={encText}&display=5&start=1&sort=sim\"\n",
    "\n",
    "# API 요청 설정\n",
    "request = urllib.request.Request(url)\n",
    "request.add_header(\"X-Naver-Client-Id\", client_id)\n",
    "request.add_header(\"X-Naver-Client-Secret\", client_secret)\n",
    "\n",
    "# API 요청 및 응답 처리\n",
    "try:\n",
    "    response = urllib.request.urlopen(request)\n",
    "    rescode = response.getcode()\n",
    "\n",
    "    if rescode == 200:\n",
    "        response_body = response.read()\n",
    "        result = response_body.decode('utf-8')\n",
    "        data = json.loads(result)\n",
    "        \n",
    "        # 뉴스 항목 출력\n",
    "        for news in data['items']:\n",
    "            print(\"=\" * 70)\n",
    "            print(news['title'].replace('<b>', '').replace('</b>', ''))  # HTML 태그 제거\n",
    "            print(news['description'])\n",
    "            print(news['originallink'])\n",
    "    else:\n",
    "        print(\"Error Code:\", rescode)\n",
    "except Exception as e:\n",
    "    print(\"Error:\", e)\n"
   ]
  },
  {
   "cell_type": "code",
   "execution_count": 3,
   "id": "90715dbe-57a2-479e-9e31-25a22e9e6546",
   "metadata": {},
   "outputs": [],
   "source": []
  },
  {
   "cell_type": "code",
   "execution_count": 6,
   "id": "670c4703-a39c-45e2-aec9-f0f040083e87",
   "metadata": {},
   "outputs": [
    {
     "name": "stdin",
     "output_type": "stream",
     "text": [
      "단어 입력:  ㄴㅇㅀㅇ\n"
     ]
    },
    {
     "name": "stdout",
     "output_type": "stream",
     "text": [
      "다릅니다\n"
     ]
    }
   ],
   "source": [
    "word = input(\"단어 입력: \") \n",
    "\n",
    "if word == word[::-1]:  \n",
    "    print(\"같습니다\")\n",
    "else:\n",
    "    print(\"다릅니다\")\n",
    "\n"
   ]
  },
  {
   "cell_type": "code",
   "execution_count": 17,
   "id": "70520a85-fa6d-4df0-a3c2-2db8a90ee0eb",
   "metadata": {},
   "outputs": [
    {
     "name": "stdin",
     "output_type": "stream",
     "text": [
      "리스트 입력 1 3 5 6 6 7 4 6 4 4 5 6 5 5 4 3 4 \n"
     ]
    },
    {
     "name": "stdout",
     "output_type": "stream",
     "text": [
      "짝수 리스트: [6, 6, 4, 6, 4, 4, 6, 4, 4]\n",
      "홀수 리스트: [1, 3, 5, 7, 5, 5, 5, 3]\n"
     ]
    }
   ],
   "source": [
    "numbers = list(map(int, input(\"리스트 입력\").split()))\n",
    "\n",
    "\n",
    "a = []  \n",
    "b = []   \n",
    "\n",
    "for num in numbers:\n",
    "    if num % 2 == 0:\n",
    "        a.append(num)  # 짝수 추가\n",
    "    else:\n",
    "        b.append(num)   # 홀수 추가\n",
    "\n",
    "# 결과 출력\n",
    "print(\"짝수 리스트:\", a)\n",
    "print(\"홀수 리스트:\", b)\n"
   ]
  },
  {
   "cell_type": "markdown",
   "id": "de6cccb1-b71b-42fb-97d9-e7f646d5abb0",
   "metadata": {},
   "source": [
    "# 패키지"
   ]
  },
  {
   "cell_type": "markdown",
   "id": "72081f18-b7c7-4419-badf-b9069d701498",
   "metadata": {},
   "source": [
    "## 패키지 만들기"
   ]
  },
  {
   "cell_type": "code",
   "execution_count": 4,
   "id": "df41b7c9-69e9-44ea-88eb-9aaf836c9e0c",
   "metadata": {},
   "outputs": [
    {
     "ename": "SyntaxError",
     "evalue": "invalid syntax (3034972041.py, line 1)",
     "output_type": "error",
     "traceback": [
      "\u001b[1;36m  Cell \u001b[1;32mIn[4], line 1\u001b[1;36m\u001b[0m\n\u001b[1;33m    set PYTHONPATH=D:\\yjm\\code\\pyfile\\test\u001b[0m\n\u001b[1;37m        ^\u001b[0m\n\u001b[1;31mSyntaxError\u001b[0m\u001b[1;31m:\u001b[0m invalid syntax\n"
     ]
    }
   ],
   "source": [
    "#set PYTHONPATH=D:\\yjm\\code\\pyfile\\test"
   ]
  },
  {
   "cell_type": "code",
   "execution_count": 2,
   "id": "646720be-c0d8-4589-a6c3-aad02bad9cea",
   "metadata": {},
   "outputs": [
    {
     "ename": "ModuleNotFoundError",
     "evalue": "No module named 'game.graphic.graphic'",
     "output_type": "error",
     "traceback": [
      "\u001b[1;31m---------------------------------------------------------------------------\u001b[0m",
      "\u001b[1;31mModuleNotFoundError\u001b[0m                       Traceback (most recent call last)",
      "Cell \u001b[1;32mIn[2], line 2\u001b[0m\n\u001b[0;32m      1\u001b[0m \u001b[38;5;28;01mimport\u001b[39;00m\u001b[38;5;250m \u001b[39m\u001b[38;5;21;01mgame\u001b[39;00m\u001b[38;5;21;01m.\u001b[39;00m\u001b[38;5;21;01msound\u001b[39;00m\u001b[38;5;21;01m.\u001b[39;00m\u001b[38;5;21;01mecho\u001b[39;00m\n\u001b[1;32m----> 2\u001b[0m \u001b[38;5;28;01mimport\u001b[39;00m\u001b[38;5;250m \u001b[39m\u001b[38;5;21;01mgame\u001b[39;00m\u001b[38;5;21;01m.\u001b[39;00m\u001b[38;5;21;01mgraphic\u001b[39;00m\u001b[38;5;21;01m.\u001b[39;00m\u001b[38;5;21;01mrender\u001b[39;00m\n\u001b[0;32m      4\u001b[0m game\u001b[38;5;241m.\u001b[39msound\u001b[38;5;241m.\u001b[39mecho\u001b[38;5;241m.\u001b[39mecho_test()\n\u001b[0;32m      5\u001b[0m game\u001b[38;5;241m.\u001b[39mgraphic\u001b[38;5;241m.\u001b[39mrender\u001b[38;5;241m.\u001b[39mrender_test()\n",
      "File \u001b[1;32mD:\\yjm\\code\\game\\graphic\\__init__.py:1\u001b[0m\n\u001b[1;32m----> 1\u001b[0m \u001b[38;5;28;01mfrom\u001b[39;00m\u001b[38;5;250m \u001b[39m\u001b[38;5;21;01m.\u001b[39;00m\u001b[38;5;21;01mgraphic\u001b[39;00m\u001b[38;5;21;01m.\u001b[39;00m\u001b[38;5;21;01mrender\u001b[39;00m\u001b[38;5;250m \u001b[39m\u001b[38;5;28;01mimport\u001b[39;00m render_test\n\u001b[0;32m      2\u001b[0m VERSION \u001b[38;5;241m=\u001b[39m \u001b[38;5;241m4.5\u001b[39m\n\u001b[0;32m      4\u001b[0m \u001b[38;5;28;01mdef\u001b[39;00m\u001b[38;5;250m \u001b[39m\u001b[38;5;21mprint_version_info\u001b[39m():\n",
      "\u001b[1;31mModuleNotFoundError\u001b[0m: No module named 'game.graphic.graphic'"
     ]
    }
   ],
   "source": [
    "import game.sound.echo\n",
    "import game.graphic.render\n",
    "\n",
    "game.sound.echo.echo_test()\n",
    "game.graphic.render.render_test()\n",
    "\n",
    "\n",
    "#명시적"
   ]
  },
  {
   "cell_type": "code",
   "execution_count": null,
   "id": "ba644b47-beeb-439b-a2dc-0e0996e65a00",
   "metadata": {},
   "outputs": [],
   "source": [
    "from game.sound.echo_v import echo_test as ev\n",
    "from game.sound.echo import echo_test as e\n",
    "ev()\n",
    "e()\n",
    "\n",
    "#중복"
   ]
  },
  {
   "cell_type": "code",
   "execution_count": 1,
   "id": "4e4abb79-5464-4393-b935-3078edae8da0",
   "metadata": {},
   "outputs": [
    {
     "ename": "AttributeError",
     "evalue": "module 'pyfile' has no attribute 'VERSION'",
     "output_type": "error",
     "traceback": [
      "\u001b[1;31m---------------------------------------------------------------------------\u001b[0m",
      "\u001b[1;31mAttributeError\u001b[0m                            Traceback (most recent call last)",
      "Cell \u001b[1;32mIn[1], line 2\u001b[0m\n\u001b[0;32m      1\u001b[0m \u001b[38;5;28;01mimport\u001b[39;00m\u001b[38;5;250m \u001b[39m\u001b[38;5;21;01mpyfile\u001b[39;00m\u001b[38;5;21;01m.\u001b[39;00m\u001b[38;5;21;01mgame\u001b[39;00m\n\u001b[1;32m----> 2\u001b[0m \u001b[38;5;28mprint\u001b[39m(\u001b[43mpyfile\u001b[49m\u001b[38;5;241;43m.\u001b[39;49m\u001b[43mVERSION\u001b[49m)\n",
      "\u001b[1;31mAttributeError\u001b[0m: module 'pyfile' has no attribute 'VERSION'"
     ]
    }
   ],
   "source": [
    "#init 사용\n",
    "import game\n",
    "print(game.VERSION)"
   ]
  },
  {
   "cell_type": "code",
   "execution_count": null,
   "id": "2a15cda8-8668-4944-b806-7ccbb109f6a2",
   "metadata": {},
   "outputs": [],
   "source": [
    "import game\n",
    "# init 한번만  로드"
   ]
  },
  {
   "cell_type": "code",
   "execution_count": null,
   "id": "9398ee18-ef7d-475e-abff-db1100de97ae",
   "metadata": {},
   "outputs": [],
   "source": [
    "game.render_test()"
   ]
  },
  {
   "cell_type": "markdown",
   "id": "8bc78099-a166-46ad-924b-8c27f65ed5ab",
   "metadata": {},
   "source": [
    "## 예외처리\n"
   ]
  },
  {
   "cell_type": "markdown",
   "id": "71f11f12-7a5a-4877-a9d3-44953a18679d",
   "metadata": {},
   "source": [
    "\n",
    "# 오류 처리 예외\n",
    "\n"
   ]
  },
  {
   "cell_type": "code",
   "execution_count": 5,
   "id": "c9c2c86f-b007-4053-acde-87803495c371",
   "metadata": {},
   "outputs": [
    {
     "ename": "_IncompleteInputError",
     "evalue": "incomplete input (1188987634.py, line 3)",
     "output_type": "error",
     "traceback": [
      "\u001b[1;36m  Cell \u001b[1;32mIn[5], line 3\u001b[1;36m\u001b[0m\n\u001b[1;33m    \u001b[0m\n\u001b[1;37m    ^\u001b[0m\n\u001b[1;31m_IncompleteInputError\u001b[0m\u001b[1;31m:\u001b[0m incomplete input\n"
     ]
    }
   ],
   "source": [
    "try:\n",
    "    f =('뜬금파일',r)\n",
    "    "
   ]
  },
  {
   "cell_type": "code",
   "execution_count": 4,
   "id": "ce2a23b4-47cb-4181-ab81-071e1ac0e740",
   "metadata": {},
   "outputs": [
    {
     "name": "stdin",
     "output_type": "stream",
     "text": [
      "나이 입력 20\n"
     ]
    },
    {
     "name": "stdout",
     "output_type": "stream",
     "text": [
      "환영\n",
      "====================\n",
      "분석끝.\n"
     ]
    }
   ],
   "source": [
    "try:\n",
    "    age = int(input(\"나이 입력\"))\n",
    "    \n",
    "except:\n",
    "    print(\"입력정확x\")\n",
    "\n",
    "else:\n",
    "    if age <= 18:\n",
    "        print(\"미성년자 출입금지\")\n",
    "\n",
    "    else:\n",
    "        print(\"환영\")\n",
    "\n",
    "finally:\n",
    "    print('='* 20 + '\\n' + '분석끝.')\n",
    "\n",
    " "
   ]
  },
  {
   "cell_type": "code",
   "execution_count": 6,
   "id": "605373d8-f054-4a82-8f4b-fd5f4323bebc",
   "metadata": {},
   "outputs": [
    {
     "ename": "IndentationError",
     "evalue": "expected an indented block after class definition on line 1 (3343827985.py, line 2)",
     "output_type": "error",
     "traceback": [
      "\u001b[1;36m  Cell \u001b[1;32mIn[6], line 2\u001b[1;36m\u001b[0m\n\u001b[1;33m    def __str__(self):\u001b[0m\n\u001b[1;37m    ^\u001b[0m\n\u001b[1;31mIndentationError\u001b[0m\u001b[1;31m:\u001b[0m expected an indented block after class definition on line 1\n"
     ]
    }
   ],
   "source": [
    "class myerror(Exception):\n",
    "def __str__(self):\n",
    "    return \"fdsfdsfg\""
   ]
  },
  {
   "cell_type": "code",
   "execution_count": 7,
   "id": "1ed85504-81b8-4c3e-a4bb-65fe0fafff27",
   "metadata": {},
   "outputs": [
    {
     "name": "stdout",
     "output_type": "stream",
     "text": [
      "3\n",
      "1.2\n"
     ]
    }
   ],
   "source": [
    "\n",
    "#abs\n",
    "\n",
    "print(abs(-3))\n",
    "print(abs(-1.2))"
   ]
  },
  {
   "cell_type": "code",
   "execution_count": 8,
   "id": "50652727-7923-4080-bd61-dd142047e4a5",
   "metadata": {},
   "outputs": [
    {
     "data": {
      "text/plain": [
       "True"
      ]
     },
     "execution_count": 8,
     "metadata": {},
     "output_type": "execute_result"
    }
   ],
   "source": [
    "all([1,2,3])"
   ]
  },
  {
   "cell_type": "code",
   "execution_count": 13,
   "id": "6983b52d-886c-46c7-b852-9e3ca1c5caba",
   "metadata": {},
   "outputs": [
    {
     "data": {
      "text/plain": [
       "True"
      ]
     },
     "execution_count": 13,
     "metadata": {},
     "output_type": "execute_result"
    }
   ],
   "source": [
    "all([11,22,0,44,55])\n"
   ]
  },
  {
   "cell_type": "code",
   "execution_count": 10,
   "id": "2e6008db-2025-4650-9fac-94829dd65989",
   "metadata": {},
   "outputs": [
    {
     "data": {
      "text/plain": [
       "True"
      ]
     },
     "execution_count": 10,
     "metadata": {},
     "output_type": "execute_result"
    }
   ],
   "source": [
    "all([])"
   ]
  },
  {
   "cell_type": "code",
   "execution_count": 15,
   "id": "5add32ca-b12b-4e51-b1d4-4066a2ff726b",
   "metadata": {},
   "outputs": [
    {
     "name": "stdout",
     "output_type": "stream",
     "text": [
      "True\n",
      "False\n",
      "False\n"
     ]
    }
   ],
   "source": [
    "#any *\n",
    "print(any([1,2,3,0]))\n",
    "print(any([0,\"\",[],False]))\n",
    "print(any([]))"
   ]
  },
  {
   "cell_type": "code",
   "execution_count": 6,
   "id": "43a7d75d-65d7-426c-b513-8ebfa5e37eaf",
   "metadata": {},
   "outputs": [
    {
     "name": "stdout",
     "output_type": "stream",
     "text": [
      "a\n",
      "b\n",
      "c\n",
      "d\n",
      "e\n",
      "f\n",
      "g\n",
      "h\n",
      "i\n",
      "j\n",
      "k\n",
      "l\n",
      "m\n",
      "n\n",
      "o\n",
      "p\n",
      "q\n",
      "r\n",
      "s\n",
      "t\n",
      "u\n",
      "v\n",
      "w\n",
      "x\n",
      "y\n",
      "z\n"
     ]
    },
    {
     "ename": "TypeError",
     "evalue": "unsupported operand type(s) for +: 'NoneType' and 'str'",
     "output_type": "error",
     "traceback": [
      "\u001b[1;31m---------------------------------------------------------------------------\u001b[0m",
      "\u001b[1;31mTypeError\u001b[0m                                 Traceback (most recent call last)",
      "Cell \u001b[1;32mIn[6], line 21\u001b[0m\n\u001b[0;32m     18\u001b[0m     \u001b[38;5;28;01mfor\u001b[39;00m x \u001b[38;5;129;01min\u001b[39;00m \u001b[38;5;28mrange\u001b[39m(\u001b[38;5;241m1\u001b[39m,\u001b[38;5;241m11\u001b[39m):\n\u001b[0;32m     19\u001b[0m         \u001b[38;5;28mprint\u001b[39m(\u001b[38;5;28mchr\u001b[39m(\u001b[38;5;241m67\u001b[39m)\u001b[38;5;241m+\u001b[39m\u001b[38;5;28mstr\u001b[39m(x))\n\u001b[1;32m---> 21\u001b[0m \u001b[43malphabet\u001b[49m\u001b[43m(\u001b[49m\u001b[43m)\u001b[49m\u001b[43m \u001b[49m\u001b[38;5;241;43m+\u001b[39;49m\u001b[38;5;124;43m\"\u001b[39;49m\u001b[38;5;130;43;01m\\n\u001b[39;49;00m\u001b[38;5;124;43m\"\u001b[39;49m\n\u001b[0;32m     22\u001b[0m reverse_alphabet()\n\u001b[0;32m     23\u001b[0m print_alphabet()\n",
      "\u001b[1;31mTypeError\u001b[0m: unsupported operand type(s) for +: 'NoneType' and 'str'"
     ]
    }
   ],
   "source": [
    "def alphabet():\n",
    "    for i in range(97,123):\n",
    "        print(chr(i), end =\"\\n\")\n",
    "       \n",
    "def reverse_alphabet():\n",
    "    for i in range(122,96,-1):\n",
    "        print(chr(i), end =\"\\n\")\n",
    "\n",
    "\n",
    "def print_alphabet():\n",
    "    \n",
    "    for i in range(1,11):\n",
    "        print(chr(65)+str(i))\n",
    "    \n",
    "    for j in range(1,11):\n",
    "        print(chr(66)+str(j))\n",
    "        \n",
    "    for x in range(1,11):\n",
    "        print(chr(67)+str(x))\n",
    "\n",
    "alphabet()\n",
    "reverse_alphabet()\n",
    "print_alphabet()\n"
   ]
  },
  {
   "cell_type": "code",
   "execution_count": null,
   "id": "59d55c09-8220-441b-9d12-3d5225b0737e",
   "metadata": {},
   "outputs": [],
   "source": []
  }
 ],
 "metadata": {
  "kernelspec": {
   "display_name": "Python 3 (ipykernel)",
   "language": "python",
   "name": "python3"
  },
  "language_info": {
   "codemirror_mode": {
    "name": "ipython",
    "version": 3
   },
   "file_extension": ".py",
   "mimetype": "text/x-python",
   "name": "python",
   "nbconvert_exporter": "python",
   "pygments_lexer": "ipython3",
   "version": "3.13.1"
  }
 },
 "nbformat": 4,
 "nbformat_minor": 5
}
