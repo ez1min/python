{
 "cells": [
  {
   "cell_type": "markdown",
   "id": "f7928b80-3b6b-4f4a-8010-4b2bbec47628",
   "metadata": {},
   "source": [
    "## 외부라이브러리"
   ]
  },
  {
   "cell_type": "markdown",
   "id": "c1fd7d62-5987-40d5-a731-cfedde2359bf",
   "metadata": {},
   "source": [
    "## pip *"
   ]
  },
  {
   "cell_type": "markdown",
   "id": "04755a71-0794-42ac-ba83-30878cac5b56",
   "metadata": {},
   "source": [
    "## faker"
   ]
  },
  {
   "cell_type": "code",
   "execution_count": 11,
   "id": "22b5eae8-bf0c-4e0e-b54c-d5a97d50e9f5",
   "metadata": {},
   "outputs": [
    {
     "name": "stdout",
     "output_type": "stream",
     "text": [
      "Collecting Faker\n",
      "  Downloading Faker-36.1.1-py3-none-any.whl.metadata (15 kB)\n",
      "Collecting tzdata (from Faker)\n",
      "  Downloading tzdata-2025.1-py2.py3-none-any.whl.metadata (1.4 kB)\n",
      "Downloading Faker-36.1.1-py3-none-any.whl (1.9 MB)\n",
      "   ---------------------------------------- 0.0/1.9 MB ? eta -:--:--\n",
      "   ---------------------------------------- 1.9/1.9 MB 11.5 MB/s eta 0:00:00\n",
      "Downloading tzdata-2025.1-py2.py3-none-any.whl (346 kB)\n",
      "Installing collected packages: tzdata, Faker\n",
      "Successfully installed Faker-36.1.1 tzdata-2025.1\n"
     ]
    },
    {
     "name": "stderr",
     "output_type": "stream",
     "text": [
      "\n",
      "[notice] A new release of pip is available: 25.0 -> 25.0.1\n",
      "[notice] To update, run: python.exe -m pip install --upgrade pip\n"
     ]
    }
   ],
   "source": [
    "!pip install Faker"
   ]
  },
  {
   "cell_type": "code",
   "execution_count": 28,
   "id": "d3d2f467-e951-4dfd-b2ee-fca554641504",
   "metadata": {},
   "outputs": [
    {
     "data": {
      "text/plain": [
       "[{'name': '최민수', 'address': '강원도 괴산군 봉은사가 394 (수빈엄박면)', 'ph': '070-7043-4496'},\n",
       " {'name': '최예준',\n",
       "  'address': '대전광역시 종로구 봉은사208가 755 (현지최구면)',\n",
       "  'ph': '016-269-2200'},\n",
       " {'name': '김영호', 'address': '인천광역시 강북구 서초대9길 17', 'ph': '062-862-2915'},\n",
       " {'name': '노선영',\n",
       "  'address': '전라북도 횡성군 개포819길 509-8 (지현최오마을)',\n",
       "  'ph': '043-726-0675'},\n",
       " {'name': '이순옥',\n",
       "  'address': '충청남도 철원군 영동대8로 795 (은경김이읍)',\n",
       "  'ph': '041-187-1186'},\n",
       " {'name': '김광수', 'address': '전라남도 양양군 언주631가 지하887', 'ph': '063-181-5185'},\n",
       " {'name': '이우진', 'address': '대전광역시 금천구 서초대로 지하2', 'ph': '055-099-8776'},\n",
       " {'name': '전채원', 'address': '충청남도 포천시 역삼26로 948-81', 'ph': '043-807-6095'},\n",
       " {'name': '우정숙',\n",
       "  'address': '부산광역시 광진구 봉은사740가 지하766 (민준한읍)',\n",
       "  'ph': '055-343-0338'},\n",
       " {'name': '백경숙', 'address': '인천광역시 용산구 서초대27길 173', 'ph': '033-088-5811'}]"
      ]
     },
     "execution_count": 28,
     "metadata": {},
     "output_type": "execute_result"
    }
   ],
   "source": [
    "from faker import Faker\n",
    "fake = Faker('ko-KR')\n",
    "[{'name':fake.name(), 'address':fake.address(), 'ph':fake.phone_number()}for n in range(10)]"
   ]
  },
  {
   "cell_type": "code",
   "execution_count": 18,
   "id": "824e8b18-53ce-4ce9-b985-0997f4e5acf0",
   "metadata": {},
   "outputs": [
    {
     "name": "stdout",
     "output_type": "stream",
     "text": [
      "1위: REBEL HEART /  IVE (아이브)\n",
      "2위: HOME SWEET HOME (feat. 태양, 대성) /  G-DRAGON\n",
      "3위: 나는 반딧불 /  황가람\n",
      "4위: Whiplash /  aespa\n",
      "5위: APT. /  로제 (ROSÉ)\n",
      "6위: 오늘만 I LOVE YOU /  Bruno Mars\n",
      "7위: Drowning /  BOYNEXTDOOR\n",
      "8위: ATTITUDE /  WOODZ\n",
      "9위: toxic till the end /  IVE (아이브)\n",
      "10위: Dash /  로제 (ROSÉ)\n",
      "11위: POWER /  PLAVE\n",
      "12위: HAPPY /  G-DRAGON\n",
      "13위: 내게 사랑이 뭐냐고 물어본다면 /  DAY6 (데이식스)\n",
      "14위: RIZZ /  로이킴\n",
      "15위: DRIP /  PLAVE\n",
      "16위: Island /  BABYMONSTER\n",
      "17위: Chroma Drift /  PLAVE\n",
      "18위: 12:32 (A to T) /  PLAVE\n",
      "19위: 소나기 /  PLAVE\n",
      "20위: 너와의 모든 지금 /  이클립스 (ECLIPSE)\n",
      "\n"
     ]
    }
   ],
   "source": [
    "import requests as req\n",
    "from bs4 import BeautifulSoup as bs\n",
    "url = \"https://www.melon.com/chart/index.htm\"\n",
    "headers = {'User-Agent':'Mozilla/5.0 (Windows NT 10.0; Win64; x64) AppleWebKit/537.36 (KHTML, like Gecko) Chrome/133.0.0.0 Safari/537.36'}\n",
    "web = req.get(url, headers = headers)\n",
    "soup = bs(web.content, 'html.parser') #html 형식으로 이해하기 쉽게 가공\n",
    "\n",
    "title = soup.select('.rank01')[:20]\n",
    "name = soup.select('.checkEllipsis a')[:20]\n",
    "str = ''\n",
    "for i, (t,n) in enumerate(zip(title, name ),1):\n",
    "    str += f'{i}위: {t.text.strip()} /  {n.text}\\n'\n",
    "print(str)"
   ]
  },
  {
   "cell_type": "code",
   "execution_count": 22,
   "id": "02880224-cf71-4e1a-9f48-2b69c2e39af6",
   "metadata": {},
   "outputs": [
    {
     "name": "stdout",
     "output_type": "stream",
     "text": [
      "1위: REBEL HEART /  IVE (아이브)\n",
      "2위: HOME SWEET HOME (feat. 태양, 대성) /  G-DRAGON\n",
      "3위: 나는 반딧불 /  황가람\n",
      "4위: Whiplash /  aespa\n",
      "5위: APT. /  로제 (ROSÉ)\n",
      "6위: 오늘만 I LOVE YOU /  Bruno Mars\n",
      "7위: Drowning /  BOYNEXTDOOR\n",
      "8위: ATTITUDE /  WOODZ\n",
      "9위: toxic till the end /  IVE (아이브)\n",
      "10위: Dash /  로제 (ROSÉ)\n",
      "11위: POWER /  PLAVE\n",
      "12위: HAPPY /  G-DRAGON\n",
      "13위: 내게 사랑이 뭐냐고 물어본다면 /  DAY6 (데이식스)\n",
      "14위: RIZZ /  로이킴\n",
      "15위: DRIP /  PLAVE\n",
      "16위: Chroma Drift /  BABYMONSTER\n",
      "17위: Island /  PLAVE\n",
      "18위: 소나기 /  PLAVE\n",
      "19위: 12:32 (A to T) /  이클립스 (ECLIPSE)\n",
      "20위: 너와의 모든 지금 /  PLAVE\n",
      "\n"
     ]
    }
   ],
   "source": [
    "import melon \n",
    "melon.mel()"
   ]
  },
  {
   "cell_type": "code",
   "execution_count": 27,
   "id": "3a6e5527-481d-4cb3-9d04-0afde0279c6a",
   "metadata": {},
   "outputs": [
    {
     "name": "stdout",
     "output_type": "stream",
     "text": [
      "Collecting html5lib\n",
      "  Downloading html5lib-1.1-py2.py3-none-any.whl.metadata (16 kB)\n",
      "Requirement already satisfied: six>=1.9 in c:\\dev\\lang\\python313\\lib\\site-packages (from html5lib) (1.17.0)\n",
      "Requirement already satisfied: webencodings in c:\\dev\\lang\\python313\\lib\\site-packages (from html5lib) (0.5.1)\n",
      "Downloading html5lib-1.1-py2.py3-none-any.whl (112 kB)\n",
      "Installing collected packages: html5lib\n",
      "Successfully installed html5lib-1.1\n"
     ]
    },
    {
     "name": "stderr",
     "output_type": "stream",
     "text": [
      "\n",
      "[notice] A new release of pip is available: 25.0 -> 25.0.1\n",
      "[notice] To update, run: python.exe -m pip install --upgrade pip\n"
     ]
    }
   ],
   "source": [
    "!pip install html5lib"
   ]
  },
  {
   "cell_type": "code",
   "execution_count": null,
   "id": "d356dd47-8595-47f0-b07a-7e8540b69eb6",
   "metadata": {},
   "outputs": [],
   "source": [
    "import requests as req\n",
    "from bs4 import BeautifulSoup as bs\n",
    "url =\"https://www.pusan.ac.kr/kor/CMS/MenuMgr/menuListOnBuilding.do?mCode=MN202\"\n",
    "headers = {'User-Agent':'Mozilla/5.0 (Windows NT 10.0; Win64; x64) AppleWebKit/537.36 (KHTML, like Gecko) Chrome/133.0.0.0 Safari/537.36'}\n",
    "web = req.get(url, headers = headers)\n",
    "\n",
    "soup = bs(web.content, 'html5lib')\n",
    "menucard = soup.select('.menu-tb1')\n",
    "won = soup.select('.menu-tit01')\n",
    "menu = soup.select('h3.menu-tit01+p')\n",
    "day = soup.select('.day')\n",
    "date = soup.select('.date')\n",
    "#print(day,date)\n",
    "for d,dd,w,m in zip(day,date,won, menu):\n",
    "        print('='*15)\n",
    "        print(d.text, dd.text)\n",
    "        print('-'*15)\n",
    "        print(w.text+'\\n'+ m.text)"
   ]
  },
  {
   "cell_type": "code",
   "execution_count": null,
   "id": "32749883-5a62-429d-89a4-444e4beecb6e",
   "metadata": {},
   "outputs": [],
   "source": [
    "import ps\n",
    "ps.ps()"
   ]
  },
  {
   "cell_type": "code",
   "execution_count": 51,
   "id": "98fa8ef7-b299-4959-9d8e-328afa387860",
   "metadata": {},
   "outputs": [
    {
     "name": "stdout",
     "output_type": "stream",
     "text": [
      "376,000\n"
     ]
    }
   ],
   "source": [
    "import requests as req\n",
    "from bs4 import BeautifulSoup as bs\n",
    "url =\"https://finance.naver.com/sise/sise_market_sum.naver\"\n",
    "headers = {'User-Agent':'Mozilla/5.0 (Linux; Android 6.0; Nexus 5 Build/MRA58N) AppleWebKit/537.36 (KHTML, like Gecko) Chrome/133.0.0.0 Safari/537.36'}\n",
    "web = req.get(url , headers = headers)\n",
    "a= bs(web.content, 'html.parser')\n",
    "b = a.select('.tltle')\n",
    "\n",
    "won = [element.get_text(strip=True) for element in a.select('.number')[10]]\n",
    "\n",
    "#for ww in won:\n",
    "    #print(ww)\n",
    "\n",
    "\n",
    "# for bb,ww in zip(b,won):\n",
    "#     print(bb.text)\n",
    "#     print(ww)\n",
    "\n",
    "# won = a.select('.ComTable_price__Jnkqc')\n",
    "# print(won)\n"
   ]
  },
  {
   "cell_type": "code",
   "execution_count": null,
   "id": "ef952e34-98ba-4998-bec3-bc79366aac4c",
   "metadata": {},
   "outputs": [],
   "source": []
  }
 ],
 "metadata": {
  "kernelspec": {
   "display_name": "Python 3 (ipykernel)",
   "language": "python",
   "name": "python3"
  },
  "language_info": {
   "codemirror_mode": {
    "name": "ipython",
    "version": 3
   },
   "file_extension": ".py",
   "mimetype": "text/x-python",
   "name": "python",
   "nbconvert_exporter": "python",
   "pygments_lexer": "ipython3",
   "version": "3.13.1"
  }
 },
 "nbformat": 4,
 "nbformat_minor": 5
}
