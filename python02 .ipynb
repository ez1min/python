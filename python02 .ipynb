{
 "cells": [
  {
   "cell_type": "markdown",
   "id": "89a56343-64eb-4a5e-9680-729be604e069",
   "metadata": {},
   "source": [
    "## 리스트 자료형\n"
   ]
  },
  {
   "cell_type": "code",
   "execution_count": null,
   "id": "8b444606-da5b-4cab-ac2e-9fd0a48a70c7",
   "metadata": {},
   "outputs": [],
   "source": [
    "odd = [1.3.5.7.9]\n"
   ]
  },
  {
   "cell_type": "code",
   "execution_count": 25,
   "id": "d0178e41-8a6d-4559-be0a-e1db4155366e",
   "metadata": {},
   "outputs": [
    {
     "name": "stdout",
     "output_type": "stream",
     "text": [
      "['Life', 'is']\n",
      "Life\n",
      "is\n",
      "5\n",
      "Lifeshort\n",
      "LifeLifeLife\n",
      "5\n",
      "too\n"
     ]
    }
   ],
   "source": [
    "#리스트 인덱싱 연산\n",
    "a = []\n",
    "b = [1,2,3,]\n",
    "c=['Life', 'is','too','short']\n",
    "d=[1,2,'Life','is']\n",
    "e=[1,2,['Life','is']]\n",
    "print(e[2])\n",
    "print(e[2][0])\n",
    "print(e[2][1])\n",
    "\n",
    "print(b[1]+b[2])\n",
    "print(c[0]+c[3])\n",
    "\n",
    "print(c[0]*b[2])\n",
    "print(b[1]+b[2])\n",
    "print(c[-2])"
   ]
  },
  {
   "cell_type": "code",
   "execution_count": 42,
   "id": "f7054f63-0cd1-4590-82f8-da2948fd1514",
   "metadata": {},
   "outputs": [
    {
     "name": "stdout",
     "output_type": "stream",
     "text": [
      "[11, 22, 33, 44, 55]\n",
      "[33, 44, 55]\n",
      "[33, 44, 55]\n",
      "[11, 22]\n",
      "[44, 55]\n",
      "[55, 44, 33, 22, 11]\n"
     ]
    }
   ],
   "source": [
    "#리스트의 슬라이싱\n",
    "a = [11,22,33,44,55]\n",
    "print(a[:]) # 0생략 , 젤끝\n",
    "print(a[2:])\n",
    "print(a[2:])\n",
    "print(a[:-3])\n",
    "print(a[-2:])\n",
    "print(a[::-1])\n",
    "\n"
   ]
  },
  {
   "cell_type": "code",
   "execution_count": 44,
   "id": "00b533c3-71b3-4a7b-9443-91bc15afd27f",
   "metadata": {},
   "outputs": [
    {
     "data": {
      "text/plain": [
       "[2, 3]"
      ]
     },
     "execution_count": 44,
     "metadata": {},
     "output_type": "execute_result"
    }
   ],
   "source": [
    "\n",
    "#\n",
    "a=[1,2,3,4,5]\n",
    "a[1:3]"
   ]
  },
  {
   "cell_type": "markdown",
   "id": "71429505-993c-4f42-80e2-4d39c4d4fda0",
   "metadata": {},
   "source": [
    "## 리스트의 인덱싱과 슬라이싱"
   ]
  },
  {
   "cell_type": "markdown",
   "id": "9513bb42-3dfc-4919-a952-ab258998dcb2",
   "metadata": {},
   "source": [
    "### 리스트 연산하기"
   ]
  },
  {
   "cell_type": "code",
   "execution_count": 61,
   "id": "6d332549-d8f8-486e-8d10-03c23239b58b",
   "metadata": {},
   "outputs": [
    {
     "name": "stdout",
     "output_type": "stream",
     "text": [
      "[11, 22, 33, 44, 55, 66]\n",
      "[11, 22, 33, 11, 22, 33, 11, 22, 33]\n"
     ]
    },
    {
     "data": {
      "text/plain": [
       "9"
      ]
     },
     "execution_count": 61,
     "metadata": {},
     "output_type": "execute_result"
    }
   ],
   "source": [
    "a = [11,22,33]\n",
    "b = [44,55,66]\n",
    "c= a*3\n",
    "print(a+b) #더하기\n",
    "print(a * 3) #리스트 반복\n",
    "len(c)"
   ]
  },
  {
   "cell_type": "code",
   "execution_count": 58,
   "id": "a3978b16-53fc-481e-8573-b5f262f81387",
   "metadata": {},
   "outputs": [
    {
     "name": "stdout",
     "output_type": "stream",
     "text": [
      "[11, 22, 44]\n",
      "[11, 44]\n"
     ]
    }
   ],
   "source": [
    "#리스트 값 수정\n",
    "a=[11,22,33]\n",
    "a[2] = 44\n",
    "print(a)\n",
    "#a[3] = 55 없는 요소를 수정하는 것응ㄴ 에러\n",
    "#print(a)\n",
    "#a[1]= 0 0으로 수정 삽입\n",
    "#print(a)\n",
    "del a[1]\n",
    "print(a)"
   ]
  },
  {
   "cell_type": "code",
   "execution_count": 62,
   "id": "e23b5876-7171-4ec2-891b-a6b0b9ffd49e",
   "metadata": {},
   "outputs": [
    {
     "name": "stdout",
     "output_type": "stream",
     "text": [
      "[11, 22, 33, 11, 22, 33, 11, 22, 33]\n",
      "[22, 33, 11, 22, 33]\n"
     ]
    }
   ],
   "source": [
    "print(c)\n",
    "del c[:4]\n",
    "print(c)"
   ]
  },
  {
   "cell_type": "markdown",
   "id": "10ee0a60-ed46-406d-979a-de4539e34f3f",
   "metadata": {},
   "source": [
    "### 리스트관련함수 "
   ]
  },
  {
   "cell_type": "code",
   "execution_count": 63,
   "id": "41ddb1b5-04a6-42f9-ae6b-e71a2e5a40cf",
   "metadata": {},
   "outputs": [
    {
     "name": "stdout",
     "output_type": "stream",
     "text": [
      "[]\n"
     ]
    }
   ],
   "source": [
    "#리스트요소비우기\n",
    "c.clear()\n",
    "print(c)"
   ]
  },
  {
   "cell_type": "code",
   "execution_count": null,
   "id": "fef4a4e0-05a0-41c4-ab5d-5bb5eebdfe39",
   "metadata": {},
   "outputs": [],
   "source": [
    "a=[]"
   ]
  },
  {
   "cell_type": "code",
   "execution_count": 66,
   "id": "6c0487ce-756e-4eab-849a-781ce9ad7401",
   "metadata": {},
   "outputs": [
    {
     "name": "stdout",
     "output_type": "stream",
     "text": [
      "[4, 4]\n",
      "[4, 4, [11, 22]]\n"
     ]
    }
   ],
   "source": [
    "a.append(4)\n",
    "print(a)\n",
    "a.append([11,22])\n",
    "\n",
    "print(a)"
   ]
  },
  {
   "cell_type": "code",
   "execution_count": null,
   "id": "ef4eb04b-2ce7-4dd3-91e4-d7887be5eb17",
   "metadata": {},
   "outputs": [],
   "source": [
    "a"
   ]
  },
  {
   "cell_type": "code",
   "execution_count": 74,
   "id": "063f8fec-add0-4815-b7ad-be5020674890",
   "metadata": {},
   "outputs": [
    {
     "name": "stdout",
     "output_type": "stream",
     "text": [
      "[1]\n"
     ]
    }
   ],
   "source": [
    "num =0\n",
    "num+=1\n",
    "b.append(num)\n",
    "print(b)"
   ]
  },
  {
   "cell_type": "code",
   "execution_count": 73,
   "id": "7a2cf467-91d6-4d40-ab3f-cc5d57936d89",
   "metadata": {
    "scrolled": true
   },
   "outputs": [
    {
     "name": "stdout",
     "output_type": "stream",
     "text": [
      "[11, 22, 33, 44, 55]\n"
     ]
    }
   ],
   "source": [
    "#리스트 정렬 -sort\n",
    "a=[11,44,33,22,55]\n",
    "a.sort()\n",
    "print(a)"
   ]
  },
  {
   "cell_type": "code",
   "execution_count": 77,
   "id": "d8e84c6a-1f30-4464-a7ce-05d471f18d50",
   "metadata": {},
   "outputs": [
    {
     "name": "stdout",
     "output_type": "stream",
     "text": [
      "[55, 44, 33, 22, 11]\n"
     ]
    }
   ],
   "source": [
    "#리스트 정렬 -sort 내림차\n",
    "a=[11,44,33,22,55]\n",
    "a.sort(reverse=True)\n",
    "print(a)"
   ]
  },
  {
   "cell_type": "code",
   "execution_count": 80,
   "id": "672347c3-e940-4747-9955-90306f1d5281",
   "metadata": {},
   "outputs": [
    {
     "name": "stdout",
     "output_type": "stream",
     "text": [
      "[66, 77, 88, 99, 0]\n",
      "[0, 66, 77, 88, 99]\n"
     ]
    }
   ],
   "source": [
    "#리스트정렬 원본유지\n",
    "aa=[66,77,88,99,0]\n",
    "bb= sorted(aa)\n",
    "\n",
    "print(aa)\n",
    "print(bb)"
   ]
  },
  {
   "cell_type": "code",
   "execution_count": 105,
   "id": "3cf748ed-a0a0-4e5c-a333-09b7b801bc9b",
   "metadata": {},
   "outputs": [
    {
     "name": "stdout",
     "output_type": "stream",
     "text": [
      "['kiwi', 'pear', 'melon', 'apple', 'banana', 'orange', 'blueberry', 'strawberry']\n",
      "['strawberry', 'blueberry', 'banana', 'orange', 'melon', 'apple', 'kiwi', 'pear']\n",
      "kiwi냠냠\n",
      "pear냠냠\n",
      "melon냠냠\n",
      "apple냠냠\n",
      "banana못먹겟어\n",
      "orange냠냠\n",
      "blueberry냠냠\n",
      "strawberry냠냠\n",
      "다먹었다\n"
     ]
    }
   ],
   "source": [
    "#sorted 응용\n",
    "fruit = ['banana', 'kiwi','orange','melon','pear','apple','strawberry','blueberry']\n",
    "result = sorted(fruit,key=len)\n",
    "result2 = sorted(fruit,key=len,reverse=True)\n",
    "print(result)\n",
    "print(result2)\n",
    "\n",
    "for r in result:\n",
    "    if r=='banana':\n",
    "        print(r+'못먹겟어')\n",
    "    if r!='banana':\n",
    "        print(r + '냠냠')\n",
    "print('다먹었다')"
   ]
  },
  {
   "cell_type": "code",
   "execution_count": 94,
   "id": "ed85a4d6-1dd8-4314-9aa6-13964e2bb6d3",
   "metadata": {},
   "outputs": [
    {
     "name": "stdout",
     "output_type": "stream",
     "text": [
      "[55, 22, 33, 44, 11]\n"
     ]
    }
   ],
   "source": [
    "#리스트 뒤집기 \n",
    "a = [11,44,33,22,55]\n",
    "a.reverse()\n",
    "print(a)"
   ]
  },
  {
   "cell_type": "code",
   "execution_count": 73,
   "id": "0e45436c-4fb6-4c0b-876b-5f336c20d299",
   "metadata": {},
   "outputs": [
    {
     "name": "stdout",
     "output_type": "stream",
     "text": [
      "[11, 22, 33, 44, 55]\n"
     ]
    }
   ],
   "source": [
    "fruit = ['banana', 'kiwi','orange','melon','pear','apple','strawberry','blueberry']\n",
    "fruit.index('melon')"
   ]
  },
  {
   "cell_type": "code",
   "execution_count": 100,
   "id": "0f1d208a-d0b2-43d0-bb92-0bfbeda0ae81",
   "metadata": {},
   "outputs": [
    {
     "name": "stdin",
     "output_type": "stream",
     "text": [
      "먹고 싶은 과일을 입력하세요 melon\n"
     ]
    },
    {
     "name": "stdout",
     "output_type": "stream",
     "text": [
      "melon 를 좋아하시군요 그것은 4 번 째에 있습니다.\n"
     ]
    }
   ],
   "source": [
    "fruit = ['banana', 'kiwi','orange','melon','pear','apple','strawberry','blueberry']\n",
    "want = input('먹고 싶은 과일을 입력하세요')\n",
    "where = fruit.index(want)\n",
    "print(f'{want} 를 좋아하시군요 그것은 {where+1} 번 째에 있습니다.')\n"
   ]
  },
  {
   "cell_type": "code",
   "execution_count": 108,
   "id": "3c29f411-f30e-4e3b-a948-e420495bc6d8",
   "metadata": {},
   "outputs": [
    {
     "name": "stdout",
     "output_type": "stream",
     "text": [
      "[11, 22, 33, 44, 55, 66, 77, 88]\n"
     ]
    }
   ],
   "source": [
    "#리스트에 요소 삽입 - insert\n",
    "num = [11,22,33,55,66,77,88,]\n",
    "num.insert(3,44) #3 위치 44 원하는값\n",
    "print(num)\n"
   ]
  },
  {
   "cell_type": "code",
   "execution_count": null,
   "id": "8f10000d-af15-4212-b50d-dd306e181a44",
   "metadata": {},
   "outputs": [],
   "source": [
    "ex = []"
   ]
  },
  {
   "cell_type": "code",
   "execution_count": 118,
   "id": "74e893de-0cb7-4bb6-9e59-59015c0b6d6c",
   "metadata": {},
   "outputs": [
    {
     "name": "stdout",
     "output_type": "stream",
     "text": [
      "['맨앞', '맨앞', 11, 11, 11, 11, 1, '-1인덱스', 3, 3]\n",
      "['맨앞', '맨앞', 11, 11, 11, 11, 1, '-1인덱스', 3, '-1인덱스', 3]\n",
      "['맨앞', '맨앞', '맨앞', 11, 11, 11, 11, 1, '-1인덱스', 3, '-1인덱스', 3]\n",
      "['맨앞', '맨앞', '맨앞', 11, 11, 11, 11, 1, '-1인덱스', 3, '-1인덱스', 3, '제일 끝']\n"
     ]
    }
   ],
   "source": [
    "ex.insert(0,'맨앞')\n",
    "print(ex)\n",
    "ex.insert(-1,'-1인덱스')\n",
    "print(ex)\n",
    "ex.insert(0,'맨앞')\n",
    "print(ex)\n",
    "ex.insert(len(ex),'제일 끝') #len 길이 반영 가능 \n",
    "print(ex)"
   ]
  },
  {
   "cell_type": "code",
   "execution_count": 4,
   "id": "6e25cbad-05e3-4a4b-91e4-99765b0dbbab",
   "metadata": {},
   "outputs": [
    {
     "name": "stdout",
     "output_type": "stream",
     "text": [
      "[1, 2, 1, 2, 3]\n"
     ]
    }
   ],
   "source": [
    "#리스트 요소 제거\n",
    "a= [1,2,3,1,2,3]\n",
    "a.remove(3)\n",
    "print(a)"
   ]
  },
  {
   "cell_type": "code",
   "execution_count": null,
   "id": "812f6d26-5e5b-452d-b1fb-6786ef9d6fe6",
   "metadata": {},
   "outputs": [],
   "source": [
    "#리스트 요소 끄집어 내기 -pop )\n",
    "a= [1,2,3]"
   ]
  },
  {
   "cell_type": "code",
   "execution_count": 53,
   "id": "211badaa-6f78-4c0d-832f-6c7b652fd827",
   "metadata": {},
   "outputs": [
    {
     "name": "stdout",
     "output_type": "stream",
     "text": [
      "[1, 2, 3]\n",
      "받은거 4\n"
     ]
    }
   ],
   "source": [
    "a= [1,2,3,4] \n",
    "hand = a.pop() #맨 마지막 요소를 리턴 \n",
    "print(a)\n",
    "print(\"받은거\",hand)"
   ]
  },
  {
   "cell_type": "code",
   "execution_count": 1,
   "id": "d3e50bd9-1d7d-43c3-a2e6-61d423d3afea",
   "metadata": {},
   "outputs": [
    {
     "name": "stdout",
     "output_type": "stream",
     "text": [
      "1\n"
     ]
    }
   ],
   "source": [
    "#요소 세기\n",
    "st = [1,2,3,4,5,4,4,56,4,5,3,45,3]\n",
    "print(st.count(1))"
   ]
  },
  {
   "cell_type": "code",
   "execution_count": 60,
   "id": "3128de63-fdbc-4104-9d6f-21adc7a6a6be",
   "metadata": {},
   "outputs": [
    {
     "name": "stdout",
     "output_type": "stream",
     "text": [
      "[1, 2, 3, 4, 5]\n"
     ]
    }
   ],
   "source": [
    "#리스트 확장\n",
    "a = [1,2,3]\n",
    "a.extend([4,5])\n",
    "print(a)"
   ]
  },
  {
   "cell_type": "code",
   "execution_count": null,
   "id": "e835b4c2-57be-4c13-98b7-312c2a95cca4",
   "metadata": {},
   "outputs": [],
   "source": [
    "#장바구니\n",
    "bag = []"
   ]
  },
  {
   "cell_type": "code",
   "execution_count": 80,
   "id": "11f8d229-86b3-41ff-ac3c-b613958ec14b",
   "metadata": {},
   "outputs": [
    {
     "name": "stdin",
     "output_type": "stream",
     "text": [
      "필요한 항목을 넣어주세요. 감자\n"
     ]
    },
    {
     "name": "stdout",
     "output_type": "stream",
     "text": [
      "장바구니에는 ['양파', '감자']들이 있습니다.\n"
     ]
    }
   ],
   "source": [
    "#create 생성\n",
    "inp = input('필요한 항목을 넣어주세요.')\n",
    "bag.append(inp)\n",
    "print(f'장바구니에는 {bag}들이 있습니다.')"
   ]
  },
  {
   "cell_type": "code",
   "execution_count": 81,
   "id": "6042a6cd-9039-47a6-9f6a-2411ff201c13",
   "metadata": {},
   "outputs": [
    {
     "name": "stdout",
     "output_type": "stream",
     "text": [
      "양파를 꺼내서 장바구니에 ['감자']이 남았습니다.\n"
     ]
    }
   ],
   "source": [
    "#fifo 출력(큐 출력_\n",
    "hand = bag.pop(0)\n",
    "print(f'{hand}를 꺼내서 장바구니에 {bag}이 남았습니다.')"
   ]
  },
  {
   "cell_type": "code",
   "execution_count": 91,
   "id": "b9aa2c2c-1b46-453f-8825-466be28bd3ac",
   "metadata": {},
   "outputs": [
    {
     "name": "stdout",
     "output_type": "stream",
     "text": [
      "바구니에 {'맥주', '피자', '소주', '호박', '감자'}물품이 있습니다.\n"
     ]
    },
    {
     "name": "stdin",
     "output_type": "stream",
     "text": [
      "꺼내고 싶은 물품을 입력 하세요. 소주\n"
     ]
    },
    {
     "ename": "AttributeError",
     "evalue": "'set' object has no attribute 'index'",
     "output_type": "error",
     "traceback": [
      "\u001b[1;31m---------------------------------------------------------------------------\u001b[0m",
      "\u001b[1;31mAttributeError\u001b[0m                            Traceback (most recent call last)",
      "Cell \u001b[1;32mIn[91], line 5\u001b[0m\n\u001b[0;32m      3\u001b[0m \u001b[38;5;28mprint\u001b[39m(\u001b[38;5;124mf\u001b[39m\u001b[38;5;124m\"\u001b[39m\u001b[38;5;124m바구니에 \u001b[39m\u001b[38;5;132;01m{\u001b[39;00mbag\u001b[38;5;132;01m}\u001b[39;00m\u001b[38;5;124m물품이 있습니다.\u001b[39m\u001b[38;5;124m\"\u001b[39m)\n\u001b[0;32m      4\u001b[0m bring  \u001b[38;5;241m=\u001b[39m \u001b[38;5;28minput\u001b[39m(\u001b[38;5;124m'\u001b[39m\u001b[38;5;124m꺼내고 싶은 물품을 입력 하세요.\u001b[39m\u001b[38;5;124m'\u001b[39m)\n\u001b[1;32m----> 5\u001b[0m hand2  \u001b[38;5;241m=\u001b[39m bag\u001b[38;5;241m.\u001b[39mpop(\u001b[43mbag\u001b[49m\u001b[38;5;241;43m.\u001b[39;49m\u001b[43mindex\u001b[49m(bring))\n\u001b[0;32m      6\u001b[0m \u001b[38;5;28mprint\u001b[39m(\u001b[38;5;124mf\u001b[39m\u001b[38;5;124m\"\u001b[39m\u001b[38;5;124m바구니에서 \u001b[39m\u001b[38;5;132;01m{\u001b[39;00mhand2\u001b[38;5;132;01m}\u001b[39;00m\u001b[38;5;124m 꺼내어 \u001b[39m\u001b[38;5;132;01m{\u001b[39;00mbag\u001b[38;5;132;01m}\u001b[39;00m\u001b[38;5;124m이 남았습니다.\u001b[39m\u001b[38;5;124m\"\u001b[39m)\n",
      "\u001b[1;31mAttributeError\u001b[0m: 'set' object has no attribute 'index'"
     ]
    }
   ],
   "source": [
    "#선택 출력\n",
    "bag={'호박', '감자','소주','맥주','피자'}\n",
    "print(f\"바구니에 {bag}물품이 있습니다.\")\n",
    "bring  = input('꺼내고 싶은 물품을 입력 하세요.')\n",
    "hand2  = bag.pop(bag.index(bring))\n",
    "print(f\"바구니에서 {hand2} 꺼내어 {bag}이 남았습니다.\")"
   ]
  },
  {
   "cell_type": "code",
   "execution_count": 88,
   "id": "b5b446d6-7797-4bff-81e0-5382cfd4eac4",
   "metadata": {},
   "outputs": [
    {
     "name": "stdout",
     "output_type": "stream",
     "text": [
      "33를 제거 하였습니다\n"
     ]
    }
   ],
   "source": [
    "#테스트, remove는 리턴값 x \n",
    "choice = 33\n",
    "a=[11,22,33,44,55,66]\n",
    "a.remove(choice)\n",
    "print(f'{choice}를 제거 하였습니다')"
   ]
  },
  {
   "cell_type": "code",
   "execution_count": null,
   "id": "78ce6594-3f36-4d90-81f1-27a8f729b1b4",
   "metadata": {},
   "outputs": [],
   "source": [
    "#실습\n",
    "\n",
    "bag=['호박', '감자','소주', '맥주','피자']\n",
    "test1 = input('추가할 물건')\n",
    "test2 = input('어느 물품 뒤에?')\n",
    "위치 = (bag.index(test2))+1\n",
    "bag.insert(위치,test1)\n",
    "print(bag)\n",
    "\n"
   ]
  },
  {
   "cell_type": "code",
   "execution_count": 134,
   "id": "16274efa-7dcb-4b8b-949e-d442371cf7d3",
   "metadata": {},
   "outputs": [
    {
     "name": "stdin",
     "output_type": "stream",
     "text": [
      "누구게? 숫자 입력. 5\n"
     ]
    },
    {
     "name": "stdout",
     "output_type": "stream",
     "text": [
      "(9, <class 'int'>)\n"
     ]
    }
   ],
   "source": [
    "#테스트\n",
    "num = int(input(\"누구게? 숫자 입력.\"))\n",
    "print((int(num)+4 , type(num)))"
   ]
  },
  {
   "cell_type": "code",
   "execution_count": 235,
   "id": "33169bbe-a2d3-44a3-8e35-177f811a3b16",
   "metadata": {
    "scrolled": true
   },
   "outputs": [
    {
     "name": "stdout",
     "output_type": "stream",
     "text": [
      "<class 'list'>\n",
      "1,460.8 <class 'str'>\n",
      "14608 <class 'str'>\n"
     ]
    }
   ],
   "source": [
    "import requests\n",
    "import json\n",
    "url = 'https://www.koreaexim.go.kr/site/program/financial/exchangeJSON?authkey=qk0p0bggBwBY0NWKqAxuQ85q15uy6EJZ&searchdate=&data=AP01'\n",
    "res = requests.get(url).text\n",
    "#print(res)\n",
    "data = json.loads(res)\n",
    "print(type(data))\n",
    "result = data[-1]['deal_bas_r'] # 젤 마지막줄에 있어서 -1넣음\n",
    "print(result,type(result))\n",
    "res2 = result.replace(\",\",\"\").replace(\".\",\"\")\n",
    "print(res2,type(res2))\n",
    "exc = int(res2)/10\n",
    "\n",
    "#print(exc:0.4f)"
   ]
  },
  {
   "cell_type": "code",
   "execution_count": 2,
   "id": "bfa0f69e-a87b-463d-8052-577cb6dbae6f",
   "metadata": {},
   "outputs": [
    {
     "name": "stdin",
     "output_type": "stream",
     "text": [
      "원화로 계산할 달러를 입력하세요. 4\n"
     ]
    },
    {
     "name": "stdout",
     "output_type": "stream",
     "text": [
      "1달러는 1,450원 이므로 \n",
      " 4달러는 5800원 입니다\n"
     ]
    }
   ],
   "source": [
    "#환율계산기만들기\n",
    "exc = 1450\n",
    "dollor = int(input(\"원화로 계산할 달러를 입력하세요.\"))\n",
    "res = dollor * exc\n",
    "print(f\"1달러는 {exc:,}원 이므로 \\n {dollor}달러는 {res}원 입니다\")\n"
   ]
  },
  {
   "cell_type": "code",
   "execution_count": null,
   "id": "6221bb39-f38d-44ed-87b1-60189f07ed25",
   "metadata": {},
   "outputs": [],
   "source": [
    "\n"
   ]
  },
  {
   "cell_type": "markdown",
   "id": "8aff207d-3f8a-4fde-a789-63353973a259",
   "metadata": {},
   "source": [
    "## 튜플 자료형"
   ]
  },
  {
   "cell_type": "markdown",
   "id": "176904e1-1f2d-4263-ae17-d50d1695e2f8",
   "metadata": {
    "jp-MarkdownHeadingCollapsed": true
   },
   "source": [
    "t1 = ()\n",
    "t2 = (1,)\n",
    "t3 = (1,2,3)\n",
    "t4 = 1,2,3\n",
    "t5 =('a','b',('ab','cd'))"
   ]
  },
  {
   "cell_type": "code",
   "execution_count": 201,
   "id": "c2bfdf2b-8378-4757-8267-064661cc28de",
   "metadata": {},
   "outputs": [
    {
     "ename": "TypeError",
     "evalue": "'tuple' object doesn't support item deletion",
     "output_type": "error",
     "traceback": [
      "\u001b[1;31m---------------------------------------------------------------------------\u001b[0m",
      "\u001b[1;31mTypeError\u001b[0m                                 Traceback (most recent call last)",
      "Cell \u001b[1;32mIn[201], line 2\u001b[0m\n\u001b[0;32m      1\u001b[0m t1 \u001b[38;5;241m=\u001b[39m (\u001b[38;5;241m1\u001b[39m,\u001b[38;5;241m2\u001b[39m,\u001b[38;5;124m'\u001b[39m\u001b[38;5;124ma\u001b[39m\u001b[38;5;124m'\u001b[39m,\u001b[38;5;124m'\u001b[39m\u001b[38;5;124mb\u001b[39m\u001b[38;5;124m'\u001b[39m)\n\u001b[1;32m----> 2\u001b[0m \u001b[38;5;28;01mdel\u001b[39;00m \u001b[43mt1\u001b[49m\u001b[43m[\u001b[49m\u001b[38;5;241;43m0\u001b[39;49m\u001b[43m]\u001b[49m \n\u001b[0;32m      4\u001b[0m \u001b[38;5;66;03m#TypeError: 'tuple' object doesn't support item deletion 튜블은 요솟값 지울수 없음\u001b[39;00m\n\u001b[0;32m      6\u001b[0m t1 \u001b[38;5;241m=\u001b[39m (\u001b[38;5;241m1\u001b[39m,\u001b[38;5;241m2\u001b[39m,\u001b[38;5;124m'\u001b[39m\u001b[38;5;124ma\u001b[39m\u001b[38;5;124m'\u001b[39m,\u001b[38;5;124m'\u001b[39m\u001b[38;5;124mb\u001b[39m\u001b[38;5;124m'\u001b[39m)\n",
      "\u001b[1;31mTypeError\u001b[0m: 'tuple' object doesn't support item deletion"
     ]
    }
   ],
   "source": [
    "t1 = (1,2,'a','b')\n",
    "del t1[0] \n",
    "\n",
    "#TypeError: 'tuple' object doesn't support item deletion 튜블은 요솟값 지울수 없음\n",
    "\n",
    "t1 = (1,2,'a','b')\n",
    "t1[0]='c'\n",
    "#TypeError: 'tuple' object doesn't support item assignment "
   ]
  },
  {
   "cell_type": "markdown",
   "id": "332a6ebc-b88d-4488-bf6b-154b97590c90",
   "metadata": {},
   "source": [
    "## 딕셔너리 "
   ]
  },
  {
   "cell_type": "code",
   "execution_count": 205,
   "id": "8ff85304-5bb0-49fa-99c8-63bcc81ad26d",
   "metadata": {},
   "outputs": [
    {
     "name": "stdout",
     "output_type": "stream",
     "text": [
      "pey\n",
      "010-0000-0000\n",
      "1118\n"
     ]
    }
   ],
   "source": [
    "dic = {'name':'pey','phone':'010-0000-0000','birth':'1118'} \n",
    "print(dic['name'])\n",
    "print(dic['phone'])\n",
    "print(dic['birth'])"
   ]
  },
  {
   "cell_type": "code",
   "execution_count": 276,
   "id": "297304ee-e7f0-40b5-8862-33a9a019194e",
   "metadata": {},
   "outputs": [
    {
     "name": "stdout",
     "output_type": "stream",
     "text": [
      "11\n",
      "11\n",
      "33\n"
     ]
    }
   ],
   "source": [
    "al = [11,22,33,44,55]\n",
    "at = 11,22,33,44,55\n",
    "ad = {0:11,1:22,2:33,3:44,4:55}\n",
    "print(al[0])\n",
    "print(at[0])\n",
    "print(ad[2])\n"
   ]
  },
  {
   "cell_type": "code",
   "execution_count": 210,
   "id": "b6310e28-7bb7-413b-bea4-19c6c6b84f31",
   "metadata": {},
   "outputs": [
    {
     "name": "stdout",
     "output_type": "stream",
     "text": [
      "11\n",
      "22\n",
      "33\n",
      "44\n",
      "55\n",
      "==========\n",
      "11\n",
      "22\n",
      "33\n",
      "44\n",
      "55\n"
     ]
    }
   ],
   "source": [
    "#test\n",
    "for l in al:\n",
    "    print(l)\n",
    "print('='*10)\n",
    "for t in at:\n",
    "        print(t)"
   ]
  },
  {
   "cell_type": "code",
   "execution_count": 215,
   "id": "19ac3fb9-f1ce-4661-921e-06544f229888",
   "metadata": {},
   "outputs": [
    {
     "name": "stdout",
     "output_type": "stream",
     "text": [
      "{'name': 'pey', 'phone': '010-0000-0000', 'array': [1, 2, 3, 4, 5]}\n",
      "{'name': 'pey', 'array': [1, 2, 3, 4, 5]}\n"
     ]
    }
   ],
   "source": [
    "dic['array']=[1,2,3,4,5]\n",
    "print(dic)\n",
    "\n",
    "del dic['phone']\n",
    "print(dic)\n"
   ]
  },
  {
   "cell_type": "markdown",
   "id": "20640225-b457-41a1-a1a7-2ec82cb7e57f",
   "metadata": {},
   "source": [
    "## 딕셔너리 관련 함수"
   ]
  },
  {
   "cell_type": "code",
   "execution_count": null,
   "id": "2a904ecc-87cf-4132-80b2-44bc4ed95888",
   "metadata": {},
   "outputs": [],
   "source": []
  },
  {
   "cell_type": "code",
   "execution_count": 244,
   "id": "51073194-0d30-4e0b-a3b0-572afbf2d18e",
   "metadata": {},
   "outputs": [
    {
     "name": "stdout",
     "output_type": "stream",
     "text": [
      "dict_keys(['name', 'phone', 'birth', 'adress', 'array'])\n",
      "dict_values(['pey', '010-0000-0000', '1118', 'busan', [1, 2, 3, 4, 5]])\n",
      "dict_items([('name', 'pey'), ('phone', '010-0000-0000'), ('birth', '1118'), ('adress', 'busan'), ('array', [1, 2, 3, 4, 5])])\n",
      "{'name': 'pey', 'phone': '010-0000-0000', 'birth': '1118', 'adress': 'busan', 'array': [1, 2, 3, 4, 5]}\n",
      "{}\n"
     ]
    }
   ],
   "source": [
    "a = {'name':'pey','phone':'010-0000-0000','birth':'1118','adress':'busan','array':[1,2,3,4,5]}\n",
    "print(a.keys())\n",
    "print(a.values()) \n",
    "print(a.items()) #쌍 얻기\n",
    "print(a)\n",
    "a.clear()\n",
    "print(a)"
   ]
  },
  {
   "cell_type": "code",
   "execution_count": 243,
   "id": "715c0148-9645-4c52-abe2-ef941548e7d9",
   "metadata": {},
   "outputs": [
    {
     "name": "stdout",
     "output_type": "stream",
     "text": [
      "name\n",
      "phone\n",
      "birth\n",
      "adress\n",
      "array\n",
      "pey\n",
      "010-0000-0000\n",
      "1118\n",
      "busan\n",
      "[1, 2, 3, 4, 5]\n"
     ]
    }
   ],
   "source": [
    "for k in a.keys():\n",
    "    print(k)\n",
    "for k in a.values():\n",
    "    print(k)"
   ]
  },
  {
   "cell_type": "code",
   "execution_count": 252,
   "id": "72632dac-d515-4756-95ec-13edff981102",
   "metadata": {},
   "outputs": [
    {
     "name": "stdout",
     "output_type": "stream",
     "text": [
      "pey\n",
      "None\n"
     ]
    },
    {
     "ename": "KeyError",
     "evalue": "'money'",
     "output_type": "error",
     "traceback": [
      "\u001b[1;31m---------------------------------------------------------------------------\u001b[0m",
      "\u001b[1;31mKeyError\u001b[0m                                  Traceback (most recent call last)",
      "Cell \u001b[1;32mIn[252], line 4\u001b[0m\n\u001b[0;32m      2\u001b[0m \u001b[38;5;28mprint\u001b[39m(a\u001b[38;5;241m.\u001b[39mget(\u001b[38;5;124m'\u001b[39m\u001b[38;5;124mname\u001b[39m\u001b[38;5;124m'\u001b[39m))\n\u001b[0;32m      3\u001b[0m \u001b[38;5;28mprint\u001b[39m(a\u001b[38;5;241m.\u001b[39mget(\u001b[38;5;124m'\u001b[39m\u001b[38;5;124msuper\u001b[39m\u001b[38;5;124m'\u001b[39m)) \u001b[38;5;66;03m#get 은 오류 안일어남\u001b[39;00m\n\u001b[1;32m----> 4\u001b[0m \u001b[38;5;28mprint\u001b[39m(\u001b[43ma\u001b[49m\u001b[43m[\u001b[49m\u001b[38;5;124;43m'\u001b[39;49m\u001b[38;5;124;43mmoney\u001b[39;49m\u001b[38;5;124;43m'\u001b[39;49m\u001b[43m]\u001b[49m)\n\u001b[0;32m      5\u001b[0m \u001b[38;5;28mprint\u001b[39m(\u001b[38;5;124m'\u001b[39m\u001b[38;5;124mname\u001b[39m\u001b[38;5;124m'\u001b[39m \u001b[38;5;129;01min\u001b[39;00m a)\n",
      "\u001b[1;31mKeyError\u001b[0m: 'money'"
     ]
    }
   ],
   "source": [
    "a = {'name':'pey','phone':'010-0000-0000','birth':'1118','adress':'busan','array':[1,2,3,4,5]}\n",
    "print(a.get('name'))\n",
    "print(a.get('super')) #get 은 오류 안일어남\n",
    "print(a['money'])\n"
   ]
  },
  {
   "cell_type": "code",
   "execution_count": 253,
   "id": "5a56ce5a-138b-4f2c-9036-1169050ee1dc",
   "metadata": {},
   "outputs": [
    {
     "name": "stdout",
     "output_type": "stream",
     "text": [
      "True\n"
     ]
    }
   ],
   "source": [
    "a = {'name':'pey','phone':'010-0000-0000','birth':'1118','adress':'busan','array':[1,2,3,4,5]}\n",
    "print('name' in a)"
   ]
  },
  {
   "cell_type": "code",
   "execution_count": 1,
   "id": "9231de8a-e9db-4293-9d6f-bf3aa15a3760",
   "metadata": {},
   "outputs": [
    {
     "name": "stdout",
     "output_type": "stream",
     "text": [
      "True\n",
      "False\n",
      "False\n",
      "True\n",
      "False\n"
     ]
    }
   ],
   "source": [
    "al = [11,22,33,44,55]\n",
    "at = 11,22,33,44,55\n",
    "ad = {0:11,1:22,2:33,3:44,4:55,5:'DD','birth':'1118'}\n",
    "\n",
    "print(11 in al)\n",
    "print(444 in al)\n",
    "print('DD'in ad) #in key 만 찾음\n",
    "print(5 in ad)\n",
    "print('1118' in ad)"
   ]
  },
  {
   "cell_type": "code",
   "execution_count": 1,
   "id": "3886c562-45b2-4470-8216-5c9c2a23713d",
   "metadata": {},
   "outputs": [
    {
     "name": "stdout",
     "output_type": "stream",
     "text": [
      "0.2071277247057952\n"
     ]
    }
   ],
   "source": []
  },
  {
   "cell_type": "code",
   "execution_count": 6,
   "id": "8fb0641b-fa52-4bc2-99f4-e77c5320f6a5",
   "metadata": {},
   "outputs": [
    {
     "name": "stdout",
     "output_type": "stream",
     "text": [
      "['구내식당', '편의점', '도시락', '굶기']\n"
     ]
    }
   ],
   "source": [
    "#random=[\"구내식당\",\"편의점\",\"도시락\",\"굶기\"]\n",
    "#menu = rando.random()\n",
    "#print(menu)"
   ]
  },
  {
   "cell_type": "code",
   "execution_count": null,
   "id": "407bcb18-5ec8-4691-b93c-bcb728caf532",
   "metadata": {},
   "outputs": [],
   "source": [
    "\n"
   ]
  },
  {
   "cell_type": "markdown",
   "id": "2911ed2c-6820-4d17-997b-5776e156ee72",
   "metadata": {},
   "source": [
    "## 집합자료형\n",
    "\n"
   ]
  },
  {
   "cell_type": "code",
   "execution_count": 8,
   "id": "927e9c55-eac6-4dcd-9f91-310a53f12efb",
   "metadata": {},
   "outputs": [
    {
     "name": "stdout",
     "output_type": "stream",
     "text": [
      "set[1, 2, 3] <class 'types.GenericAlias'>\n",
      "{'o', 'l', 'e', 'h'} <class 'set'>\n"
     ]
    }
   ],
   "source": [
    "s1 = set[(1,2,3)]\n",
    "print(s1,type(s1))\n",
    "s2 = set(\"hello\")\n",
    "print(s2,type(s2))"
   ]
  },
  {
   "cell_type": "code",
   "execution_count": 14,
   "id": "bad95bbd-c562-4a2e-8b07-5418f9af731f",
   "metadata": {},
   "outputs": [
    {
     "name": "stdout",
     "output_type": "stream",
     "text": [
      "[33, 11, 22] <class 'list'>\n",
      "(33, 11, 22) <class 'tuple'>\n"
     ]
    }
   ],
   "source": [
    "s1 = set([11,22,33])\n",
    "li = list(s1)\n",
    "print(li,type(li))\n",
    "t1 = tuple(s1)\n",
    "print(t1,type(t1))"
   ]
  },
  {
   "cell_type": "code",
   "execution_count": 26,
   "id": "3f60addb-7c9b-4cd8-b385-fd32057981be",
   "metadata": {},
   "outputs": [
    {
     "name": "stdout",
     "output_type": "stream",
     "text": [
      "{4, 5, 6}\n",
      "{4, 5, 6}\n",
      "{1, 2, 3, 4, 5, 6, 7, 8}\n",
      "{1, 2, 3, 4, 5, 6, 7, 8}\n"
     ]
    }
   ],
   "source": [
    "\n",
    "s1= set([1,2,3,4,5,6])\n",
    "s2 =set([4,5,6,6,7,8])\n",
    "print(s1 & s2)\n",
    "print(s1.intersection(s2))\n",
    "print(s1|s2)\n",
    "print(s1.union(s2))\n",
    "\n",
    "# 차집합은 빼면됨"
   ]
  },
  {
   "cell_type": "markdown",
   "id": "99468ed6-6e44-4e81-ae2c-75a58b70d2aa",
   "metadata": {},
   "source": [
    "## 집합 자료형 관련 함수\n"
   ]
  },
  {
   "cell_type": "code",
   "execution_count": 32,
   "id": "18403871-1aa9-4865-a7e3-5e28b10a96db",
   "metadata": {},
   "outputs": [
    {
     "name": "stdout",
     "output_type": "stream",
     "text": [
      "{1, 2, 3, 4}\n",
      "{1, 2, 3, 4, 5, 6}\n"
     ]
    }
   ],
   "source": [
    "#값 1개 추가 =add\n",
    "s1 = set([1,2,3])\n",
    "s1.add(4)\n",
    "print(s1)\n",
    "s1.update([4,5,6])\n",
    "print(s1)"
   ]
  },
  {
   "cell_type": "code",
   "execution_count": 55,
   "id": "b377a6ab-6245-4fb8-9974-71c26834b245",
   "metadata": {},
   "outputs": [
    {
     "name": "stdout",
     "output_type": "stream",
     "text": [
      "False\n",
      "False\n"
     ]
    }
   ],
   "source": [
    "print(bool(None))\n",
    "print(bool(0))\n",
    "\n"
   ]
  },
  {
   "cell_type": "code",
   "execution_count": 49,
   "id": "20a61c17-ebbe-4fef-962f-81c88216027d",
   "metadata": {},
   "outputs": [
    {
     "name": "stdout",
     "output_type": "stream",
     "text": [
      "어느 날,고양이 바다속에서 모험을 떠나 왕국을 위험에서 구함\n"
     ]
    }
   ],
   "source": [
    "#random 으로 ㅅ스토리 성생기\n",
    "\n",
    "characters = [\"기사\",\"고양이\",\"로봇\",\"마법사\",\"탐정\",\"선생님\"]\n",
    "places = [\"어두운 숲에서\",\"먼 우주 행성에서\",\"마법의 성에서\",\"바다속에서\",\"흉가에서\",\"교실에서\"]\n",
    "events = [\"보물 발견\",\"용과 싸움\",\"비밀 통로 발견\",\"미스터리 품\",\"왕국을 위험에서 구함\",\"꾸안꾸로 다녔다\"]\n",
    "\n",
    "ch = random.choice(characters)\n",
    "pl = random.choice(places)\n",
    "ev = random.choice(events)\n",
    "\n",
    "print(f\"어느 날,{ch} {pl} 모험을 떠나 {ev}\")"
   ]
  },
  {
   "cell_type": "markdown",
   "id": "b6260a0a-9566-4658-aed6-7898d1741a66",
   "metadata": {},
   "source": [
    "# 자료값 저장하는 공간 변수 "
   ]
  },
  {
   "cell_type": "code",
   "execution_count": 11,
   "id": "9aa30ea8-730d-4ac3-a142-59f486e65a41",
   "metadata": {},
   "outputs": [
    {
     "name": "stdout",
     "output_type": "stream",
     "text": [
      "[1, 2, 3] 1776257622080\n",
      "[1, 2, 3] 1776257622080\n"
     ]
    }
   ],
   "source": [
    "#리스트 옅은복사 깊은 복사\n",
    "\n",
    "a = [1,2,3]\n",
    "b = a\n",
    "print(a,id(a))\n",
    "print(b,id(b))"
   ]
  },
  {
   "cell_type": "code",
   "execution_count": 5,
   "id": "3878d5e0-f7ca-45a2-8038-1847dd7d7e7f",
   "metadata": {},
   "outputs": [
    {
     "data": {
      "text/plain": [
       "True"
      ]
     },
     "execution_count": 5,
     "metadata": {},
     "output_type": "execute_result"
    }
   ],
   "source": [
    "a is b"
   ]
  },
  {
   "cell_type": "code",
   "execution_count": 12,
   "id": "32a2c1da-2409-4540-86d8-48c49ba0f950",
   "metadata": {},
   "outputs": [
    {
     "name": "stdout",
     "output_type": "stream",
     "text": [
      "[11, 22, 33] 1776257620544\n"
     ]
    }
   ],
   "source": [
    "import copy\n",
    "c = [11,22,33]\n",
    "# d = copy(c)\n",
    "# d = cp[:]\n",
    "#d  =c.copy ()\n",
    "d = copy.copy(c)\n",
    "\n",
    "print(d,id(d))"
   ]
  },
  {
   "cell_type": "code",
   "execution_count": 13,
   "id": "b3b5bf21-6bda-4029-a389-426209d528d2",
   "metadata": {},
   "outputs": [
    {
     "name": "stdout",
     "output_type": "stream",
     "text": [
      "3 7\n",
      "7 3\n"
     ]
    }
   ],
   "source": [
    "a = 3\n",
    "b = 7\n",
    "print(a,b)\n",
    "a,b = b,a\n",
    "print(a,b)"
   ]
  },
  {
   "cell_type": "code",
   "execution_count": 14,
   "id": "7003a29b-8aa1-45f6-ab95-6166fe3b1859",
   "metadata": {},
   "outputs": [
    {
     "name": "stdout",
     "output_type": "stream",
     "text": [
      "33 77\n",
      "77 33\n"
     ]
    }
   ],
   "source": [
    "a = 33\n",
    "b= 77\n",
    "print(a,b)\n",
    "temp = a\n",
    "a=b\n",
    "b=temp\n",
    "print(a,b)"
   ]
  },
  {
   "cell_type": "code",
   "execution_count": null,
   "id": "6e551c88-e1e3-4c94-9359-3f16f68e21c6",
   "metadata": {},
   "outputs": [],
   "source": []
  },
  {
   "cell_type": "code",
   "execution_count": 26,
   "id": "b9c5c98b-649d-4218-be0e-16296a998d6f",
   "metadata": {},
   "outputs": [
    {
     "name": "stdout",
     "output_type": "stream",
     "text": [
      "상승\n"
     ]
    }
   ],
   "source": [
    "#비트코인 시세로 상승장 하강장 구분하기\n",
    "import requests as req #as 별칭으로 사용함\n",
    "url ='https://api.bithumb.com/public/ticker/ALL_KRW'\n",
    "gdata = req.get(url).json()\n",
    "btc = gdata['data']['BTC']\n",
    "maxp = float(btc['max_price'])\n",
    "minp = float(btc['min_price'])\n",
    "openp = float(btc['opening_price'])\n",
    "bandp = float(maxp)-float(minp) \n",
    "btc\n",
    "\n",
    "\n",
    "\n",
    "if( maxp< openp + bandp): \n",
    "        print(\"상승\")\n",
    "else:\n",
    "        print(\"하강\")\n"
   ]
  },
  {
   "cell_type": "code",
   "execution_count": 31,
   "id": "369193b9-56c3-4579-9fb3-9e301be397ec",
   "metadata": {},
   "outputs": [
    {
     "name": "stdout",
     "output_type": "stream",
     "text": [
      "상승\n"
     ]
    }
   ],
   "source": [
    "#하루기준\n",
    "import requests as req #as 별칭으로 사용함\n",
    "url ='https://api.bithumb.com/v1/candles/minutes/1?market=KRW-BTC&count=1'\n",
    "btc_data = req.get(url).json()\n",
    "btc = gdata['data']['BTC']\n",
    "maxp = float(btc['max_price'])\n",
    "minp = float(btc['min_price'])\n",
    "openp = float(btc['opening_price'])\n",
    "bandp = float(maxp)-float(minp) \n",
    "btc\n",
    "#print(btc_data[0]['trade_price'])\n",
    "\n",
    "if( maxp< openp + bandp): \n",
    "        print(\"상승\")\n",
    "else:\n",
    "        print(\"하강\")\n",
    "\n"
   ]
  },
  {
   "cell_type": "code",
   "execution_count": null,
   "id": "e1cd6b22-80d4-4e25-83f4-a2681c61f42b",
   "metadata": {},
   "outputs": [],
   "source": []
  }
 ],
 "metadata": {
  "kernelspec": {
   "display_name": "Python 3 (ipykernel)",
   "language": "python",
   "name": "python3"
  },
  "language_info": {
   "codemirror_mode": {
    "name": "ipython",
    "version": 3
   },
   "file_extension": ".py",
   "mimetype": "text/x-python",
   "name": "python",
   "nbconvert_exporter": "python",
   "pygments_lexer": "ipython3",
   "version": "3.13.1"
  }
 },
 "nbformat": 4,
 "nbformat_minor": 5
}
