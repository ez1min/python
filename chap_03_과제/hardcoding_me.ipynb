{
 "cells": [
  {
   "cell_type": "markdown",
   "id": "e72da2d0-da77-45f2-8f7d-ad04df92f6d7",
   "metadata": {},
   "source": [
    "## 내가한거"
   ]
  },
  {
   "cell_type": "code",
   "execution_count": null,
   "id": "5a8b7cf3-96af-4ba8-a23f-345952203153",
   "metadata": {},
   "outputs": [],
   "source": [
    "money = []\n",
    "#연산을 위한 리스트 a\n",
    "a = []          \n",
    "\n",
    "print(\"돈을 넣어주세요\")\n",
    "t = int(input())   \n",
    "money.append(t)\n",
    "print(\"투입?: {%d}원\" %t)\n",
    "\n",
    "m = [1000,2000,3000,4000]\n",
    "print(m)\n",
    "print(\"어떤것을 구매하나요?: \" )\n",
    "\n",
    "c = int(input())                   #어떤 것을 구매 할지 입력 받고, c에 저장함\n",
    "\n",
    "a.append(c)                        #리스트 a에 입력 받은 c값을 넣어줌 \n",
    "#print(c)\n",
    "\n",
    "\n",
    "#투입 받은 돈 money의 첫번쨰 인덱스(투입한 금액)에서 리스트 a의 첫번쨰 요소(구매하고 싶은 물건의 값)을 빼고, res에 저장\n",
    "res = int(money[0] - a[0])      \n",
    "\n",
    "\n",
    "\n",
    "print(\"거스름돈:{%d}원 \" %res)\n",
    "\n",
    "thousand = res / 1000 \n",
    "five_hundred = res /500\n",
    "hundred = res / 100\n",
    "ten = res / 10\n",
    "\n",
    "if thousand==0:\n",
    "    five_hundred\n",
    "    \n",
    "elif thousand !=0:\n",
    "    thousand\n",
    "    print(\"거스름돈: 1000원: {%d}장\" %thousand)\n",
    "    print(\"거스름돈: 500원: {%d}장\" %five_hundred)\n",
    "\n",
    "\n",
    "\n",
    "#print(\"거스름돈: 1000원: {%d}장\" %thousand)\n",
    "#print(\"거스름돈: 500원: {%d}장\" %five_hundred)\n",
    "# print(\"거스름돈: 100원: {%d}개\" %hundred)\n",
    "# print(\"거스름돈: 10원: {%d}개\" %ten)\n"
   ]
  }
 ],
 "metadata": {
  "kernelspec": {
   "display_name": "Python 3 (ipykernel)",
   "language": "python",
   "name": "python3"
  },
  "language_info": {
   "codemirror_mode": {
    "name": "ipython",
    "version": 3
   },
   "file_extension": ".py",
   "mimetype": "text/x-python",
   "name": "python",
   "nbconvert_exporter": "python",
   "pygments_lexer": "ipython3",
   "version": "3.13.1"
  }
 },
 "nbformat": 4,
 "nbformat_minor": 5
}
