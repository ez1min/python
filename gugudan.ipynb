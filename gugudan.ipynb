{
 "cells": [
  {
   "cell_type": "code",
   "execution_count": 65,
   "id": "852748b1-e00d-4ad6-a5c2-a59360348b60",
   "metadata": {},
   "outputs": [
    {
     "ename": "IndentationError",
     "evalue": "unexpected indent (895361129.py, line 2)",
     "output_type": "error",
     "traceback": [
      "\u001b[1;36m  Cell \u001b[1;32mIn[65], line 2\u001b[1;36m\u001b[0m\n\u001b[1;33m    x = int(input())\u001b[0m\n\u001b[1;37m    ^\u001b[0m\n\u001b[1;31mIndentationError\u001b[0m\u001b[1;31m:\u001b[0m unexpected indent\n"
     ]
    }
   ],
   "source": [
    " #t = int(input())\n",
    "  x = int(input())\n",
    "\n",
    "# def gugu(end = 9):\n",
    "#     data =''\n",
    "#     for j in range (t,end +1):\n",
    "#         #print(f\"{str(j)+'단' :=^10}\")\n",
    "#         for i in range(1,10):\n",
    "#             data +=(f'{j} x {i} = {j*i}' )+\"\\n\"\n",
    "#     return data\n",
    "# print(gugu(t))\n",
    "\n",
    "def gugu2(end = 9):\n",
    "    data =''\n",
    "    for j in range (x,end +1):\n",
    "        print(f\"{str(j)+'단' :=^10}\")\n",
    "    \n",
    "        for i in range(1,10):\n",
    "            data +=(f'{j} x {i} = {j*i}' )+\"\\n\"\n",
    "    return data\n",
    "print(gugu(x))\n",
    "\n",
    "\n"
   ]
  },
  {
   "cell_type": "code",
   "execution_count": 6,
   "id": "33a3e03f-4ddb-460d-a1e3-bced888f7971",
   "metadata": {},
   "outputs": [
    {
     "name": "stdout",
     "output_type": "stream",
     "text": [
      "===4단===\n",
      "4x1=4\n",
      "4x2=8\n",
      "4x3=12\n",
      "4x4=16\n",
      "4x5=20\n",
      "4x6=24\n",
      "4x7=28\n",
      "4x8=32\n",
      "4x9=36\n",
      "===5단===\n",
      "5x1=5\n",
      "5x2=10\n",
      "5x3=15\n",
      "5x4=20\n",
      "5x5=25\n",
      "5x6=30\n",
      "5x7=35\n",
      "5x8=40\n",
      "5x9=45\n"
     ]
    }
   ],
   "source": [
    "\n",
    "def gugu(a,b):\n",
    "    for i in range(a,a+b):\n",
    "        print(f\"==={i}단===\")\n",
    "        for j in range(1,10):\n",
    "            print(f\"{i}x{j}={i*j}\")\n",
    "   \n",
    "gugu(4,2)\n"
   ]
  },
  {
   "cell_type": "markdown",
   "id": "8246d4f1-5a6f-485b-8422-4dfb6319543c",
   "metadata": {},
   "source": [
    "#### "
   ]
  }
 ],
 "metadata": {
  "kernelspec": {
   "display_name": "Python 3 (ipykernel)",
   "language": "python",
   "name": "python3"
  },
  "language_info": {
   "codemirror_mode": {
    "name": "ipython",
    "version": 3
   },
   "file_extension": ".py",
   "mimetype": "text/x-python",
   "name": "python",
   "nbconvert_exporter": "python",
   "pygments_lexer": "ipython3",
   "version": "3.13.1"
  }
 },
 "nbformat": 4,
 "nbformat_minor": 5
}
