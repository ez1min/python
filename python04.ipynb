{
 "cells": [
  {
   "cell_type": "code",
   "execution_count": 5,
   "id": "553c0bc8-2e4b-462d-b4ba-b336807d4023",
   "metadata": {},
   "outputs": [],
   "source": [
    "def 덧셈(a,b):\n",
    "    return a + b\n",
    "    return result"
   ]
  },
  {
   "cell_type": "code",
   "execution_count": 7,
   "id": "5561f9d2-2e71-4975-acd0-bc58a32a651e",
   "metadata": {},
   "outputs": [
    {
     "name": "stdout",
     "output_type": "stream",
     "text": [
      "7\n"
     ]
    }
   ],
   "source": [
    "c=덧셈(3,4)\n",
    "print(c)"
   ]
  },
  {
   "cell_type": "code",
   "execution_count": null,
   "id": "2a9806d2-6543-4c69-ad37-2536f6ff5597",
   "metadata": {},
   "outputs": [],
   "source": [
    "## 함수 안에서 선언한 변수의효력 범위\n"
   ]
  },
  {
   "cell_type": "code",
   "execution_count": 11,
   "id": "620e1378-5cb3-4f11-9e6a-4441c1f35c19",
   "metadata": {},
   "outputs": [
    {
     "name": "stdout",
     "output_type": "stream",
     "text": [
      "1\n"
     ]
    }
   ],
   "source": [
    "a=1\n",
    "def test1(a):\n",
    "    a = a+1\n",
    "test1(a)\n",
    "print(a)"
   ]
  },
  {
   "cell_type": "code",
   "execution_count": 2,
   "id": "307bcfcc-497e-4c33-9465-cb158e2c2476",
   "metadata": {},
   "outputs": [
    {
     "ename": "NameError",
     "evalue": "name 'b' is not defined",
     "output_type": "error",
     "traceback": [
      "\u001b[1;31m---------------------------------------------------------------------------\u001b[0m",
      "\u001b[1;31mNameError\u001b[0m                                 Traceback (most recent call last)",
      "Cell \u001b[1;32mIn[2], line 4\u001b[0m\n\u001b[0;32m      2\u001b[0m     b \u001b[38;5;241m=\u001b[39m b\u001b[38;5;241m+\u001b[39m\u001b[38;5;241m1\u001b[39m\n\u001b[0;32m      3\u001b[0m test2(\u001b[38;5;241m3\u001b[39m)\n\u001b[1;32m----> 4\u001b[0m \u001b[38;5;28mprint\u001b[39m(\u001b[43mb\u001b[49m)\n\u001b[0;32m      6\u001b[0m \u001b[38;5;66;03m#에러 뜸 \u001b[39;00m\n",
      "\u001b[1;31mNameError\u001b[0m: name 'b' is not defined"
     ]
    }
   ],
   "source": [
    "def test2(b):\n",
    "    b = b+1\n",
    "test2(3)\n",
    "print(b)\n",
    "\n",
    "#에러 뜸 함수에서 사용된 변수는 밖에서 사용 x "
   ]
  },
  {
   "cell_type": "code",
   "execution_count": 3,
   "id": "5b91d907-0f06-422b-8cc9-78b656ab59eb",
   "metadata": {},
   "outputs": [
    {
     "name": "stdout",
     "output_type": "stream",
     "text": [
      "2\n"
     ]
    }
   ],
   "source": [
    "c=1\n",
    "def test3(c):\n",
    "    c = c+1\n",
    "    return c      #연산한 값이 c로 나옴\n",
    "c=test3(c)\n",
    "print(c)"
   ]
  },
  {
   "cell_type": "code",
   "execution_count": 14,
   "id": "4ba396a6-0791-4527-9bcb-1082b8fba60e",
   "metadata": {},
   "outputs": [
    {
     "name": "stdout",
     "output_type": "stream",
     "text": [
      "2\n"
     ]
    }
   ],
   "source": [
    "d = 1\n",
    "def test4():\n",
    "    global d\n",
    "    d = d+1\n",
    "test4()\n",
    "print(d)"
   ]
  },
  {
   "cell_type": "code",
   "execution_count": 16,
   "id": "f52277d0-a2da-40cc-8b9f-0a1b5fafdfb1",
   "metadata": {},
   "outputs": [],
   "source": [
    "path = \"./testfile\"\n",
    "f = open(path + \"새파일생성3.txt\", \"w\", encoding =\"utf-8\")\n",
    "f.write(\"한글도 잘되요!!\")\n",
    "f.close()"
   ]
  },
  {
   "cell_type": "code",
   "execution_count": 2,
   "id": "3589c518-5f69-45b1-b942-6fb8e114a0c2",
   "metadata": {},
   "outputs": [
    {
     "name": "stdout",
     "output_type": "stream",
     "text": [
      "\n",
      "19\n",
      "<56,100원\n",
      "17\n",
      "\t\t<56,100원\n"
     ]
    }
   ],
   "source": [
    "\n",
    "import requests as req\n",
    "url =\"https://finance.naver.com/sise/sise_market_sum.naver\"\n",
    "web = req.get(url)\n",
    "html = web.text\n",
    "\n",
    "f1 = html.find('삼성전자')\n",
    "f2 = html.find('기아')\n",
    "print()\n",
    "print(html[f1:f1 + 100].find('<td class=\"number\">'))\n",
    "print(html[f1:f1 + 100][19:50].replace('td class=\"number\">',\"\").replace('</td>',\"\").replace('\\n',\"\")+\"원\")\n",
    "print(html[f2:f2 + 100].find('<td class=\"number\">'))\n",
    "print(html[f1:f1 + 100][17:50].replace('td class=\"number\">',\"\").replace('</td>',\"\").replace('\\n',\"\")+\"원\")"
   ]
  },
  {
   "cell_type": "code",
   "execution_count": null,
   "id": "f6b5e3fb-6d19-4f16-9ecb-086fd2c975ac",
   "metadata": {},
   "outputs": [],
   "source": []
  },
  {
   "cell_type": "code",
   "execution_count": null,
   "id": "0011dec8-cca0-4e11-8705-05f7d9149835",
   "metadata": {},
   "outputs": [],
   "source": []
  }
 ],
 "metadata": {
  "kernelspec": {
   "display_name": "Python 3 (ipykernel)",
   "language": "python",
   "name": "python3"
  },
  "language_info": {
   "codemirror_mode": {
    "name": "ipython",
    "version": 3
   },
   "file_extension": ".py",
   "mimetype": "text/x-python",
   "name": "python",
   "nbconvert_exporter": "python",
   "pygments_lexer": "ipython3",
   "version": "3.13.1"
  }
 },
 "nbformat": 4,
 "nbformat_minor": 5
}
