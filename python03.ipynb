{
 "cells": [
  {
   "cell_type": "markdown",
   "id": "d871338e-a4e6-4d3c-8d49-3704387a3d9a",
   "metadata": {},
   "source": [
    "## 제어문"
   ]
  },
  {
   "cell_type": "code",
   "execution_count": 15,
   "id": "bcfbff12-48ab-4c27-8d69-da64d340245b",
   "metadata": {},
   "outputs": [
    {
     "name": "stdout",
     "output_type": "stream",
     "text": [
      "항상 동작합니다\n"
     ]
    }
   ],
   "source": [
    "if True:\n",
    "    print(\"항상 동작합니다\")\n",
    "if False:\n",
    "    print(\"동작할까요?\")"
   ]
  },
  {
   "cell_type": "code",
   "execution_count": 16,
   "id": "5c41a565-f0e7-4d4d-8533-085e6ca5873e",
   "metadata": {},
   "outputs": [
    {
     "name": "stdout",
     "output_type": "stream",
     "text": [
      "1 fff\n",
      "2 fff\n",
      "3 fff\n",
      "4 fff\n",
      "5 fff\n",
      "6 fff\n",
      "7 fff\n",
      "8 fff\n",
      "9 fff\n",
      "10 fff\n",
      "11 fff\n"
     ]
    }
   ],
   "source": [
    "num = 0\n",
    "while True:\n",
    "    num+=1\n",
    "    print(num, \"fff\")\n",
    "    if num>10:\n",
    "        break"
   ]
  },
  {
   "cell_type": "code",
   "execution_count": 19,
   "id": "cf94e27f-826f-4829-b3bc-fdcdb494b190",
   "metadata": {},
   "outputs": [
    {
     "name": "stdout",
     "output_type": "stream",
     "text": [
      "택시\n"
     ]
    }
   ],
   "source": [
    "money = 2000\n",
    "card = True\n",
    "if money>= 3000 or card:\n",
    "    print(\"택시\")\n",
    "else:\n",
    "    print(\"걸어\")"
   ]
  },
  {
   "cell_type": "code",
   "execution_count": 29,
   "id": "c84a29b3-e50f-4e3d-a402-b0fbfe42733b",
   "metadata": {},
   "outputs": [
    {
     "name": "stdin",
     "output_type": "stream",
     "text": [
      " 59\n"
     ]
    },
    {
     "name": "stdout",
     "output_type": "stream",
     "text": [
      "F\n"
     ]
    }
   ],
   "source": [
    "score = int(input())\n",
    "\n",
    "if(score>=90):\n",
    "    print(\"A\")\n",
    "if(80<=score<90):\n",
    "    print(\"B\")\n",
    "if(70<=score<80):\n",
    "    print(\"C\")\n",
    "if(60<=score<70):\n",
    "    print(\"D\")\n",
    "else:\n",
    "    print(\"F\")\n",
    "\n",
    "\n"
   ]
  },
  {
   "cell_type": "code",
   "execution_count": 41,
   "id": "a5ffe466-80d6-4da8-815a-bbeb5eb0c634",
   "metadata": {},
   "outputs": [
    {
     "name": "stdin",
     "output_type": "stream",
     "text": [
      " 8\n"
     ]
    },
    {
     "name": "stdout",
     "output_type": "stream",
     "text": [
      "겨울\n"
     ]
    }
   ],
   "source": [
    "t =int(input())\n",
    "\n",
    "if(15<=t<25):\n",
    "    print(\"봄\")\n",
    "elif(t>=25):\n",
    "    print(\"여름\")\n",
    "elif(10<=t<15):\n",
    "    print(\"가을\")\n",
    "else:\n",
    "    print(\"겨울\")\n",
    "    "
   ]
  },
  {
   "cell_type": "code",
   "execution_count": 21,
   "id": "476c9de6-d6ed-4437-869f-5c8523940acb",
   "metadata": {},
   "outputs": [
    {
     "ename": "IndentationError",
     "evalue": "unexpected indent (3267210910.py, line 2)",
     "output_type": "error",
     "traceback": [
      "\u001b[1;36m  Cell \u001b[1;32mIn[21], line 2\u001b[1;36m\u001b[0m\n\u001b[1;33m    while treeHit <10:\u001b[0m\n\u001b[1;37m    ^\u001b[0m\n\u001b[1;31mIndentationError\u001b[0m\u001b[1;31m:\u001b[0m unexpected indent\n"
     ]
    }
   ],
   "source": [
    "treeHit = 0\n",
    "    while treeHit <10:\n",
    "           treeHit = treeHit + 1\n",
    "    print(\"나무를 %d번 찍었습니다.\" %treeHit)\n",
    "    if treeHit ==10:\n",
    "        (print(\"나무 넘어갑니다\")"
   ]
  },
  {
   "cell_type": "code",
   "execution_count": 3,
   "id": "ff002f60-58cf-4b0c-9742-94f24d4c8c80",
   "metadata": {},
   "outputs": [],
   "source": [
    "#random 주사위\n",
    "import random as r\n",
    "# ran = int(r.random()*6 + 1)\n",
    "box = [] #*초기화"
   ]
  },
  {
   "cell_type": "code",
   "execution_count": 18,
   "id": "63a10f19-282a-4bc6-adc4-b676e0116959",
   "metadata": {},
   "outputs": [
    {
     "name": "stdout",
     "output_type": "stream",
     "text": [
      "[5, 5, 6, 3, 5, 5, 3, 6, 6, 5, 3, 3] 12\n"
     ]
    }
   ],
   "source": [
    "ran =r.randint(1,6)\n",
    "box.append(ran)\n",
    "\n",
    "print(box,len(box))"
   ]
  },
  {
   "cell_type": "code",
   "execution_count": 20,
   "id": "2c39f5aa-c267-4f84-8013-73734ea7e746",
   "metadata": {},
   "outputs": [
    {
     "name": "stdout",
     "output_type": "stream",
     "text": [
      "[2, 6, 1, 5, 4, 5, 1, 5, 3, 1] 10\n"
     ]
    }
   ],
   "source": [
    "#random 주사위\n",
    "import random as r\n",
    "box = []\n",
    "num = 0\n",
    "while num<10:\n",
    "    num = num +1\n",
    "    ran = r.randint(1,6)\n",
    "    box.append(ran)\n",
    "print(box,len(box))"
   ]
  },
  {
   "cell_type": "code",
   "execution_count": 54,
   "id": "1d279f41-4b35-4c12-8022-adcb839eb558",
   "metadata": {},
   "outputs": [
    {
     "name": "stdout",
     "output_type": "stream",
     "text": [
      "[4, 2, 1, 2, 6, 6, 1, 2, 5, 6] 10\n",
      "1이 {2}번 나옴, 확률은 20%\n",
      "1이 {2}번 나옴, 확률은 20%\n",
      "1이 {2}번 나옴, 확률은 20%\n",
      "1이 {2}번 나옴, 확률은 20%\n",
      "1이 {2}번 나옴, 확률은 20%\n",
      "1이 {2}번 나옴, 확률은 20%\n"
     ]
    }
   ],
   "source": [
    "import random as r\n",
    "\n",
    "box = []\n",
    "\n",
    "\n",
    "\n",
    "percent = count * 100 / 10\n",
    "\n",
    "num = 0  # int num 과 같음\n",
    "while num<10:\n",
    "    num = num +1\n",
    "    ran = r.randint(1,6)\n",
    "    box.append(ran)\n",
    "print(box,len(box))\n",
    "\n",
    "\n",
    "#count = box.count(3)\n",
    "#print(\"1이 %d번 나옴\" %count) 내가짠거\n",
    "#print(box.count(1)) (쉽게하려면) \n",
    "\n",
    "count = box.count(1)\n",
    "\n",
    "for i in range(6):\n",
    "    print(\"1이 {%d}번 나옴, 확률은 %d%%\" %(count ,percent))\n",
    "\n",
    "\n",
    "\n",
    "\n",
    "#print(\"확률은 %d%%\" %percent)\n",
    "\n",
    "\n",
    "# print 6번이 가장 많이 출현 하였습니다\n",
    "# max() 가장큰수 min 가장 작은수\n",
    "\n",
    "\n",
    "\n",
    "\n",
    "\n",
    "\n",
    "          \n",
    "    \n"
   ]
  },
  {
   "cell_type": "code",
   "execution_count": 55,
   "id": "d42e951b-b2e6-4089-871a-e87a6ff46f88",
   "metadata": {},
   "outputs": [
    {
     "name": "stdout",
     "output_type": "stream",
     "text": [
      "[6, 3, 1, 6, 3, 5, 4, 6, 1, 2] 10\n",
      "1이 {2}번 나옴, 확률은 20%\n",
      "1이 {2}번 나옴, 확률은 20%\n",
      "1이 {2}번 나옴, 확률은 20%\n",
      "1이 {2}번 나옴, 확률은 20%\n",
      "1이 {2}번 나옴, 확률은 20%\n",
      "1이 {2}번 나옴, 확률은 20%\n"
     ]
    }
   ],
   "source": [
    "import random as r\n",
    "\n",
    "box = []\n",
    "\n",
    "\n",
    "num = 0  # int num 과 같음\n",
    "\n",
    "while num<10:\n",
    "    num = num +1\n",
    "    ran = r.randint(1,6)\n",
    "    box.append(ran)\n",
    "print(box,len(box))\n",
    "\n",
    "count = box.count(1)\n",
    "#percent = count * 100 / 10\n",
    "\n",
    "for i in range(6):\n",
    "    print(\"1이 {%d}번 나옴, 확률은 %d%%\" %(count ,percent))\n",
    "\n"
   ]
  },
  {
   "cell_type": "markdown",
   "id": "2d18b57e-f6c1-474a-ac4c-521ead69e4c4",
   "metadata": {},
   "source": [
    "# FOR문"
   ]
  },
  {
   "cell_type": "code",
   "execution_count": 84,
   "id": "20ae50e3-e068-4ee0-a60f-c331fee37b18",
   "metadata": {},
   "outputs": [
    {
     "name": "stdout",
     "output_type": "stream",
     "text": [
      "one\n",
      "two\n",
      "three\n"
     ]
    }
   ],
   "source": [
    "#test_list={'one','two',three'}\n",
    "\n",
    "for i in['one','two','three'] :\n",
    "    print(i)"
   ]
  },
  {
   "cell_type": "code",
   "execution_count": 1,
   "id": "e8278839-7630-4c7b-a67d-8a27b8ba7bea",
   "metadata": {},
   "outputs": [
    {
     "name": "stdout",
     "output_type": "stream",
     "text": [
      "ㅎㅇ\n",
      "ㅎㅇ\n",
      "ㅎㅇ\n",
      "ㅎㅇ\n",
      "ㅎㅇ\n",
      "ㅎㅇ\n"
     ]
    }
   ],
   "source": [
    "\n",
    "for i in range(6):\n",
    "    print(\"ㅎㅇ\")"
   ]
  },
  {
   "cell_type": "code",
   "execution_count": 25,
   "id": "91f10292-cc75-4692-ace4-f94450e50555",
   "metadata": {},
   "outputs": [],
   "source": [
    "x = [1,2,3,4,5,6,7,8,9,10]\n",
    "for i in x:\n",
    "    if i%2 ==0:\n",
    "        continue\n",
    "        print(x)"
   ]
  },
  {
   "cell_type": "code",
   "execution_count": 28,
   "id": "c69ee224-e103-4c7c-a3d5-61a46fbbcc93",
   "metadata": {},
   "outputs": [
    {
     "name": "stdout",
     "output_type": "stream",
     "text": [
      "10\n",
      "13\n",
      "16\n",
      "19\n",
      "22\n",
      "25\n",
      "28\n",
      "31\n",
      "34\n",
      "37\n",
      "40\n",
      "43\n",
      "46\n",
      "49\n"
     ]
    }
   ],
   "source": [
    "for n in range(10,50,3): #씩 + \n",
    "    print(n)"
   ]
  },
  {
   "cell_type": "code",
   "execution_count": 29,
   "id": "6a5ad35f-b221-463c-81f5-dba255115552",
   "metadata": {},
   "outputs": [
    {
     "name": "stdout",
     "output_type": "stream",
     "text": [
      "1\n",
      "3\n",
      "5\n",
      "7\n",
      "9\n"
     ]
    }
   ],
   "source": [
    "for even in range(1,10,2):\n",
    "    print(even)"
   ]
  },
  {
   "cell_type": "code",
   "execution_count": 53,
   "id": "117a3ddc-a6d1-4050-a7d9-1091ec5f01e5",
   "metadata": {},
   "outputs": [
    {
     "name": "stdout",
     "output_type": "stream",
     "text": [
      "55\n",
      "55\n"
     ]
    }
   ],
   "source": [
    "a= 0\n",
    "for i in range(1, 11):\n",
    "    a = a + i \n",
    "print(a)\n",
    "\n",
    "\n",
    "\n"
   ]
  },
  {
   "cell_type": "code",
   "execution_count": 69,
   "id": "03d86b47-8225-4fa1-8966-5258a7936d52",
   "metadata": {},
   "outputs": [
    {
     "data": {
      "text/plain": [
       "{'opening_price': '152630000',\n",
       " 'closing_price': '149907000',\n",
       " 'min_price': '149809000',\n",
       " 'max_price': '152817000',\n",
       " 'units_traded': '512.58926302',\n",
       " 'acc_trade_value': '77277900774.93604',\n",
       " 'prev_closing_price': '152630000',\n",
       " 'units_traded_24H': '737.17558306',\n",
       " 'acc_trade_value_24H': '111627215371.65097',\n",
       " 'fluctate_24H': '-2029000',\n",
       " 'fluctate_rate_24H': '-1.34'}"
      ]
     },
     "execution_count": 69,
     "metadata": {},
     "output_type": "execute_result"
    }
   ],
   "source": [
    "#비트코인 시세로 상승장 하강장 구분하기\n",
    "import requests as req #as 별칭으로 사용함\n",
    "url ='https://api.bithumb.com/public/ticker/ALL_KRW'\n",
    "gdata = req.get(url).json()\n",
    "btc = gdata['data']['BTC']\n",
    "maxp = btc['max_price']\n",
    "minp = btc['min_price']\n",
    "openp = btc['opening_price']\n",
    "bandp = float(maxp)-float(minp) \n",
    "btc\n",
    "\n",
    "\n",
    "\n",
    "if maxp>"
   ]
  },
  {
   "cell_type": "code",
   "execution_count": 84,
   "id": "878ae9be-145c-4fb0-9713-6d3384b318c0",
   "metadata": {},
   "outputs": [
    {
     "name": "stdout",
     "output_type": "stream",
     "text": [
      "2 * 1 = 2 \n",
      "2 * 2 = 4 \n",
      "2 * 3 = 6 \n",
      "2 * 4 = 8 \n",
      "2 * 5 = 10 \n",
      "2 * 6 = 12 \n",
      "2 * 7 = 14 \n",
      "2 * 8 = 16 \n",
      "2 * 9 = 18 \n"
     ]
    }
   ],
   "source": [
    "for x in range(1,10):\n",
    "\n",
    "    y = 2 * x\n",
    "    print(\"2 * %d = %d \" %(x,y) , end = \"\\n\" )\n",
    "    \n",
    "    \n",
    "    "
   ]
  },
  {
   "cell_type": "code",
   "execution_count": 118,
   "id": "6363e7a7-55ff-49bc-b603-5bcd6b09b18f",
   "metadata": {},
   "outputs": [
    {
     "name": "stdout",
     "output_type": "stream",
     "text": [
      "2 x 1 = 2\n",
      "2 x 2 = 4\n",
      "2 x 3 = 6\n",
      "2 x 4 = 8\n",
      "2 x 5 = 10\n",
      "2 x 6 = 12\n",
      "2 x 7 = 14\n",
      "2 x 8 = 16\n",
      "2 x 9 = 18\n",
      "3 x 1 = 3\n",
      "3 x 2 = 6\n",
      "3 x 3 = 9\n",
      "3 x 4 = 12\n",
      "3 x 5 = 15\n",
      "3 x 6 = 18\n",
      "3 x 7 = 21\n",
      "3 x 8 = 24\n",
      "3 x 9 = 27\n",
      "4 x 1 = 4\n",
      "4 x 2 = 8\n",
      "4 x 3 = 12\n",
      "4 x 4 = 16\n",
      "4 x 5 = 20\n",
      "4 x 6 = 24\n",
      "4 x 7 = 28\n",
      "4 x 8 = 32\n",
      "4 x 9 = 36\n"
     ]
    }
   ],
   "source": [
    "for x in range(2,5):                          #2단부터 5단까지\n",
    "      for y in range(1,10):                   #1~9까지 (총 9번) 곱해줌 \n",
    "           print(f'{x} x {y} = {x*y}', end = \"\\n\")"
   ]
  },
  {
   "cell_type": "code",
   "execution_count": null,
   "id": "f7c09020-07d5-4a99-8f88-36775c515bfa",
   "metadata": {},
   "outputs": [],
   "source": []
  },
  {
   "cell_type": "code",
   "execution_count": null,
   "id": "bc1f0515-ce3b-41e7-b313-ea5f09bed31a",
   "metadata": {},
   "outputs": [],
   "source": []
  }
 ],
 "metadata": {
  "kernelspec": {
   "display_name": "Python 3 (ipykernel)",
   "language": "python",
   "name": "python3"
  },
  "language_info": {
   "codemirror_mode": {
    "name": "ipython",
    "version": 3
   },
   "file_extension": ".py",
   "mimetype": "text/x-python",
   "name": "python",
   "nbconvert_exporter": "python",
   "pygments_lexer": "ipython3",
   "version": "3.13.1"
  }
 },
 "nbformat": 4,
 "nbformat_minor": 5
}
