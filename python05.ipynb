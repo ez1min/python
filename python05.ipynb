{
 "cells": [
  {
   "cell_type": "markdown",
   "id": "67a3cd84-a30a-42f5-b1c4-2654dfb1e915",
   "metadata": {},
   "source": [
    "# 클래스"
   ]
  },
  {
   "cell_type": "code",
   "execution_count": 3,
   "id": "d937a526-49f2-4f50-a558-66303244bba9",
   "metadata": {},
   "outputs": [
    {
     "name": "stdout",
     "output_type": "stream",
     "text": [
      "[1, 2, 3, 4] <class 'list'>\n",
      "(11, 22, 33, 44) <class 'tuple'>\n"
     ]
    }
   ],
   "source": [
    "what = [1,2,3,4]\n",
    "\n",
    "who = 11,22,33,44\n",
    "print(what,type(what))\n",
    "print(who,type(who))"
   ]
  },
  {
   "cell_type": "code",
   "execution_count": null,
   "id": "3fea4ecb-7f23-4157-aff0-13f497d87144",
   "metadata": {},
   "outputs": [],
   "source": []
  },
  {
   "cell_type": "code",
   "execution_count": 2,
   "id": "50338235-9633-4bd8-bce3-627cc89d7933",
   "metadata": {},
   "outputs": [
    {
     "ename": "SyntaxError",
     "evalue": "unmatched ')' (3301510971.py, line 1)",
     "output_type": "error",
     "traceback": [
      "\u001b[1;36m  Cell \u001b[1;32mIn[2], line 1\u001b[1;36m\u001b[0m\n\u001b[1;33m    )\u001b[0m\n\u001b[1;37m    ^\u001b[0m\n\u001b[1;31mSyntaxError\u001b[0m\u001b[1;31m:\u001b[0m unmatched ')'\n"
     ]
    }
   ],
   "source": [
    ")\n"
   ]
  },
  {
   "cell_type": "code",
   "execution_count": 10,
   "id": "f5ef6004-139c-405d-bee9-da7246fdd084",
   "metadata": {},
   "outputs": [
    {
     "name": "stdout",
     "output_type": "stream",
     "text": [
      "1: 1\n",
      "2: 1\n",
      "2: 2\n",
      "2: 3\n",
      "1: 2\n",
      "1: 3\n"
     ]
    }
   ],
   "source": [
    "class calcul:\n",
    "    def __init__(self):\n",
    "        self.result = 0\n",
    "        \n",
    "    def add(self,num):\n",
    "        self.result +=num\n",
    "        return self.result\n",
    "    def sub(self,num):\n",
    "        self.result -=num\n",
    "        return self.result\n",
    "\n",
    "#인스턴스화\n",
    "cal1 = calcul() # [1,2,3,4,5]\n",
    "cal2 = calcul() # ['a','b']\n",
    "\n",
    "print('1:',cal1.add(1))\n",
    "print('2:',cal2.add(1))\n",
    "print('2:',cal2.add(1))\n",
    "print('2:',cal2.add(1))\n",
    "print('1:',cal1.add(1))\n",
    "print('1:',cal1.add(1))\n",
    "\n",
    "\n",
    "#리턴값 없으면 none뜸"
   ]
  },
  {
   "cell_type": "code",
   "execution_count": 6,
   "id": "b26e009b-68d2-4cb9-b2b8-32aa7e4f1618",
   "metadata": {},
   "outputs": [],
   "source": [
    "#클래스구성\n",
    "class Dduk:\n",
    "    def __init__(self,won,ea): #매개변수 갯수 다름\n",
    "        self.won = won\n",
    "        self.ea = ea\n",
    "    def dduk(self):\n",
    "        result = self.won * self.ea\n",
    "        result =(f\"배가 고파서 떡볶이를 {result}원치 먹었다.\")\n",
    "    def odeng(self):\n",
    "        result = self.won *2 *self.ea\n",
    "        result =(f\"배가 고파서 오뎅 {result}원치 먹었다.\")\n"
   ]
  },
  {
   "cell_type": "code",
   "execution_count": 3,
   "id": "1046e6f4-4378-4e12-9424-022ee3a1b7b9",
   "metadata": {},
   "outputs": [],
   "source": [
    "jimin=Dduk(2000,3)"
   ]
  },
  {
   "cell_type": "code",
   "execution_count": 2,
   "id": "ee774f09-6f35-46eb-a21b-1cdb6f272d13",
   "metadata": {},
   "outputs": [
    {
     "ename": "NameError",
     "evalue": "name 'jimin' is not defined",
     "output_type": "error",
     "traceback": [
      "\u001b[1;31m---------------------------------------------------------------------------\u001b[0m",
      "\u001b[1;31mNameError\u001b[0m                                 Traceback (most recent call last)",
      "Cell \u001b[1;32mIn[2], line 1\u001b[0m\n\u001b[1;32m----> 1\u001b[0m \u001b[43mjimin\u001b[49m\u001b[38;5;241m.\u001b[39mdduk()\n\u001b[0;32m      2\u001b[0m jimin\u001b[38;5;241m.\u001b[39modeng()\n",
      "\u001b[1;31mNameError\u001b[0m: name 'jimin' is not defined"
     ]
    }
   ],
   "source": [
    "\n",
    "jimin.dduk()\n",
    "jimin.odeng()"
   ]
  },
  {
   "cell_type": "markdown",
   "id": "a1ed2915-e77c-47a1-b74f-51a9aea5eb79",
   "metadata": {},
   "source": [
    "# 예제들"
   ]
  },
  {
   "cell_type": "code",
   "execution_count": 7,
   "id": "c9ad5d1c-2025-4e6b-b741-02401e41d5d0",
   "metadata": {},
   "outputs": [
    {
     "name": "stdout",
     "output_type": "stream",
     "text": [
      "ㅎㅇㅎㅇ\n"
     ]
    }
   ],
   "source": [
    "#test\n",
    "def test():\n",
    "    \"\"\"\n",
    "    dfsdfsdfdsdffff .DocString\n",
    "    \"\"\"\n",
    "    #주석처럼 없어짐\n",
    "    print(\"ㅎㅇㅎㅇ\")\n",
    "test()"
   ]
  },
  {
   "cell_type": "code",
   "execution_count": 8,
   "id": "6a4f1b4c-dadd-47a2-827f-7f4510206a5c",
   "metadata": {},
   "outputs": [
    {
     "name": "stdout",
     "output_type": "stream",
     "text": [
      "\n",
      "dfsdfsdfdsdffff\n",
      "\n"
     ]
    }
   ],
   "source": [
    "print(test.__doc__)"
   ]
  },
  {
   "cell_type": "code",
   "execution_count": 9,
   "id": "21a9da24-f55b-4ec5-ac19-a46e525713b3",
   "metadata": {},
   "outputs": [
    {
     "name": "stdout",
     "output_type": "stream",
     "text": [
      "Help on function test in module __main__:\n",
      "\n",
      "test()\n",
      "    dfsdfsdfdsdffff\n",
      "\n"
     ]
    }
   ],
   "source": [
    "help(test)"
   ]
  },
  {
   "cell_type": "code",
   "execution_count": null,
   "id": "839bf906-f06c-47c4-86b0-f0ac37959905",
   "metadata": {},
   "outputs": [],
   "source": [
    "#테스트 2\n",
    "#class self 없이 함수 만들기\n",
    "\n",
    "def set_car(name, color):\n",
    "    return {\"name\":name, \"color\":color }\n",
    "#print(set_car(\"HD\",\"blue \"))\n",
    "\n",
    "def get_car_info(car):\n",
    "    return f\"Car:{car['name']},Color:{car['color']}\"\n",
    "\n",
    "def acc(self,amount)\n",
    "\n",
    "#자동차 생성\n",
    "car = set_car(\"HD\",\"Blue\")\n",
    "#자동차 정보 생성\n",
    "print(get_car_info(car))\n",
    "\n",
    "print(get_car_info(set_car(\"Kia\",\"White\")))"
   ]
  },
  {
   "cell_type": "code",
   "execution_count": 3,
   "id": "21693222-37ba-419d-881d-713db9f686a8",
   "metadata": {},
   "outputs": [
    {
     "name": "stdout",
     "output_type": "stream",
     "text": [
      "Car:HD,Color:Black\n",
      "Car:Kia,Color:Gray\n",
      "Car:HD 속도 올려요. 현재 속도는 30km/h\n",
      "Car:HD 속도 올려요. 현재 속도는 40km/h\n",
      "Car:Kia 속도 올려요. 현재 속도는 50km/h\n"
     ]
    }
   ],
   "source": [
    "class Car:\n",
    "    def __init__(self,name,color):\n",
    "        self.name = name\n",
    "        self.color = color\n",
    "        self.speed = 0\n",
    "    \n",
    "#print(set_car(\"HD\",\"blue \"))\n",
    "\n",
    "    def get_car_info(self):\n",
    "        return f\"Car:{self.name},Color:{self.color}\"\n",
    "    def acc(self,amount):\n",
    "        self.speed +=amount\n",
    "        return f\"Car:{self.name} 속도 올려요. 현재 속도는 {self.speed}km/h\"\n",
    "\n",
    "car1 = Car(\"HD\",\"Black\")\n",
    "car2 = Car(\"Kia\",\"Gray\")\n",
    "\n",
    "print(car1.get_car_info())\n",
    "print(car2.get_car_info())\n",
    "\n",
    "print(car1.acc(30))\n",
    "print(car1.acc(10))\n",
    "print(car2.acc(50))\n",
    "\n"
   ]
  },
  {
   "cell_type": "code",
   "execution_count": 4,
   "id": "a6b01885-5090-43d9-a450-490e21d1a32d",
   "metadata": {},
   "outputs": [
    {
     "name": "stdout",
     "output_type": "stream",
     "text": [
      "Car:HD 속도 올려요. 현재 속도는 41km/h\n",
      "Car:HD 속도 올려요. 현재 속도는 42km/h\n",
      "Car:HD 속도 올려요. 현재 속도는 43km/h\n",
      "Car:HD 속도 올려요. 현재 속도는 44km/h\n",
      "Car:HD 속도 올려요. 현재 속도는 45km/h\n",
      "Car:HD 속도 올려요. 현재 속도는 46km/h\n",
      "Car:HD 속도 올려요. 현재 속도는 47km/h\n",
      "Car:HD 속도 올려요. 현재 속도는 48km/h\n",
      "Car:HD 속도 올려요. 현재 속도는 49km/h\n",
      "Car:HD 속도 올려요. 현재 속도는 50km/h\n",
      "40km/h 유지중...\n"
     ]
    }
   ],
   "source": [
    "import time as t\n",
    "for n in range(10):\n",
    "    print(car1.acc(1))\n",
    "    t.sleep(1)\n",
    "print(\"40km/h 유지중...\")"
   ]
  },
  {
   "cell_type": "code",
   "execution_count": 6,
   "id": "02681a68-7c5a-4fc4-9903-e52d00801335",
   "metadata": {},
   "outputs": [],
   "source": [
    "# class Car:\n",
    "#     def __init__(self,name,color):\n",
    "#         self.name = name\n",
    "#         self.color = color\n",
    "#         self.speed = 0\n",
    "\n",
    "#     def acc(self, value):  # 가속 기능\n",
    "#         self.speed += value\n",
    "#         return f\"{self.name}의 현재 속도는 {self.speed} km/h 입니다.\""
   ]
  },
  {
   "cell_type": "code",
   "execution_count": 8,
   "id": "3253c8aa-fc1d-4a83-9c51-b9473a2553b0",
   "metadata": {},
   "outputs": [
    {
     "name": "stdout",
     "output_type": "stream",
     "text": [
      "Kia의 현재 속도는 20 km/h 입니다.\n",
      "mycar\n"
     ]
    }
   ],
   "source": [
    "#상속\n",
    "\n",
    "\n",
    "    class MyCar(Car):\n",
    "    def turbo(self):\n",
    "        self.speed += 50\n",
    "        return(f\"내차가 나른다 {self.speed} km/h\")\n",
    "    def acc(self):\n",
    "        self.speed +=30 #속도 증가\n",
    "        return f\"{self.name}\"\n",
    "\n",
    "my = MyCar(\"mycar\",\"skyblue\")\n",
    "car0 = Car(\"Kia\",\"Gray\")\n",
    "\n",
    "print(car0.acc(20))\n",
    "print(my.acc())\n",
    "\n",
    "\n",
    "#객체 지향\n",
    "#객체지향 핵심\n",
    "#캡슐화: __speed = 0 외부에서 직접 접근 못함\n"
   ]
  },
  {
   "cell_type": "raw",
   "id": "b4a14dc4-c95d-4caf-8a92-85f58158c880",
   "metadata": {},
   "source": [
    "class Pet:\n",
    "    def __init__(self,name,species):\n",
    "    #펫 생성\n",
    "        self.name = name\n",
    "        self.species = species\n",
    "        self.hunger = 50              #초기배고픔수치\n",
    "    def feed(self):\n",
    "        if self.hunger > 10:\n",
    "            self.hunger -= 10\n",
    "            return f\"{self.name}에게 밥을 줬습니다. 배고픔:{self.hunger}\"\n",
    "            \n",
    "    def play(self):\n",
    "        #놀아주면 배고픔 증가\n",
    "        if self.hunger<=80:\n",
    "            self.hunger +=20\n",
    "        return f\"{self.name}와 잘 놀아줬어요 배고픔:{self.hunger}\"\n",
    "        "
   ]
  },
  {
   "cell_type": "code",
   "execution_count": 14,
   "id": "7a9a7e83-f98c-4d1a-9237-b0797e3bfb94",
   "metadata": {},
   "outputs": [
    {
     "name": "stdout",
     "output_type": "stream",
     "text": [
      "뽀삐에게 밥을 줬습니다. 배고픔:40\n",
      "뽀삐에게 밥을 줬습니다. 배고픔:30\n",
      "아지와 잘 놀아줬어요 배고픔:70\n",
      "아지에게 밥을 줬습니다. 배고픔:60\n",
      "아지와 잘 놀아줬어요 배고픔:80\n",
      "뽀삐와 잘 놀아줬어요 배고픔:50\n",
      "컁와 잘 놀아줬어요 배고픔:70\n"
     ]
    }
   ],
   "source": [
    "dog1 = Pet(\"뽀삐\",\"말티즈\")\n",
    "dog2 = Pet(\"아지\",\"요크\")\n",
    "cat = Pet(\"컁\",\"나만고양없어\")\n",
    "print(dog1.feed())\n",
    "print(dog1.feed())\n",
    "print(dog2.play())\n",
    "print(dog2.feed())\n",
    "print(dog2.play())\n",
    "print(dog1.play())\n",
    "print(cat.play())"
   ]
  },
  {
   "cell_type": "markdown",
   "id": "1ba40c73-aaf9-4647-bb3b-146d94913050",
   "metadata": {},
   "source": [
    "# 객체지향 \n",
    "캡슐화 : __speed= 0 외부에서 직접접근 못함 수정 못하게\n",
    "상속 :마이카가 카의 기능을 상속\n",
    "다형성: acc()사용한 것 (같은 이름이지만 기능이 다름)\n",
    "클래스 : 클래스 카\n",
    "객체 카1 : car1 = Car(\"HD\",\"Black\")\n",
    "\n",
    "\n"
   ]
  },
  {
   "cell_type": "code",
   "execution_count": 29,
   "id": "0c8029c4-2957-45d0-8a3c-aa198903b411",
   "metadata": {},
   "outputs": [
    {
     "name": "stdout",
     "output_type": "stream",
     "text": [
      "잔액이 2000원으로 증가했습니다.\n",
      "콜라을(를) 구매했습니다! 남은 잔액: 500원\n",
      "잔액이 부족합니다! (사이다 가격: 1400원, 현재 잔액: 500원)\n",
      "잔액 500원이 반환되었습니다.\n"
     ]
    }
   ],
   "source": [
    "class VendingMachine:\n",
    "    def __init__(self):\n",
    "        \"\"\"자동판매기 초기화\"\"\"\n",
    "        self.balance = 0  # 사용자의 잔액\n",
    "        self.items = {  # 상품 목록 (이름: 가격)\n",
    "            \"콜라\": 1500,\n",
    "            \"사이다\": 1400,\n",
    "            \"물\": 1000\n",
    "        }\n",
    "    def insert_money(self, amount):\n",
    "        \"\"\"잔액 충전\"\"\"\n",
    "        self.balance += amount\n",
    "        return f\"잔액이 {self.balance}원으로 증가했습니다.\"\n",
    "    def buy_item(self, item_name):\n",
    "        \"\"\"상품 구매\"\"\"\n",
    "        if item_name not in self.items:\n",
    "            return f\"{item_name}은(는) 판매하지 않는 상품입니다.\"\n",
    "        price = self.items[item_name]\n",
    "        if self.balance < price:\n",
    "            return f\"잔액이 부족합니다! ({item_name} 가격: {price}원, 현재 잔액: {self.balance}원)\"\n",
    "        self.balance -= price\n",
    "        return f\"{item_name}을(를) 구매했습니다! 남은 잔액: {self.balance}원\"\n",
    "    def refund(self):\n",
    "        \"\"\"잔액 반환\"\"\"\n",
    "        amount = self.balance\n",
    "        self.balance = 0\n",
    "        return f\"잔액 {amount}원이 반환되었습니다.\"\n",
    "# 자동판매기 객체 생성\n",
    "vm = VendingMachine()\n",
    "# 잔액 충전\n",
    "print(vm.insert_money(2000))  # 잔액이 2000원으로 증가했습니다.\n",
    "# 상품 구매\n",
    "print(vm.buy_item(\"콜라\"))  # 콜라을(를) 구매했습니다! 남은 잔액: 500원\n",
    "print(vm.buy_item(\"사이다\"))  # 잔액이 부족합니다! (사이다 가격: 1400원, 현재 잔액: 500원)\n",
    "# 잔액 반환\n",
    "print(vm.refund())  # 잔액 500원이 반환되었습니다."
   ]
  },
  {
   "cell_type": "code",
   "execution_count": null,
   "id": "44e195ca-0106-4494-8250-b8abd9830c48",
   "metadata": {},
   "outputs": [],
   "source": []
  }
 ],
 "metadata": {
  "kernelspec": {
   "display_name": "Python 3 (ipykernel)",
   "language": "python",
   "name": "python3"
  },
  "language_info": {
   "codemirror_mode": {
    "name": "ipython",
    "version": 3
   },
   "file_extension": ".py",
   "mimetype": "text/x-python",
   "name": "python",
   "nbconvert_exporter": "python",
   "pygments_lexer": "ipython3",
   "version": "3.13.1"
  }
 },
 "nbformat": 4,
 "nbformat_minor": 5
}
