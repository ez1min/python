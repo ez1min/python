{
 "cells": [
  {
   "cell_type": "code",
   "execution_count": 37,
   "id": "a5f4e8ff-68f5-44ec-9acc-58d786ef7b08",
   "metadata": {},
   "outputs": [],
   "source": [
    "import random as r\n",
    "\n",
    "box_list = []        # 모든 리스트 저장\n",
    "\n",
    "path = \"./testfile\"\n",
    "f = open(path + \"lotto.txt\", \"w\", encoding =\"utf-8\")\n",
    "\n",
    "# 100번 리스트 생성\n",
    "for _ in range(10):\n",
    "    box = sorted(r.sample(range(1, 46), 6))  # 1~45 중 오름차순으로 6개 숫자 뽑기\n",
    "    box_list.extend(box)                    # 모든 숫자 저장\n",
    "    #print(box)                              # 생성된 리스트 출력\n",
    "    f.write(str(box)+\"\\n\")\n",
    "\n",
    "\n",
    "f.close()"
   ]
  },
  {
   "cell_type": "code",
   "execution_count": 43,
   "id": "8dfdd981-6d99-4627-acae-62d4f27958f2",
   "metadata": {},
   "outputs": [
    {
     "name": "stdout",
     "output_type": "stream",
     "text": [
      "C:\\Dev\\Lang\\Python313\\Lib\\site-packages\\ipykernel_launcher.py\n",
      "-f\n",
      "C:\\Users\\Admin\\AppData\\Roaming\\jupyter\\runtime\\kernel-c3236f53-b814-4940-9616-293de5ee093a.json\n"
     ]
    }
   ],
   "source": [
    "\n",
    "import sys\n",
    "args  = sys.argv\n",
    "for i in args:\n",
    "    print(i)"
   ]
  },
  {
   "cell_type": "raw",
   "id": "d12e2742-929c-4607-9e46-2604d8d01306",
   "metadata": {},
   "source": [
    "\n"
   ]
  }
 ],
 "metadata": {
  "kernelspec": {
   "display_name": "Python 3 (ipykernel)",
   "language": "python",
   "name": "python3"
  },
  "language_info": {
   "codemirror_mode": {
    "name": "ipython",
    "version": 3
   },
   "file_extension": ".py",
   "mimetype": "text/x-python",
   "name": "python",
   "nbconvert_exporter": "python",
   "pygments_lexer": "ipython3",
   "version": "3.13.1"
  }
 },
 "nbformat": 4,
 "nbformat_minor": 5
}
